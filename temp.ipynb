{
 "cells": [
  {
   "cell_type": "code",
   "execution_count": 18,
   "metadata": {},
   "outputs": [],
   "source": [
    "from NAS import utils, error_metrics\n",
    "import pandas as pd\n",
    "from utils import getDataLaser, getDataMGS, getDataLorenz, getDataDDE\n",
    "import numpy as np\n",
    "import math\n",
    "from utils import getDataSunspots\n",
    "from reservoirpy.observables import (mse)"
   ]
  },
  {
   "cell_type": "code",
   "execution_count": null,
   "metadata": {},
   "outputs": [
    {
     "name": "stdout",
     "output_type": "stream",
     "text": [
      "0.35836079932984\n"
     ]
    }
   ],
   "source": [
    "\n",
    "\n",
    "\n",
    "trainX, trainY, valX, valY, testX, testY = getDataSunspots()\n",
    "nas_architecture = {'nodes': [{'type': 'Input', 'params': {'input_dim': 1}}, {'type': 'Ridge', 'params': {'output_dim': 1, 'ridge': 8.815207271991613e-05}}, {'type': 'NVAR', 'params': {'delay': 3, 'order': 1, 'strides': 3}}, {'type': 'RLS', 'params': {'output_dim': 1, 'alpha': 0.5630569056502455}}, {'type': 'Ridge', 'params': {'output_dim': 1, 'ridge': 3.611959023747037e-05}}], 'edges': [[0, 1], [0, 2], [0, 3], [1, 4], [2, 4], [3, 4]]}\n",
    "\n",
    "model = utils.constructModel(nas_architecture)\n",
    "\n",
    "\n",
    "def nrmse(y_true, y_pred):\n",
    "    mseError = mse(y_true, y_pred)\n",
    "    variance = np.asarray(y_true).var()\n",
    "    error = np.sqrt(mseError/variance)\n",
    "    if math.isnan(error):\n",
    "        return np.inf\n",
    "    else:\n",
    "        return error\n",
    "    \n",
    "print(utils.evaluateArchitecture(nas_architecture, np.concatenate([trainX, valX]), np.concatenate([trainY, valY]), testX, testY, [nrmse]))"
   ]
  },
  {
   "cell_type": "code",
   "execution_count": null,
   "metadata": {},
   "outputs": [
    {
     "name": "stdout",
     "output_type": "stream",
     "text": [
      "0.6888956093872487\n"
     ]
    }
   ],
   "source": [
    "\n",
    "\n",
    "trainX, trainY, valX, valY, testX, testY = getDataLaser()\n",
    "architecture = {'nodes': [{'type': 'Input', 'params': {'input_dim': 1}}, {'type': 'Reservoir', 'params': {'units': 1024, 'lr': 0.41, 'sr': 0.906, 'input_connectivity': 0.84, 'rc_connectivity': 0.84}}, {'type': 'Ridge', 'params': {'output_dim': 1, 'ridge': 8.1e-07}}], 'edges': [[0, 1], [1, 2]]}\n",
    "\n",
    "model = utils.constructModel(architecture)\n",
    "\n",
    "print(utils.evaluateArchitectureAutoRegressive(architecture, trainX, trainY, valX, valY, [error_metrics.nrmse]))"
   ]
  },
  {
   "cell_type": "code",
   "execution_count": 32,
   "metadata": {},
   "outputs": [
    {
     "name": "stdout",
     "output_type": "stream",
     "text": [
      "0.8885270549699857\n"
     ]
    }
   ],
   "source": [
    "trainX, trainY, valX, valY, testX, testY = getDataMGS()\n",
    "architecture = {'nodes': [{'type': 'Input', 'params': {'input_dim': 1}}, {'type': 'Reservoir', 'params': {'units': 2048, 'lr': 0.68, 'sr': 1.406, 'input_connectivity': 0.44, 'rc_connectivity': 0.44}}, {'type': 'Ridge', 'params': {'output_dim': 1, 'ridge': 6.0e-07}}], 'edges': [[0, 1], [1, 2]]}\n",
    "nas_architecture = {'nodes': [{'type': 'Input', 'params': {'input_dim': 1}}, {'type': 'Reservoir', 'params': {'units': 1660, 'lr': 0.34427701292927426, 'sr': 1.2270381377057633, 'input_connectivity': 0.4147305060237401, 'rc_connectivity': 0.49087298684772573}}, {'type': 'IPReservoir', 'params': {'units': 447, 'lr': 0.5359760595377036, 'sr': 0.7741157049691293, 'mu': 0.011353677276304014, 'sigma': 0.5861691946445886, 'learning_rate': 0.005713532714542338, 'input_connectivity': 0.26747551255227403, 'rc_connectivity': 0.32848065021813627}}, {'type': 'IPReservoir', 'params': {'units': 1160, 'lr': 0.4061401883872777, 'sr': 0.9122281135382351, 'mu': -0.09077876757772718, 'sigma': 1.691081200369488, 'learning_rate': 0.0006859369898355882, 'input_connectivity': 0.21486952140283205, 'rc_connectivity': 0.25929905832981254}}, {'type': 'Ridge', 'params': {'output_dim': 1, 'ridge': 9.55510430296289e-05}}, {'type': 'Ridge', 'params': {'output_dim': 1, 'ridge': 8.335295996470314e-05}}], 'edges': [[0, 1], [0, 2], [1, 3], [1, 4], [2, 5], [3, 5], [4, 5]]}\n",
    "\n",
    "model = utils.constructModel(nas_architecture)\n",
    "\n",
    "print(utils.evaluateArchitectureAutoRegressive(nas_architecture, trainX, trainY, valX, valY, [error_metrics.nrmse]))"
   ]
  },
  {
   "cell_type": "code",
   "execution_count": 38,
   "metadata": {},
   "outputs": [
    {
     "name": "stdout",
     "output_type": "stream",
     "text": [
      "0.004954054210418568\n"
     ]
    }
   ],
   "source": [
    "import numpy as np\n",
    "import math\n",
    "\n",
    "trainX, trainY, valX, valY, testX, testY = getDataLorenz()\n",
    "architecture = {'nodes': [{'type': 'Input', 'params': {'input_dim': 3}}, {'type': 'Reservoir', 'params': {'units': 2048, 'lr': 0.88, 'sr': 0.995, 'input_connectivity': 0, 'rc_connectivity': 0}}, {'type': 'Ridge', 'params': {'output_dim': 3, 'ridge': 1.1e-06}}], 'edges': [[0, 1], [1, 2]]}\n",
    "nas_architecture = {'nodes': [{'type': 'Input', 'params': {'input_dim': 3}}, {'type': 'NVAR', 'params': {'delay': 4, 'order': 1, 'strides': 2}}, {'type': 'LMS', 'params': {'output_dim': 3, 'alpha': 0.5369376397330149}}, {'type': 'RLS', 'params': {'output_dim': 3, 'alpha': 0.6645404270828781}}, {'type': 'NVAR', 'params': {'delay': 4, 'order': 2, 'strides': 2}}, {'type': 'Ridge', 'params': {'output_dim': 3, 'ridge': 2.7276796630261358e-05}}], 'edges': [[0, 1], [0, 2], [1, 3], [0, 4], [2, 5], [3, 5], [4, 5]]}\n",
    "\n",
    "model = utils.constructModel(architecture)\n",
    "\n",
    "print(utils.evaluateArchitectureAutoRegressive(nas_architecture, trainX, trainY, valX, valY, [error_metrics.nrmse]))"
   ]
  },
  {
   "cell_type": "code",
   "execution_count": 54,
   "metadata": {},
   "outputs": [
    {
     "name": "stdout",
     "output_type": "stream",
     "text": [
      "0.07899601065852414 0.8536957249043801\n",
      "0.024973521969396218 0.23012103260699987\n",
      "0.04098128372202721 0.34533367718211744\n",
      "0.016373293151741967 0.42441931279925205\n",
      "0.052649667571064235 0.11599376668093746\n",
      "0.04279475541455075\n"
     ]
    }
   ],
   "source": [
    "from utils import readSavedExperiment\n",
    "from NAS.error_metrics import r_squared, nrmse\n",
    "from NAS.utils import runModel\n",
    "\n",
    "trainX, trainY, valX, valY, testX, testY = getDataMGS()\n",
    "\n",
    "def findBestGaArchitecture(ga):\n",
    "    errors = [errors[0] for errors in ga.fitnesses]\n",
    "    gaBestError = min(errors)\n",
    "    gaBestErrorIndex = errors.index(gaBestError)\n",
    "    gaBestModel = ga.architectures[gaBestErrorIndex]\n",
    "    return gaBestModel\n",
    "\n",
    "total = 0\n",
    "gas = [readSavedExperiment(f'./backup_50/mgs/backup_{i}.obj') for i in range(5)]\n",
    "for ga in gas:\n",
    "    model = ga.bestModel\n",
    "    model = utils.trainModel(model, trainX, trainY)\n",
    "    runModel(model, trainX)\n",
    "    \n",
    "    prevOutput = valX[0]\n",
    "    preds = []\n",
    "    for _ in range(len(valX)):\n",
    "        pred = runModel(model, prevOutput)\n",
    "        prevOutput = pred\n",
    "        preds.append(pred[0])\n",
    "    preds = np.array(preds)\n",
    "    err1 = nrmse(valY, preds)\n",
    "    err2 = utils.evaluateArchitectureAutoRegressive(findBestGaArchitecture(ga), trainX, trainY, valX, valY, [nrmse])\n",
    "    print(err1, err2)\n",
    "    total+=err1\n",
    "\n",
    "print(total/5)"
   ]
  },
  {
   "cell_type": "code",
   "execution_count": 5,
   "metadata": {},
   "outputs": [
    {
     "name": "stdout",
     "output_type": "stream",
     "text": [
      "229.71790303488274\n"
     ]
    }
   ],
   "source": [
    "trainX, trainY, valX, valY, testX, testY = getDataDDE()\n",
    "architecture = {'nodes': [{'type': 'Input', 'params': {'input_dim': 6}}, {'type': 'Reservoir', 'params': {'units': 256, 'lr': 0.84, 'sr': 0.995, 'input_connectivity': 0.91, 'rc_connectivity': 0.91}}, {'type': 'Ridge', 'params': {'output_dim': 6, 'ridge': 8.3e-07}}], 'edges': [[0, 1], [1, 2]]}\n",
    "\n",
    "model = utils.constructModel(architecture)\n",
    "\n",
    "print(utils.evaluateArchitectureAutoRegressive(architecture, trainX, trainY, valX, valY, [error_metrics.nrmse, error_metrics.r_squared]))"
   ]
  }
 ],
 "metadata": {
  "kernelspec": {
   "display_name": "venv",
   "language": "python",
   "name": "python3"
  },
  "language_info": {
   "codemirror_mode": {
    "name": "ipython",
    "version": 3
   },
   "file_extension": ".py",
   "mimetype": "text/x-python",
   "name": "python",
   "nbconvert_exporter": "python",
   "pygments_lexer": "ipython3",
   "version": "3.9.0"
  }
 },
 "nbformat": 4,
 "nbformat_minor": 2
}
