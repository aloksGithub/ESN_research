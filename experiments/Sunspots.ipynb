{
 "cells": [
  {
   "cell_type": "code",
   "execution_count": 2,
   "metadata": {},
   "outputs": [],
   "source": [
    "from tabulate import tabulate\n",
    "from reservoirpy.nodes import (Reservoir, IPReservoir, NVAR, LMS, RLS, Ridge, ESN)\n",
    "from reservoirpy.datasets import (lorenz, mackey_glass, narma)\n",
    "from reservoirpy.observables import (rmse, rsquare, nrmse, mse)\n",
    "import numpy as np\n",
    "import copy\n",
    "import math\n",
    "from numpy import linalg as LA\n",
    "import pandas as pd\n",
    "from bayes_opt import BayesianOptimization"
   ]
  },
  {
   "cell_type": "code",
   "execution_count": 39,
   "metadata": {},
   "outputs": [],
   "source": [
    "def getData():\n",
    "    sunspots = pd.read_csv(\"../datasets/Sunspots.csv\")\n",
    "    data = sunspots.loc[:,\"Monthly Mean Total Sunspot Number\"]\n",
    "    data1 = np.expand_dims(data[:-20], axis=1)\n",
    "    data2 = np.expand_dims(data[10:-10], axis=1)\n",
    "    data3 = np.expand_dims(data[20:], axis=1)\n",
    "    y = data3[1:]\n",
    "    x = np.concatenate([data1, data2, data3], axis=-1)[:-1]\n",
    "\n",
    "    trainX = x[:2100]\n",
    "    trainY = y[:2100]\n",
    "    testX = x[2100:]\n",
    "    testY = y[2100:]\n",
    "    return trainX, trainY, testX, testY"
   ]
  },
  {
   "cell_type": "code",
   "execution_count": 40,
   "metadata": {},
   "outputs": [],
   "source": [
    "def testDefault():\n",
    "    def blackbox(**params):\n",
    "        esn = Reservoir(units=int(params['units']), sr=params['sr'], rc_connectivity=params['rc_connectivity']) >> Ridge(output_dim=1, ridge=params['ridge'])\n",
    "        x, y, _, _ = getData()\n",
    "        trainX = x[:1100]\n",
    "        trainY = y[:1100]\n",
    "        valX = x[1100:]\n",
    "        valY = y[1100:]\n",
    "\n",
    "        esn.fit(trainX, trainY, warmup=100)\n",
    "        preds = esn.run(valX)\n",
    "        return 1/nrmse(valY, preds)\n",
    "    \n",
    "    pbounds = {'units': (100, 1000), 'sr': (0.1, 1.2), 'rc_connectivity': (0.008, 0.02), 'ridge': (1e-6, 1e-4)}\n",
    "    \n",
    "    optimizer = BayesianOptimization(\n",
    "        f=blackbox,\n",
    "        pbounds=pbounds,\n",
    "        random_state=1,\n",
    "    )\n",
    "\n",
    "    optimizer.maximize(\n",
    "        init_points=20,\n",
    "        n_iter=25,\n",
    "    )\n",
    "\n",
    "    params = optimizer.max['params']\n",
    "    bestEsn = Reservoir(units=int(params['units']), sr=params['sr'], rc_connectivity=params['rc_connectivity']) >> Ridge(output_dim=1, ridge=params['ridge'])\n",
    "    trainX, trainY, testX, testY = getData()\n",
    "    bestEsn.fit(trainX, trainY, warmup=100)\n",
    "    preds = bestEsn.run(testX)\n",
    "    return nrmse(testY, preds)\n"
   ]
  },
  {
   "cell_type": "code",
   "execution_count": 58,
   "metadata": {},
   "outputs": [
    {
     "name": "stdout",
     "output_type": "stream",
     "text": [
      "|   iter    |  target   | rc_con... |   ridge   |    sr     |   units   |\n",
      "-------------------------------------------------------------------------\n"
     ]
    },
    {
     "name": "stderr",
     "output_type": "stream",
     "text": [
      "Running Model-807: 1100it [00:00, 20626.68it/s]         \n",
      "Running Model-807: 100%|██████████| 1/1 [00:00<00:00, 17.25it/s]\n"
     ]
    },
    {
     "name": "stdout",
     "output_type": "stream",
     "text": [
      "Fitting node Ridge-612...\n"
     ]
    },
    {
     "name": "stderr",
     "output_type": "stream",
     "text": [
      "Running Model-807: 999it [00:00, 21745.79it/s]          \n"
     ]
    },
    {
     "name": "stdout",
     "output_type": "stream",
     "text": [
      "| \u001b[0m1        \u001b[0m | \u001b[0m5.253    \u001b[0m | \u001b[0m0.013    \u001b[0m | \u001b[0m7.231e-05\u001b[0m | \u001b[0m0.1001   \u001b[0m | \u001b[0m372.1    \u001b[0m |\n"
     ]
    },
    {
     "name": "stderr",
     "output_type": "stream",
     "text": [
      "Running Model-808: 1100it [00:00, 20696.07it/s]         \n",
      "Running Model-808: 100%|██████████| 1/1 [00:00<00:00, 17.35it/s]\n"
     ]
    },
    {
     "name": "stdout",
     "output_type": "stream",
     "text": [
      "Fitting node Ridge-613...\n"
     ]
    },
    {
     "name": "stderr",
     "output_type": "stream",
     "text": [
      "Running Model-808: 999it [00:00, 22152.43it/s]          \n"
     ]
    },
    {
     "name": "stdout",
     "output_type": "stream",
     "text": [
      "| \u001b[95m2        \u001b[0m | \u001b[95m5.304    \u001b[0m | \u001b[95m0.009761 \u001b[0m | \u001b[95m1.014e-05\u001b[0m | \u001b[95m0.3049   \u001b[0m | \u001b[95m411.0    \u001b[0m |\n"
     ]
    },
    {
     "name": "stderr",
     "output_type": "stream",
     "text": [
      "Running Model-809: 1100it [00:00, 19065.81it/s]         \n",
      "Running Model-809: 100%|██████████| 1/1 [00:00<00:00, 15.34it/s]\n"
     ]
    },
    {
     "name": "stdout",
     "output_type": "stream",
     "text": [
      "Fitting node Ridge-614...\n"
     ]
    },
    {
     "name": "stderr",
     "output_type": "stream",
     "text": [
      "Running Model-809: 999it [00:00, 20077.96it/s]          \n"
     ]
    },
    {
     "name": "stdout",
     "output_type": "stream",
     "text": [
      "| \u001b[0m3        \u001b[0m | \u001b[0m5.038    \u001b[0m | \u001b[0m0.01276  \u001b[0m | \u001b[0m5.434e-05\u001b[0m | \u001b[0m0.5611   \u001b[0m | \u001b[0m716.7    \u001b[0m |\n"
     ]
    },
    {
     "name": "stderr",
     "output_type": "stream",
     "text": [
      "Running Model-810: 1100it [00:00, 18061.06it/s]         \n",
      "Running Model-810: 100%|██████████| 1/1 [00:00<00:00, 14.50it/s]\n"
     ]
    },
    {
     "name": "stdout",
     "output_type": "stream",
     "text": [
      "Fitting node Ridge-615...\n"
     ]
    },
    {
     "name": "stderr",
     "output_type": "stream",
     "text": [
      "Running Model-810: 999it [00:00, 20034.57it/s]          \n"
     ]
    },
    {
     "name": "stdout",
     "output_type": "stream",
     "text": [
      "| \u001b[0m4        \u001b[0m | \u001b[0m5.281    \u001b[0m | \u001b[0m0.01045  \u001b[0m | \u001b[0m8.793e-05\u001b[0m | \u001b[0m0.1301   \u001b[0m | \u001b[0m703.4    \u001b[0m |\n"
     ]
    },
    {
     "name": "stderr",
     "output_type": "stream",
     "text": [
      "Running Model-811: 1100it [00:00, 21877.34it/s]         \n",
      "Running Model-811: 100%|██████████| 1/1 [00:00<00:00, 18.09it/s]\n"
     ]
    },
    {
     "name": "stdout",
     "output_type": "stream",
     "text": [
      "Fitting node Ridge-616...\n"
     ]
    },
    {
     "name": "stderr",
     "output_type": "stream",
     "text": [
      "Running Model-811: 999it [00:00, 21895.56it/s]          \n"
     ]
    },
    {
     "name": "stdout",
     "output_type": "stream",
     "text": [
      "| \u001b[95m5        \u001b[0m | \u001b[95m5.328    \u001b[0m | \u001b[95m0.01301  \u001b[0m | \u001b[95m5.631e-05\u001b[0m | \u001b[95m0.2544   \u001b[0m | \u001b[95m278.3    \u001b[0m |\n"
     ]
    },
    {
     "name": "stderr",
     "output_type": "stream",
     "text": [
      "Running Model-812: 1100it [00:00, 17258.32it/s]         \n",
      "Running Model-812: 100%|██████████| 1/1 [00:00<00:00, 13.66it/s]\n"
     ]
    },
    {
     "name": "stdout",
     "output_type": "stream",
     "text": [
      "Fitting node Ridge-617...\n"
     ]
    },
    {
     "name": "stderr",
     "output_type": "stream",
     "text": [
      "Running Model-812: 999it [00:00, 19718.81it/s]          \n"
     ]
    },
    {
     "name": "stdout",
     "output_type": "stream",
     "text": [
      "| \u001b[0m6        \u001b[0m | \u001b[0m5.198    \u001b[0m | \u001b[0m0.01761  \u001b[0m | \u001b[0m9.686e-05\u001b[0m | \u001b[0m0.4448   \u001b[0m | \u001b[0m723.1    \u001b[0m |\n"
     ]
    },
    {
     "name": "stderr",
     "output_type": "stream",
     "text": [
      "Running Model-813: 1100it [00:00, 22195.82it/s]         \n",
      "Running Model-813: 100%|██████████| 1/1 [00:00<00:00, 19.03it/s]\n"
     ]
    },
    {
     "name": "stdout",
     "output_type": "stream",
     "text": [
      "Fitting node Ridge-618...\n"
     ]
    },
    {
     "name": "stderr",
     "output_type": "stream",
     "text": [
      "Running Model-813: 999it [00:00, 22681.85it/s]          \n"
     ]
    },
    {
     "name": "stdout",
     "output_type": "stream",
     "text": [
      "| \u001b[0m7        \u001b[0m | \u001b[0m5.235    \u001b[0m | \u001b[0m0.01852  \u001b[0m | \u001b[0m8.957e-05\u001b[0m | \u001b[0m0.1935   \u001b[0m | \u001b[0m135.1    \u001b[0m |\n"
     ]
    },
    {
     "name": "stderr",
     "output_type": "stream",
     "text": [
      "Running Model-814: 1100it [00:00, 18594.32it/s]         \n",
      "Running Model-814: 100%|██████████| 1/1 [00:00<00:00, 15.26it/s]\n"
     ]
    },
    {
     "name": "stdout",
     "output_type": "stream",
     "text": [
      "Fitting node Ridge-619...\n"
     ]
    },
    {
     "name": "stderr",
     "output_type": "stream",
     "text": [
      "Running Model-814: 999it [00:00, 21124.83it/s]          \n"
     ]
    },
    {
     "name": "stdout",
     "output_type": "stream",
     "text": [
      "| \u001b[0m8        \u001b[0m | \u001b[0m5.318    \u001b[0m | \u001b[0m0.01004  \u001b[0m | \u001b[0m8.794e-05\u001b[0m | \u001b[0m0.2082   \u001b[0m | \u001b[0m479.0    \u001b[0m |\n"
     ]
    },
    {
     "name": "stderr",
     "output_type": "stream",
     "text": [
      "Running Model-815: 1100it [00:00, 20843.43it/s]         \n",
      "Running Model-815: 100%|██████████| 1/1 [00:00<00:00, 18.16it/s]\n"
     ]
    },
    {
     "name": "stdout",
     "output_type": "stream",
     "text": [
      "Fitting node Ridge-620...\n"
     ]
    },
    {
     "name": "stderr",
     "output_type": "stream",
     "text": [
      "Running Model-815: 999it [00:00, 21442.11it/s]          "
     ]
    },
    {
     "name": "stdout",
     "output_type": "stream",
     "text": [
      "| \u001b[0m9        \u001b[0m | \u001b[0m4.458    \u001b[0m | \u001b[0m0.01949  \u001b[0m | \u001b[0m5.378e-05\u001b[0m | \u001b[0m0.8611   \u001b[0m | \u001b[0m384.0    \u001b[0m |\n"
     ]
    },
    {
     "name": "stderr",
     "output_type": "stream",
     "text": [
      "\n",
      "Running Model-816: 1100it [00:00, 17780.76it/s]         \n",
      "Running Model-816: 100%|██████████| 1/1 [00:00<00:00, 13.66it/s]\n"
     ]
    },
    {
     "name": "stdout",
     "output_type": "stream",
     "text": [
      "Fitting node Ridge-621...\n"
     ]
    },
    {
     "name": "stderr",
     "output_type": "stream",
     "text": [
      "Running Model-816: 999it [00:00, 19457.03it/s]          \n"
     ]
    },
    {
     "name": "stdout",
     "output_type": "stream",
     "text": [
      "| \u001b[0m10       \u001b[0m | \u001b[0m5.293    \u001b[0m | \u001b[0m0.01624  \u001b[0m | \u001b[0m8.363e-05\u001b[0m | \u001b[0m0.1201   \u001b[0m | \u001b[0m775.1    \u001b[0m |\n"
     ]
    },
    {
     "name": "stderr",
     "output_type": "stream",
     "text": [
      "Running Model-817: 1100it [00:00, 18350.85it/s]         \n",
      "Running Model-817: 100%|██████████| 1/1 [00:00<00:00, 14.40it/s]\n"
     ]
    },
    {
     "name": "stdout",
     "output_type": "stream",
     "text": [
      "Fitting node Ridge-622...\n"
     ]
    },
    {
     "name": "stderr",
     "output_type": "stream",
     "text": [
      "Running Model-817: 999it [00:00, 19284.73it/s]          \n"
     ]
    },
    {
     "name": "stdout",
     "output_type": "stream",
     "text": [
      "| \u001b[0m11       \u001b[0m | \u001b[0m5.278    \u001b[0m | \u001b[0m0.01987  \u001b[0m | \u001b[0m7.507e-05\u001b[0m | \u001b[0m0.4085   \u001b[0m | \u001b[0m810.4    \u001b[0m |\n"
     ]
    },
    {
     "name": "stderr",
     "output_type": "stream",
     "text": [
      "Running Model-818: 1100it [00:00, 21047.39it/s]         \n",
      "Running Model-818: 100%|██████████| 1/1 [00:00<00:00, 17.72it/s]\n"
     ]
    },
    {
     "name": "stdout",
     "output_type": "stream",
     "text": [
      "Fitting node Ridge-623...\n"
     ]
    },
    {
     "name": "stderr",
     "output_type": "stream",
     "text": [
      "Running Model-818: 999it [00:00, 21986.67it/s]          "
     ]
    },
    {
     "name": "stdout",
     "output_type": "stream",
     "text": [
      "| \u001b[0m12       \u001b[0m | \u001b[0m3.422    \u001b[0m | \u001b[0m0.009239 \u001b[0m | \u001b[0m4.534e-05\u001b[0m | \u001b[0m1.099    \u001b[0m | \u001b[0m364.3    \u001b[0m |\n"
     ]
    },
    {
     "name": "stderr",
     "output_type": "stream",
     "text": [
      "\n",
      "Running Model-819: 1100it [00:00, 18875.48it/s]         \n",
      "Running Model-819: 100%|██████████| 1/1 [00:00<00:00, 14.97it/s]\n"
     ]
    },
    {
     "name": "stdout",
     "output_type": "stream",
     "text": [
      "Fitting node Ridge-624...\n"
     ]
    },
    {
     "name": "stderr",
     "output_type": "stream",
     "text": [
      "Running Model-819: 999it [00:00, 20695.78it/s]          \n"
     ]
    },
    {
     "name": "stdout",
     "output_type": "stream",
     "text": [
      "| \u001b[0m13       \u001b[0m | \u001b[0m5.299    \u001b[0m | \u001b[0m0.01145  \u001b[0m | \u001b[0m1.387e-05\u001b[0m | \u001b[0m0.1213   \u001b[0m | \u001b[0m711.0    \u001b[0m |\n"
     ]
    },
    {
     "name": "stderr",
     "output_type": "stream",
     "text": [
      "Running Model-820: 1100it [00:00, 22875.15it/s]         \n",
      "Running Model-820: 100%|██████████| 1/1 [00:00<00:00, 19.53it/s]\n"
     ]
    },
    {
     "name": "stdout",
     "output_type": "stream",
     "text": [
      "Fitting node Ridge-625...\n"
     ]
    },
    {
     "name": "stderr",
     "output_type": "stream",
     "text": [
      "Running Model-820: 999it [00:00, 22874.15it/s]          "
     ]
    },
    {
     "name": "stdout",
     "output_type": "stream",
     "text": [
      "| \u001b[0m14       \u001b[0m | \u001b[0m5.322    \u001b[0m | \u001b[0m0.01054  \u001b[0m | \u001b[0m2.729e-05\u001b[0m | \u001b[0m0.6407   \u001b[0m | \u001b[0m148.0    \u001b[0m |\n"
     ]
    },
    {
     "name": "stderr",
     "output_type": "stream",
     "text": [
      "\n",
      "Running Model-821: 1100it [00:00, 19204.61it/s]         \n",
      "Running Model-821: 100%|██████████| 1/1 [00:00<00:00, 15.08it/s]\n"
     ]
    },
    {
     "name": "stdout",
     "output_type": "stream",
     "text": [
      "Fitting node Ridge-626...\n"
     ]
    },
    {
     "name": "stderr",
     "output_type": "stream",
     "text": [
      "Running Model-821: 999it [00:00, 19031.33it/s]          \n"
     ]
    },
    {
     "name": "stdout",
     "output_type": "stream",
     "text": [
      "| \u001b[0m15       \u001b[0m | \u001b[0m2.955    \u001b[0m | \u001b[0m0.01489  \u001b[0m | \u001b[0m1.553e-05\u001b[0m | \u001b[0m0.7482   \u001b[0m | \u001b[0m729.8    \u001b[0m |\n"
     ]
    },
    {
     "name": "stderr",
     "output_type": "stream",
     "text": [
      "Running Model-822: 1100it [00:00, 20785.49it/s]         \n",
      "Running Model-822: 100%|██████████| 1/1 [00:00<00:00, 17.26it/s]\n"
     ]
    },
    {
     "name": "stdout",
     "output_type": "stream",
     "text": [
      "Fitting node Ridge-627...\n"
     ]
    },
    {
     "name": "stderr",
     "output_type": "stream",
     "text": [
      "Running Model-822: 999it [00:00, 21265.92it/s]          \n"
     ]
    },
    {
     "name": "stdout",
     "output_type": "stream",
     "text": [
      "| \u001b[0m16       \u001b[0m | \u001b[0m3.957    \u001b[0m | \u001b[0m0.009228 \u001b[0m | \u001b[0m4.199e-05\u001b[0m | \u001b[0m0.8638   \u001b[0m | \u001b[0m472.8    \u001b[0m |\n"
     ]
    },
    {
     "name": "stderr",
     "output_type": "stream",
     "text": [
      "Running Model-823: 1100it [00:00, 18315.74it/s]         \n",
      "Running Model-823: 100%|██████████| 1/1 [00:00<00:00, 14.45it/s]\n"
     ]
    },
    {
     "name": "stdout",
     "output_type": "stream",
     "text": [
      "Fitting node Ridge-628...\n"
     ]
    },
    {
     "name": "stderr",
     "output_type": "stream",
     "text": [
      "Running Model-823: 999it [00:00, 20820.94it/s]          \n"
     ]
    },
    {
     "name": "stdout",
     "output_type": "stream",
     "text": [
      "| \u001b[0m17       \u001b[0m | \u001b[0m3.762    \u001b[0m | \u001b[0m0.008599 \u001b[0m | \u001b[0m5.405e-05\u001b[0m | \u001b[0m0.8302   \u001b[0m | \u001b[0m563.4    \u001b[0m |\n"
     ]
    },
    {
     "name": "stderr",
     "output_type": "stream",
     "text": [
      "Running Model-824: 1100it [00:00, 22250.73it/s]         \n",
      "Running Model-824: 100%|██████████| 1/1 [00:00<00:00, 18.53it/s]\n"
     ]
    },
    {
     "name": "stdout",
     "output_type": "stream",
     "text": [
      "Fitting node Ridge-629...\n"
     ]
    },
    {
     "name": "stderr",
     "output_type": "stream",
     "text": [
      "Running Model-824: 999it [00:00, 23330.75it/s]          \n"
     ]
    },
    {
     "name": "stdout",
     "output_type": "stream",
     "text": [
      "| \u001b[0m18       \u001b[0m | \u001b[0m3.148    \u001b[0m | \u001b[0m0.01934  \u001b[0m | \u001b[0m5.907e-05\u001b[0m | \u001b[0m1.094    \u001b[0m | \u001b[0m223.7    \u001b[0m |\n"
     ]
    },
    {
     "name": "stderr",
     "output_type": "stream",
     "text": [
      "Running Model-825: 1100it [00:00, 22369.51it/s]         \n",
      "Running Model-825: 100%|██████████| 1/1 [00:00<00:00, 19.35it/s]\n"
     ]
    },
    {
     "name": "stdout",
     "output_type": "stream",
     "text": [
      "Fitting node Ridge-630...\n"
     ]
    },
    {
     "name": "stderr",
     "output_type": "stream",
     "text": [
      "Running Model-825: 999it [00:00, 23120.40it/s]          \n"
     ]
    },
    {
     "name": "stdout",
     "output_type": "stream",
     "text": [
      "| \u001b[95m19       \u001b[0m | \u001b[95m5.358    \u001b[0m | \u001b[95m0.009671 \u001b[0m | \u001b[95m8.093e-05\u001b[0m | \u001b[95m0.5374   \u001b[0m | \u001b[95m248.8    \u001b[0m |\n"
     ]
    },
    {
     "name": "stderr",
     "output_type": "stream",
     "text": [
      "Running Model-826: 1100it [00:00, 18034.23it/s]         \n",
      "Running Model-826: 100%|██████████| 1/1 [00:00<00:00, 14.46it/s]\n"
     ]
    },
    {
     "name": "stdout",
     "output_type": "stream",
     "text": [
      "Fitting node Ridge-631...\n"
     ]
    },
    {
     "name": "stderr",
     "output_type": "stream",
     "text": [
      "Running Model-826: 999it [00:00, 19559.39it/s]          \n"
     ]
    },
    {
     "name": "stdout",
     "output_type": "stream",
     "text": [
      "| \u001b[0m20       \u001b[0m | \u001b[0m2.499    \u001b[0m | \u001b[0m0.01913  \u001b[0m | \u001b[0m3.543e-05\u001b[0m | \u001b[0m0.9259   \u001b[0m | \u001b[0m753.4    \u001b[0m |\n"
     ]
    },
    {
     "name": "stderr",
     "output_type": "stream",
     "text": [
      "Running Model-827: 1100it [00:00, 21967.97it/s]         \n",
      "Running Model-827: 100%|██████████| 1/1 [00:00<00:00, 18.84it/s]\n"
     ]
    },
    {
     "name": "stdout",
     "output_type": "stream",
     "text": [
      "Fitting node Ridge-632...\n"
     ]
    },
    {
     "name": "stderr",
     "output_type": "stream",
     "text": [
      "Running Model-827: 999it [00:00, 21159.71it/s]          \n"
     ]
    },
    {
     "name": "stdout",
     "output_type": "stream",
     "text": [
      "| \u001b[0m21       \u001b[0m | \u001b[0m5.149    \u001b[0m | \u001b[0m0.01397  \u001b[0m | \u001b[0m1.446e-05\u001b[0m | \u001b[0m0.8436   \u001b[0m | \u001b[0m247.4    \u001b[0m |\n"
     ]
    },
    {
     "name": "stderr",
     "output_type": "stream",
     "text": [
      "Running Model-828: 1100it [00:00, 21265.07it/s]         \n",
      "Running Model-828: 100%|██████████| 1/1 [00:00<00:00, 18.83it/s]\n"
     ]
    },
    {
     "name": "stdout",
     "output_type": "stream",
     "text": [
      "Fitting node Ridge-633...\n"
     ]
    },
    {
     "name": "stderr",
     "output_type": "stream",
     "text": [
      "Running Model-828: 999it [00:00, 22791.91it/s]          \n"
     ]
    },
    {
     "name": "stdout",
     "output_type": "stream",
     "text": [
      "| \u001b[0m22       \u001b[0m | \u001b[0m5.321    \u001b[0m | \u001b[0m0.01902  \u001b[0m | \u001b[0m4.995e-05\u001b[0m | \u001b[0m0.4712   \u001b[0m | \u001b[0m142.2    \u001b[0m |\n"
     ]
    },
    {
     "name": "stderr",
     "output_type": "stream",
     "text": [
      "Running Model-829: 1100it [00:00, 19826.37it/s]         \n",
      "Running Model-829: 100%|██████████| 1/1 [00:00<00:00, 16.27it/s]\n"
     ]
    },
    {
     "name": "stdout",
     "output_type": "stream",
     "text": [
      "Fitting node Ridge-634...\n"
     ]
    },
    {
     "name": "stderr",
     "output_type": "stream",
     "text": [
      "Running Model-829: 999it [00:00, 18425.19it/s]          "
     ]
    },
    {
     "name": "stdout",
     "output_type": "stream",
     "text": [
      "| \u001b[0m23       \u001b[0m | \u001b[0m5.333    \u001b[0m | \u001b[0m0.01552  \u001b[0m | \u001b[0m6.231e-05\u001b[0m | \u001b[0m0.3568   \u001b[0m | \u001b[0m484.7    \u001b[0m |\n"
     ]
    },
    {
     "name": "stderr",
     "output_type": "stream",
     "text": [
      "\n",
      "Running Model-830: 1100it [00:00, 20867.94it/s]         \n",
      "Running Model-830: 100%|██████████| 1/1 [00:00<00:00, 17.79it/s]\n"
     ]
    },
    {
     "name": "stdout",
     "output_type": "stream",
     "text": [
      "Fitting node Ridge-635...\n"
     ]
    },
    {
     "name": "stderr",
     "output_type": "stream",
     "text": [
      "Running Model-830: 999it [00:00, 22562.04it/s]          \n"
     ]
    },
    {
     "name": "stdout",
     "output_type": "stream",
     "text": [
      "| \u001b[0m24       \u001b[0m | \u001b[0m4.874    \u001b[0m | \u001b[0m0.008074 \u001b[0m | \u001b[0m5.596e-05\u001b[0m | \u001b[0m1.181    \u001b[0m | \u001b[0m255.8    \u001b[0m |\n"
     ]
    },
    {
     "name": "stderr",
     "output_type": "stream",
     "text": [
      "Running Model-831: 1100it [00:00, 21240.40it/s]         \n",
      "Running Model-831: 100%|██████████| 1/1 [00:00<00:00, 17.61it/s]\n"
     ]
    },
    {
     "name": "stdout",
     "output_type": "stream",
     "text": [
      "Fitting node Ridge-636...\n"
     ]
    },
    {
     "name": "stderr",
     "output_type": "stream",
     "text": [
      "Running Model-831: 999it [00:00, 21928.91it/s]          \n"
     ]
    },
    {
     "name": "stdout",
     "output_type": "stream",
     "text": [
      "| \u001b[0m25       \u001b[0m | \u001b[0m5.329    \u001b[0m | \u001b[0m0.01228  \u001b[0m | \u001b[0m8.052e-05\u001b[0m | \u001b[0m0.3282   \u001b[0m | \u001b[0m285.3    \u001b[0m |\n"
     ]
    },
    {
     "name": "stderr",
     "output_type": "stream",
     "text": [
      "Running Model-832: 1100it [00:00, 20722.38it/s]         \n",
      "Running Model-832: 100%|██████████| 1/1 [00:00<00:00, 17.07it/s]\n"
     ]
    },
    {
     "name": "stdout",
     "output_type": "stream",
     "text": [
      "Fitting node Ridge-637...\n"
     ]
    },
    {
     "name": "stderr",
     "output_type": "stream",
     "text": [
      "Running Model-832: 999it [00:00, 21453.75it/s]          \n"
     ]
    },
    {
     "name": "stdout",
     "output_type": "stream",
     "text": [
      "| \u001b[0m26       \u001b[0m | \u001b[0m5.304    \u001b[0m | \u001b[0m0.009791 \u001b[0m | \u001b[0m0.0001   \u001b[0m | \u001b[0m0.5593   \u001b[0m | \u001b[0m418.5    \u001b[0m |\n"
     ]
    },
    {
     "name": "stderr",
     "output_type": "stream",
     "text": [
      "Running Model-833: 1100it [00:00, 18464.17it/s]         \n",
      "Running Model-833: 100%|██████████| 1/1 [00:00<00:00, 14.27it/s]\n"
     ]
    },
    {
     "name": "stdout",
     "output_type": "stream",
     "text": [
      "Fitting node Ridge-638...\n"
     ]
    },
    {
     "name": "stderr",
     "output_type": "stream",
     "text": [
      "Running Model-833: 999it [00:00, 18864.34it/s]          \n"
     ]
    },
    {
     "name": "stdout",
     "output_type": "stream",
     "text": [
      "| \u001b[0m27       \u001b[0m | \u001b[0m5.233    \u001b[0m | \u001b[0m0.01876  \u001b[0m | \u001b[0m7.869e-05\u001b[0m | \u001b[0m0.5771   \u001b[0m | \u001b[0m783.0    \u001b[0m |\n"
     ]
    },
    {
     "name": "stderr",
     "output_type": "stream",
     "text": [
      "Running Model-834: 1100it [00:00, 17072.03it/s]         \n",
      "Running Model-834: 100%|██████████| 1/1 [00:00<00:00, 13.43it/s]\n"
     ]
    },
    {
     "name": "stdout",
     "output_type": "stream",
     "text": [
      "Fitting node Ridge-639...\n"
     ]
    },
    {
     "name": "stderr",
     "output_type": "stream",
     "text": [
      "Running Model-834: 999it [00:00, 19216.98it/s]          \n"
     ]
    },
    {
     "name": "stdout",
     "output_type": "stream",
     "text": [
      "| \u001b[0m28       \u001b[0m | \u001b[0m3.21     \u001b[0m | \u001b[0m0.02     \u001b[0m | \u001b[0m1e-06    \u001b[0m | \u001b[0m0.4728   \u001b[0m | \u001b[0m802.1    \u001b[0m |\n"
     ]
    },
    {
     "name": "stderr",
     "output_type": "stream",
     "text": [
      "Running Model-835: 1100it [00:00, 17438.75it/s]         \n",
      "Running Model-835: 100%|██████████| 1/1 [00:00<00:00, 13.50it/s]\n"
     ]
    },
    {
     "name": "stdout",
     "output_type": "stream",
     "text": [
      "Fitting node Ridge-640...\n"
     ]
    },
    {
     "name": "stderr",
     "output_type": "stream",
     "text": [
      "Running Model-835: 999it [00:00, 17624.39it/s]          \n"
     ]
    },
    {
     "name": "stdout",
     "output_type": "stream",
     "text": [
      "| \u001b[0m29       \u001b[0m | \u001b[0m5.336    \u001b[0m | \u001b[0m0.0198   \u001b[0m | \u001b[0m0.0001   \u001b[0m | \u001b[0m0.3536   \u001b[0m | \u001b[0m816.9    \u001b[0m |\n"
     ]
    },
    {
     "name": "stderr",
     "output_type": "stream",
     "text": [
      "Running Model-836: 1100it [00:00, 21922.14it/s]         \n",
      "Running Model-836: 100%|██████████| 1/1 [00:00<00:00, 18.46it/s]\n"
     ]
    },
    {
     "name": "stdout",
     "output_type": "stream",
     "text": [
      "Fitting node Ridge-641...\n"
     ]
    },
    {
     "name": "stderr",
     "output_type": "stream",
     "text": [
      "Running Model-836: 999it [00:00, 22401.85it/s]          \n"
     ]
    },
    {
     "name": "stdout",
     "output_type": "stream",
     "text": [
      "| \u001b[0m30       \u001b[0m | \u001b[0m5.326    \u001b[0m | \u001b[0m0.01586  \u001b[0m | \u001b[0m3.794e-05\u001b[0m | \u001b[0m0.3082   \u001b[0m | \u001b[0m293.5    \u001b[0m |\n"
     ]
    },
    {
     "name": "stderr",
     "output_type": "stream",
     "text": [
      "Running Model-837: 1100it [00:00, 21540.78it/s]         \n",
      "Running Model-837: 100%|██████████| 1/1 [00:00<00:00, 18.32it/s]\n"
     ]
    },
    {
     "name": "stdout",
     "output_type": "stream",
     "text": [
      "Fitting node Ridge-642...\n"
     ]
    },
    {
     "name": "stderr",
     "output_type": "stream",
     "text": [
      "Running Model-837: 999it [00:00, 22930.86it/s]          \n"
     ]
    },
    {
     "name": "stdout",
     "output_type": "stream",
     "text": [
      "| \u001b[0m31       \u001b[0m | \u001b[0m4.894    \u001b[0m | \u001b[0m0.01782  \u001b[0m | \u001b[0m7.704e-05\u001b[0m | \u001b[0m0.7656   \u001b[0m | \u001b[0m301.7    \u001b[0m |\n"
     ]
    },
    {
     "name": "stderr",
     "output_type": "stream",
     "text": [
      "Running Model-838: 1100it [00:00, 21308.39it/s]         \n",
      "Running Model-838: 100%|██████████| 1/1 [00:00<00:00, 18.31it/s]\n"
     ]
    },
    {
     "name": "stdout",
     "output_type": "stream",
     "text": [
      "Fitting node Ridge-643...\n"
     ]
    },
    {
     "name": "stderr",
     "output_type": "stream",
     "text": [
      "Running Model-838: 999it [00:00, 22935.63it/s]          "
     ]
    },
    {
     "name": "stdout",
     "output_type": "stream",
     "text": [
      "| \u001b[95m32       \u001b[0m | \u001b[95m5.393    \u001b[0m | \u001b[95m0.01502  \u001b[0m | \u001b[95m4.185e-05\u001b[0m | \u001b[95m0.4443   \u001b[0m | \u001b[95m270.2    \u001b[0m |\n"
     ]
    },
    {
     "name": "stderr",
     "output_type": "stream",
     "text": [
      "\n",
      "Running Model-839: 1100it [00:00, 20156.99it/s]         \n",
      "Running Model-839: 100%|██████████| 1/1 [00:00<00:00, 16.79it/s]\n"
     ]
    },
    {
     "name": "stdout",
     "output_type": "stream",
     "text": [
      "Fitting node Ridge-644...\n"
     ]
    },
    {
     "name": "stderr",
     "output_type": "stream",
     "text": [
      "Running Model-839: 999it [00:00, 21627.60it/s]          "
     ]
    },
    {
     "name": "stdout",
     "output_type": "stream",
     "text": [
      "| \u001b[0m33       \u001b[0m | \u001b[0m5.299    \u001b[0m | \u001b[0m0.008    \u001b[0m | \u001b[0m1e-06    \u001b[0m | \u001b[0m0.1      \u001b[0m | \u001b[0m427.1    \u001b[0m |\n"
     ]
    },
    {
     "name": "stderr",
     "output_type": "stream",
     "text": [
      "\n",
      "Running Model-840: 1100it [00:00, 20529.48it/s]         \n",
      "Running Model-840: 100%|██████████| 1/1 [00:00<00:00, 16.78it/s]\n"
     ]
    },
    {
     "name": "stdout",
     "output_type": "stream",
     "text": [
      "Fitting node Ridge-645...\n"
     ]
    },
    {
     "name": "stderr",
     "output_type": "stream",
     "text": [
      "Running Model-840: 999it [00:00, 21097.17it/s]          \n"
     ]
    },
    {
     "name": "stdout",
     "output_type": "stream",
     "text": [
      "| \u001b[0m34       \u001b[0m | \u001b[0m1.335    \u001b[0m | \u001b[0m0.02     \u001b[0m | \u001b[0m0.0001   \u001b[0m | \u001b[0m1.2      \u001b[0m | \u001b[0m435.6    \u001b[0m |\n"
     ]
    },
    {
     "name": "stderr",
     "output_type": "stream",
     "text": [
      "Running Model-841: 1100it [00:00, 18350.27it/s]         \n",
      "Running Model-841: 100%|██████████| 1/1 [00:00<00:00, 15.16it/s]\n"
     ]
    },
    {
     "name": "stdout",
     "output_type": "stream",
     "text": [
      "Fitting node Ridge-646...\n"
     ]
    },
    {
     "name": "stderr",
     "output_type": "stream",
     "text": [
      "Running Model-841: 999it [00:00, 20516.42it/s]          "
     ]
    },
    {
     "name": "stdout",
     "output_type": "stream",
     "text": [
      "| \u001b[0m35       \u001b[0m | \u001b[0m5.311    \u001b[0m | \u001b[0m0.01345  \u001b[0m | \u001b[0m1.618e-05\u001b[0m | \u001b[0m0.2514   \u001b[0m | \u001b[0m402.7    \u001b[0m |\n"
     ]
    },
    {
     "name": "stderr",
     "output_type": "stream",
     "text": [
      "\n",
      "Running Model-842: 1100it [00:00, 21952.50it/s]         \n",
      "Running Model-842: 100%|██████████| 1/1 [00:00<00:00, 18.59it/s]\n"
     ]
    },
    {
     "name": "stdout",
     "output_type": "stream",
     "text": [
      "Fitting node Ridge-647...\n"
     ]
    },
    {
     "name": "stderr",
     "output_type": "stream",
     "text": [
      "Running Model-842: 999it [00:00, 22621.97it/s]          "
     ]
    },
    {
     "name": "stdout",
     "output_type": "stream",
     "text": [
      "| \u001b[0m36       \u001b[0m | \u001b[0m5.203    \u001b[0m | \u001b[0m0.02     \u001b[0m | \u001b[0m0.0001   \u001b[0m | \u001b[0m0.1      \u001b[0m | \u001b[0m156.8    \u001b[0m |\n"
     ]
    },
    {
     "name": "stderr",
     "output_type": "stream",
     "text": [
      "\n",
      "Running Model-843: 1100it [00:00, 18311.23it/s]         \n",
      "Running Model-843: 100%|██████████| 1/1 [00:00<00:00, 14.65it/s]\n"
     ]
    },
    {
     "name": "stdout",
     "output_type": "stream",
     "text": [
      "Fitting node Ridge-648...\n"
     ]
    },
    {
     "name": "stderr",
     "output_type": "stream",
     "text": [
      "Running Model-843: 999it [00:00, 18207.97it/s]          \n"
     ]
    },
    {
     "name": "stdout",
     "output_type": "stream",
     "text": [
      "| \u001b[0m37       \u001b[0m | \u001b[0m0.4193   \u001b[0m | \u001b[0m0.01952  \u001b[0m | \u001b[0m6.775e-05\u001b[0m | \u001b[0m1.2      \u001b[0m | \u001b[0m694.6    \u001b[0m |\n"
     ]
    },
    {
     "name": "stderr",
     "output_type": "stream",
     "text": [
      "Running Model-844: 1100it [00:00, 18493.18it/s]         \n",
      "Running Model-844: 100%|██████████| 1/1 [00:00<00:00, 14.29it/s]\n"
     ]
    },
    {
     "name": "stdout",
     "output_type": "stream",
     "text": [
      "Fitting node Ridge-649...\n"
     ]
    },
    {
     "name": "stderr",
     "output_type": "stream",
     "text": [
      "Running Model-844: 999it [00:00, 19807.27it/s]          \n"
     ]
    },
    {
     "name": "stdout",
     "output_type": "stream",
     "text": [
      "| \u001b[0m38       \u001b[0m | \u001b[0m3.472    \u001b[0m | \u001b[0m0.008254 \u001b[0m | \u001b[0m2.066e-05\u001b[0m | \u001b[0m0.7205   \u001b[0m | \u001b[0m826.3    \u001b[0m |\n"
     ]
    },
    {
     "name": "stderr",
     "output_type": "stream",
     "text": [
      "Running Model-845: 1100it [00:00, 22312.72it/s]         \n",
      "Running Model-845: 100%|██████████| 1/1 [00:00<00:00, 19.34it/s]\n"
     ]
    },
    {
     "name": "stdout",
     "output_type": "stream",
     "text": [
      "Fitting node Ridge-650...\n"
     ]
    },
    {
     "name": "stderr",
     "output_type": "stream",
     "text": [
      "Running Model-845: 999it [00:00, 22586.73it/s]          "
     ]
    },
    {
     "name": "stdout",
     "output_type": "stream",
     "text": [
      "| \u001b[0m39       \u001b[0m | \u001b[0m5.03     \u001b[0m | \u001b[0m0.008    \u001b[0m | \u001b[0m1e-06    \u001b[0m | \u001b[0m1.2      \u001b[0m | \u001b[0m165.9    \u001b[0m |\n"
     ]
    },
    {
     "name": "stderr",
     "output_type": "stream",
     "text": [
      "\n",
      "Running Model-846: 1100it [00:00, 23218.31it/s]         \n",
      "Running Model-846: 100%|██████████| 1/1 [00:00<00:00, 19.47it/s]\n"
     ]
    },
    {
     "name": "stdout",
     "output_type": "stream",
     "text": [
      "Fitting node Ridge-651...\n"
     ]
    },
    {
     "name": "stderr",
     "output_type": "stream",
     "text": [
      "Running Model-846: 999it [00:00, 24104.09it/s]          \n"
     ]
    },
    {
     "name": "stdout",
     "output_type": "stream",
     "text": [
      "| \u001b[0m40       \u001b[0m | \u001b[0m5.338    \u001b[0m | \u001b[0m0.0191   \u001b[0m | \u001b[0m8.627e-05\u001b[0m | \u001b[0m0.903    \u001b[0m | \u001b[0m126.0    \u001b[0m |\n"
     ]
    },
    {
     "name": "stderr",
     "output_type": "stream",
     "text": [
      "Running Model-847: 1100it [00:00, 21816.31it/s]         \n",
      "Running Model-847: 100%|██████████| 1/1 [00:00<00:00, 18.69it/s]\n"
     ]
    },
    {
     "name": "stdout",
     "output_type": "stream",
     "text": [
      "Fitting node Ridge-652...\n"
     ]
    },
    {
     "name": "stderr",
     "output_type": "stream",
     "text": [
      "Running Model-847: 999it [00:00, 22923.58it/s]          "
     ]
    },
    {
     "name": "stdout",
     "output_type": "stream",
     "text": [
      "| \u001b[0m41       \u001b[0m | \u001b[0m5.289    \u001b[0m | \u001b[0m0.00851  \u001b[0m | \u001b[0m8.391e-05\u001b[0m | \u001b[0m0.7679   \u001b[0m | \u001b[0m117.7    \u001b[0m |\n"
     ]
    },
    {
     "name": "stderr",
     "output_type": "stream",
     "text": [
      "\n",
      "Running Model-848: 1100it [00:00, 23810.00it/s]         \n",
      "Running Model-848: 100%|██████████| 1/1 [00:00<00:00, 19.72it/s]\n"
     ]
    },
    {
     "name": "stdout",
     "output_type": "stream",
     "text": [
      "Fitting node Ridge-653...\n"
     ]
    },
    {
     "name": "stderr",
     "output_type": "stream",
     "text": [
      "Running Model-848: 999it [00:00, 23894.60it/s]          "
     ]
    },
    {
     "name": "stdout",
     "output_type": "stream",
     "text": [
      "| \u001b[0m42       \u001b[0m | \u001b[0m5.306    \u001b[0m | \u001b[0m0.01403  \u001b[0m | \u001b[0m2.271e-05\u001b[0m | \u001b[0m1.044    \u001b[0m | \u001b[0m108.8    \u001b[0m |\n"
     ]
    },
    {
     "name": "stderr",
     "output_type": "stream",
     "text": [
      "\n",
      "Running Model-849: 1100it [00:00, 21431.72it/s]         \n",
      "Running Model-849: 100%|██████████| 1/1 [00:00<00:00, 18.39it/s]\n"
     ]
    },
    {
     "name": "stdout",
     "output_type": "stream",
     "text": [
      "Fitting node Ridge-654...\n"
     ]
    },
    {
     "name": "stderr",
     "output_type": "stream",
     "text": [
      "Running Model-849: 999it [00:00, 22646.06it/s]          "
     ]
    },
    {
     "name": "stdout",
     "output_type": "stream",
     "text": [
      "| \u001b[0m43       \u001b[0m | \u001b[0m5.202    \u001b[0m | \u001b[0m0.02     \u001b[0m | \u001b[0m8.335e-05\u001b[0m | \u001b[0m0.1      \u001b[0m | \u001b[0m100.0    \u001b[0m |\n"
     ]
    },
    {
     "name": "stderr",
     "output_type": "stream",
     "text": [
      "\n",
      "Running Model-850: 1100it [00:00, 18597.09it/s]         \n",
      "Running Model-850: 100%|██████████| 1/1 [00:00<00:00, 15.58it/s]\n"
     ]
    },
    {
     "name": "stdout",
     "output_type": "stream",
     "text": [
      "Fitting node Ridge-655...\n"
     ]
    },
    {
     "name": "stderr",
     "output_type": "stream",
     "text": [
      "Running Model-850: 999it [00:00, 20996.64it/s]          \n"
     ]
    },
    {
     "name": "stdout",
     "output_type": "stream",
     "text": [
      "| \u001b[0m44       \u001b[0m | \u001b[0m5.258    \u001b[0m | \u001b[0m0.01574  \u001b[0m | \u001b[0m1.109e-05\u001b[0m | \u001b[0m0.3988   \u001b[0m | \u001b[0m494.5    \u001b[0m |\n"
     ]
    },
    {
     "name": "stderr",
     "output_type": "stream",
     "text": [
      "Running Model-851: 1100it [00:00, 20117.27it/s]         \n",
      "Running Model-851: 100%|██████████| 1/1 [00:00<00:00, 16.23it/s]\n"
     ]
    },
    {
     "name": "stdout",
     "output_type": "stream",
     "text": [
      "Fitting node Ridge-656...\n"
     ]
    },
    {
     "name": "stderr",
     "output_type": "stream",
     "text": [
      "Running Model-851: 999it [00:00, 20678.11it/s]          \n"
     ]
    },
    {
     "name": "stdout",
     "output_type": "stream",
     "text": [
      "| \u001b[0m45       \u001b[0m | \u001b[0m3.008    \u001b[0m | \u001b[0m0.009574 \u001b[0m | \u001b[0m3.593e-05\u001b[0m | \u001b[0m0.883    \u001b[0m | \u001b[0m503.5    \u001b[0m |\n",
      "=========================================================================\n"
     ]
    },
    {
     "name": "stderr",
     "output_type": "stream",
     "text": [
      "Running Model-852: 2099it [00:00, 22227.50it/s]         \n",
      "Running Model-852: 100%|██████████| 1/1 [00:00<00:00, 10.11it/s]\n"
     ]
    },
    {
     "name": "stdout",
     "output_type": "stream",
     "text": [
      "Fitting node Ridge-657...\n"
     ]
    },
    {
     "name": "stderr",
     "output_type": "stream",
     "text": [
      "Running Model-852: 1164it [00:00, 23005.88it/s]         "
     ]
    },
    {
     "name": "stdout",
     "output_type": "stream",
     "text": [
      "0.19638893806765492\n"
     ]
    },
    {
     "name": "stderr",
     "output_type": "stream",
     "text": [
      "\n"
     ]
    }
   ],
   "source": [
    "def testFeedback():\n",
    "    def blackbox(**params):\n",
    "        reservoir = Reservoir(units=int(params['units']), sr=params['sr'], rc_connectivity=params['rc_connectivity'])\n",
    "        readout = Ridge(output_dim=1, ridge=params['ridge'])\n",
    "        # reservoir <<= readout\n",
    "        esn = reservoir >> readout\n",
    "\n",
    "        x, y, _, _ = getData()\n",
    "        trainX = x[:1100]\n",
    "        trainY = y[:1100]\n",
    "        valX = x[1100:]\n",
    "        valY = y[1100:]\n",
    "\n",
    "        esn.fit(trainX, trainY, warmup=100)\n",
    "        preds = esn.run(valX)\n",
    "        return 1/nrmse(valY, preds)\n",
    "    \n",
    "    pbounds = {'units': (100, 1000), 'sr': (0.1, 1.2), 'rc_connectivity': (0.008, 0.02), 'ridge': (1e-6, 1e-4)}\n",
    "    \n",
    "    optimizer = BayesianOptimization(\n",
    "        f=blackbox,\n",
    "        pbounds=pbounds,\n",
    "        random_state=1,\n",
    "    )\n",
    "\n",
    "    optimizer.maximize(\n",
    "        init_points=20,\n",
    "        n_iter=25,\n",
    "    )\n",
    "\n",
    "    params = optimizer.max['params']\n",
    "    reservoir = Reservoir(units=int(params['units']), sr=params['sr'], rc_connectivity=params['rc_connectivity'])\n",
    "    readout = Ridge(output_dim=1, ridge=params['ridge'])\n",
    "    # reservoir <<= readout\n",
    "    bestEsn = reservoir >> readout\n",
    "    trainX, trainY, testX, testY = getData()\n",
    "    bestEsn.fit(trainX, trainY, warmup=100)\n",
    "    preds = bestEsn.run(testX)\n",
    "    return nrmse(testY, preds)\n",
    "\n",
    "print(testFeedback())"
   ]
  },
  {
   "cell_type": "code",
   "execution_count": 53,
   "metadata": {},
   "outputs": [],
   "source": [
    "def testProposed():\n",
    "    def blackbox(**params):\n",
    "        esn = (NVAR(delay=int(params['delay']), order=int(params['order']), strides=int(params['strides'])) >> \n",
    "               Reservoir(units=int(params['units']), sr=params['sr'], rc_connectivity=params['rc_connectivity'])) >> Ridge(output_dim=1, ridge=params['ridge'])\n",
    "        x, y, _, _ = getData()\n",
    "        trainX = x[:1100]\n",
    "        trainY = y[:1100]\n",
    "        valX = x[1100:]\n",
    "        valY = y[1100:]\n",
    "\n",
    "        esn.fit(trainX, trainY, warmup=100)\n",
    "\n",
    "        esn2 = (NVAR(delay=int(params['delay']), order=int(params['order']), strides=int(params['strides'])) >> \n",
    "               Reservoir(units=int(params['units']), sr=params['sr'], rc_connectivity=params['rc_connectivity'])) >> Ridge(output_dim=1, ridge=params['ridge'])\n",
    "        esnPreds = copy.deepcopy(esn).run(trainX)\n",
    "        esn2.fit(esnPreds, trainY, warmup=100)\n",
    "\n",
    "        preds1 = esn.run(valX)\n",
    "        preds2 = esn2.run(preds1)\n",
    "        return 1/nrmse(valY, preds2)\n",
    "    \n",
    "    pbounds = {'units': (100, 1000), 'sr': (0.1, 1.2), 'rc_connectivity': (0.008, 0.02), 'ridge': (1e-6, 1e-4), 'delay': (2, 12), 'order': (2, 5), 'strides': (1, 6)}\n",
    "    \n",
    "    optimizer = BayesianOptimization(\n",
    "        f=blackbox,\n",
    "        pbounds=pbounds,\n",
    "        random_state=1,\n",
    "    )\n",
    "\n",
    "    optimizer.maximize(\n",
    "        init_points=20,\n",
    "        n_iter=25,\n",
    "    )\n",
    "\n",
    "    params = optimizer.max['params']\n",
    "    bestEsn1 = (NVAR(delay=int(params['delay']), order=int(params['order']), strides=int(params['strides'])) >> \n",
    "               Reservoir(units=int(params['units']), sr=params['sr'], rc_connectivity=params['rc_connectivity'])) >> Ridge(output_dim=1, ridge=params['ridge'])\n",
    "    bestEsn2 = (NVAR(delay=int(params['delay']), order=int(params['order']), strides=int(params['strides'])) >> \n",
    "               Reservoir(units=int(params['units']), sr=params['sr'], rc_connectivity=params['rc_connectivity'])) >> Ridge(output_dim=1, ridge=params['ridge'])\n",
    "    trainX, trainY, testX, testY = getData()\n",
    "    trainX1 = trainX[:1100]\n",
    "    trainY1 = trainY[:1100]\n",
    "    teacherForceX = trainX[1100:]\n",
    "    teacherForceY = trainY[1100:]\n",
    "    bestEsn1.fit(trainX1, trainY1, warmup=100)\n",
    "    outputs = bestEsn1.run(teacherForceX, forced_feedbacks=teacherForceY)\n",
    "    bestEsn2.run(outputs, forced_feedbacks=teacherForceY)\n",
    "    preds1 = bestEsn1.run(testX)\n",
    "    preds2 = bestEsn2.run(preds1)\n",
    "    return nrmse(testY, preds2)"
   ]
  },
  {
   "cell_type": "code",
   "execution_count": 42,
   "metadata": {},
   "outputs": [
    {
     "name": "stdout",
     "output_type": "stream",
     "text": [
      "|   iter    |  target   | rc_con... |   ridge   |    sr     |   units   |\n",
      "-------------------------------------------------------------------------\n"
     ]
    },
    {
     "name": "stderr",
     "output_type": "stream",
     "text": [
      "Running Model-289: 1100it [00:00, 21762.90it/s]         \n",
      "Running Model-289: 100%|██████████| 1/1 [00:00<00:00, 18.33it/s]\n"
     ]
    },
    {
     "name": "stdout",
     "output_type": "stream",
     "text": [
      "Fitting node Ridge-284...\n"
     ]
    },
    {
     "name": "stderr",
     "output_type": "stream",
     "text": [
      "Running Model-289: 999it [00:00, 21566.82it/s]          \n"
     ]
    },
    {
     "name": "stdout",
     "output_type": "stream",
     "text": [
      "| \u001b[0m1        \u001b[0m | \u001b[0m5.231    \u001b[0m | \u001b[0m0.013    \u001b[0m | \u001b[0m7.231e-05\u001b[0m | \u001b[0m0.1001   \u001b[0m | \u001b[0m372.1    \u001b[0m |\n"
     ]
    },
    {
     "name": "stderr",
     "output_type": "stream",
     "text": [
      "Running Model-290: 1100it [00:00, 21018.24it/s]         \n",
      "Running Model-290: 100%|██████████| 1/1 [00:00<00:00, 17.59it/s]\n"
     ]
    },
    {
     "name": "stdout",
     "output_type": "stream",
     "text": [
      "Fitting node Ridge-285...\n"
     ]
    },
    {
     "name": "stderr",
     "output_type": "stream",
     "text": [
      "Running Model-290: 999it [00:00, 20675.56it/s]          \n"
     ]
    },
    {
     "name": "stdout",
     "output_type": "stream",
     "text": [
      "| \u001b[95m2        \u001b[0m | \u001b[95m5.299    \u001b[0m | \u001b[95m0.009761 \u001b[0m | \u001b[95m1.014e-05\u001b[0m | \u001b[95m0.3049   \u001b[0m | \u001b[95m411.0    \u001b[0m |\n"
     ]
    },
    {
     "name": "stderr",
     "output_type": "stream",
     "text": [
      "Running Model-291: 1100it [00:00, 19319.85it/s]         \n",
      "Running Model-291: 100%|██████████| 1/1 [00:00<00:00, 15.39it/s]\n"
     ]
    },
    {
     "name": "stdout",
     "output_type": "stream",
     "text": [
      "Fitting node Ridge-286...\n"
     ]
    },
    {
     "name": "stderr",
     "output_type": "stream",
     "text": [
      "Running Model-291: 999it [00:00, 19557.29it/s]          \n"
     ]
    },
    {
     "name": "stdout",
     "output_type": "stream",
     "text": [
      "| \u001b[0m3        \u001b[0m | \u001b[0m4.73     \u001b[0m | \u001b[0m0.01276  \u001b[0m | \u001b[0m5.434e-05\u001b[0m | \u001b[0m0.5611   \u001b[0m | \u001b[0m716.7    \u001b[0m |\n"
     ]
    },
    {
     "name": "stderr",
     "output_type": "stream",
     "text": [
      "Running Model-292: 1100it [00:00, 19127.30it/s]         \n",
      "Running Model-292: 100%|██████████| 1/1 [00:00<00:00, 14.97it/s]\n"
     ]
    },
    {
     "name": "stdout",
     "output_type": "stream",
     "text": [
      "Fitting node Ridge-287...\n"
     ]
    },
    {
     "name": "stderr",
     "output_type": "stream",
     "text": [
      "Running Model-292: 999it [00:00, 19990.70it/s]          \n"
     ]
    },
    {
     "name": "stdout",
     "output_type": "stream",
     "text": [
      "| \u001b[0m4        \u001b[0m | \u001b[0m5.273    \u001b[0m | \u001b[0m0.01045  \u001b[0m | \u001b[0m8.793e-05\u001b[0m | \u001b[0m0.1301   \u001b[0m | \u001b[0m703.4    \u001b[0m |\n"
     ]
    },
    {
     "name": "stderr",
     "output_type": "stream",
     "text": [
      "Running Model-293: 1100it [00:00, 20405.45it/s]         \n",
      "Running Model-293: 100%|██████████| 1/1 [00:00<00:00, 17.27it/s]\n"
     ]
    },
    {
     "name": "stdout",
     "output_type": "stream",
     "text": [
      "Fitting node Ridge-288...\n"
     ]
    },
    {
     "name": "stderr",
     "output_type": "stream",
     "text": [
      "Running Model-293: 999it [00:00, 21972.03it/s]          "
     ]
    },
    {
     "name": "stdout",
     "output_type": "stream",
     "text": [
      "| \u001b[95m5        \u001b[0m | \u001b[95m5.308    \u001b[0m | \u001b[95m0.01301  \u001b[0m | \u001b[95m5.631e-05\u001b[0m | \u001b[95m0.2544   \u001b[0m | \u001b[95m278.3    \u001b[0m |\n"
     ]
    },
    {
     "name": "stderr",
     "output_type": "stream",
     "text": [
      "\n",
      "Running Model-294: 1100it [00:00, 18893.57it/s]         \n",
      "Running Model-294: 100%|██████████| 1/1 [00:00<00:00, 14.88it/s]\n"
     ]
    },
    {
     "name": "stdout",
     "output_type": "stream",
     "text": [
      "Fitting node Ridge-289...\n"
     ]
    },
    {
     "name": "stderr",
     "output_type": "stream",
     "text": [
      "Running Model-294: 999it [00:00, 19891.05it/s]          \n"
     ]
    },
    {
     "name": "stdout",
     "output_type": "stream",
     "text": [
      "| \u001b[95m6        \u001b[0m | \u001b[95m5.338    \u001b[0m | \u001b[95m0.01761  \u001b[0m | \u001b[95m9.686e-05\u001b[0m | \u001b[95m0.4448   \u001b[0m | \u001b[95m723.1    \u001b[0m |\n"
     ]
    },
    {
     "name": "stderr",
     "output_type": "stream",
     "text": [
      "Running Model-295: 1100it [00:00, 23132.98it/s]         \n",
      "Running Model-295: 100%|██████████| 1/1 [00:00<00:00, 19.78it/s]\n"
     ]
    },
    {
     "name": "stdout",
     "output_type": "stream",
     "text": [
      "Fitting node Ridge-290...\n"
     ]
    },
    {
     "name": "stderr",
     "output_type": "stream",
     "text": [
      "Running Model-295: 999it [00:00, 24146.59it/s]          \n"
     ]
    },
    {
     "name": "stdout",
     "output_type": "stream",
     "text": [
      "| \u001b[0m7        \u001b[0m | \u001b[0m5.235    \u001b[0m | \u001b[0m0.01852  \u001b[0m | \u001b[0m8.957e-05\u001b[0m | \u001b[0m0.1935   \u001b[0m | \u001b[0m135.1    \u001b[0m |\n"
     ]
    },
    {
     "name": "stderr",
     "output_type": "stream",
     "text": [
      "Running Model-296: 1100it [00:00, 20971.14it/s]         \n",
      "Running Model-296: 100%|██████████| 1/1 [00:00<00:00, 17.25it/s]\n"
     ]
    },
    {
     "name": "stdout",
     "output_type": "stream",
     "text": [
      "Fitting node Ridge-291...\n"
     ]
    },
    {
     "name": "stderr",
     "output_type": "stream",
     "text": [
      "Running Model-296: 999it [00:00, 20990.33it/s]          \n"
     ]
    },
    {
     "name": "stdout",
     "output_type": "stream",
     "text": [
      "| \u001b[0m8        \u001b[0m | \u001b[0m5.308    \u001b[0m | \u001b[0m0.01004  \u001b[0m | \u001b[0m8.794e-05\u001b[0m | \u001b[0m0.2082   \u001b[0m | \u001b[0m479.0    \u001b[0m |\n"
     ]
    },
    {
     "name": "stderr",
     "output_type": "stream",
     "text": [
      "Running Model-297: 1100it [00:00, 20713.91it/s]         \n",
      "Running Model-297: 100%|██████████| 1/1 [00:00<00:00, 17.06it/s]\n"
     ]
    },
    {
     "name": "stdout",
     "output_type": "stream",
     "text": [
      "Fitting node Ridge-292...\n"
     ]
    },
    {
     "name": "stderr",
     "output_type": "stream",
     "text": [
      "Running Model-297: 999it [00:00, 20787.06it/s]          \n"
     ]
    },
    {
     "name": "stdout",
     "output_type": "stream",
     "text": [
      "| \u001b[0m9        \u001b[0m | \u001b[0m3.73     \u001b[0m | \u001b[0m0.01949  \u001b[0m | \u001b[0m5.378e-05\u001b[0m | \u001b[0m0.8611   \u001b[0m | \u001b[0m384.0    \u001b[0m |\n"
     ]
    },
    {
     "name": "stderr",
     "output_type": "stream",
     "text": [
      "Running Model-298: 1100it [00:00, 18405.24it/s]         \n",
      "Running Model-298: 100%|██████████| 1/1 [00:00<00:00, 14.48it/s]\n"
     ]
    },
    {
     "name": "stdout",
     "output_type": "stream",
     "text": [
      "Fitting node Ridge-293...\n"
     ]
    },
    {
     "name": "stderr",
     "output_type": "stream",
     "text": [
      "Running Model-298: 999it [00:00, 18439.95it/s]          \n"
     ]
    },
    {
     "name": "stdout",
     "output_type": "stream",
     "text": [
      "| \u001b[0m10       \u001b[0m | \u001b[0m5.271    \u001b[0m | \u001b[0m0.01624  \u001b[0m | \u001b[0m8.363e-05\u001b[0m | \u001b[0m0.1201   \u001b[0m | \u001b[0m775.1    \u001b[0m |\n"
     ]
    },
    {
     "name": "stderr",
     "output_type": "stream",
     "text": [
      "Running Model-299: 1100it [00:00, 17657.19it/s]         \n",
      "Running Model-299: 100%|██████████| 1/1 [00:00<00:00, 14.03it/s]\n"
     ]
    },
    {
     "name": "stdout",
     "output_type": "stream",
     "text": [
      "Fitting node Ridge-294...\n"
     ]
    },
    {
     "name": "stderr",
     "output_type": "stream",
     "text": [
      "Running Model-299: 999it [00:00, 18226.43it/s]          \n"
     ]
    },
    {
     "name": "stdout",
     "output_type": "stream",
     "text": [
      "| \u001b[95m11       \u001b[0m | \u001b[95m5.364    \u001b[0m | \u001b[95m0.01987  \u001b[0m | \u001b[95m7.507e-05\u001b[0m | \u001b[95m0.4085   \u001b[0m | \u001b[95m810.4    \u001b[0m |\n"
     ]
    },
    {
     "name": "stderr",
     "output_type": "stream",
     "text": [
      "Running Model-300: 1100it [00:00, 19583.83it/s]         \n",
      "Running Model-300: 100%|██████████| 1/1 [00:00<00:00, 16.70it/s]\n"
     ]
    },
    {
     "name": "stdout",
     "output_type": "stream",
     "text": [
      "Fitting node Ridge-295...\n"
     ]
    },
    {
     "name": "stderr",
     "output_type": "stream",
     "text": [
      "Running Model-300: 999it [00:00, 21663.72it/s]          "
     ]
    },
    {
     "name": "stdout",
     "output_type": "stream",
     "text": [
      "| \u001b[0m12       \u001b[0m | \u001b[0m1.953    \u001b[0m | \u001b[0m0.009239 \u001b[0m | \u001b[0m4.534e-05\u001b[0m | \u001b[0m1.099    \u001b[0m | \u001b[0m364.3    \u001b[0m |\n"
     ]
    },
    {
     "name": "stderr",
     "output_type": "stream",
     "text": [
      "\n",
      "Running Model-301: 1100it [00:00, 18925.58it/s]         \n",
      "Running Model-301: 100%|██████████| 1/1 [00:00<00:00, 15.24it/s]\n"
     ]
    },
    {
     "name": "stdout",
     "output_type": "stream",
     "text": [
      "Fitting node Ridge-296...\n"
     ]
    },
    {
     "name": "stderr",
     "output_type": "stream",
     "text": [
      "Running Model-301: 999it [00:00, 20325.54it/s]          \n"
     ]
    },
    {
     "name": "stdout",
     "output_type": "stream",
     "text": [
      "| \u001b[0m13       \u001b[0m | \u001b[0m5.298    \u001b[0m | \u001b[0m0.01145  \u001b[0m | \u001b[0m1.387e-05\u001b[0m | \u001b[0m0.1213   \u001b[0m | \u001b[0m711.0    \u001b[0m |\n"
     ]
    },
    {
     "name": "stderr",
     "output_type": "stream",
     "text": [
      "Running Model-302: 1100it [00:00, 21758.18it/s]         \n",
      "Running Model-302: 100%|██████████| 1/1 [00:00<00:00, 18.21it/s]\n"
     ]
    },
    {
     "name": "stdout",
     "output_type": "stream",
     "text": [
      "Fitting node Ridge-297...\n"
     ]
    },
    {
     "name": "stderr",
     "output_type": "stream",
     "text": [
      "Running Model-302: 999it [00:00, 23198.61it/s]          "
     ]
    },
    {
     "name": "stdout",
     "output_type": "stream",
     "text": [
      "| \u001b[0m14       \u001b[0m | \u001b[0m5.331    \u001b[0m | \u001b[0m0.01054  \u001b[0m | \u001b[0m2.729e-05\u001b[0m | \u001b[0m0.6407   \u001b[0m | \u001b[0m148.0    \u001b[0m |\n"
     ]
    },
    {
     "name": "stderr",
     "output_type": "stream",
     "text": [
      "\n",
      "Running Model-303: 1100it [00:00, 18335.17it/s]         \n",
      "Running Model-303: 100%|██████████| 1/1 [00:00<00:00, 14.60it/s]\n"
     ]
    },
    {
     "name": "stdout",
     "output_type": "stream",
     "text": [
      "Fitting node Ridge-298...\n"
     ]
    },
    {
     "name": "stderr",
     "output_type": "stream",
     "text": [
      "Running Model-303: 999it [00:00, 18933.21it/s]          \n"
     ]
    },
    {
     "name": "stdout",
     "output_type": "stream",
     "text": [
      "| \u001b[0m15       \u001b[0m | \u001b[0m4.076    \u001b[0m | \u001b[0m0.01489  \u001b[0m | \u001b[0m1.553e-05\u001b[0m | \u001b[0m0.7482   \u001b[0m | \u001b[0m729.8    \u001b[0m |\n"
     ]
    },
    {
     "name": "stderr",
     "output_type": "stream",
     "text": [
      "Running Model-304: 1100it [00:00, 20454.03it/s]         \n",
      "Running Model-304: 100%|██████████| 1/1 [00:00<00:00, 17.05it/s]\n"
     ]
    },
    {
     "name": "stdout",
     "output_type": "stream",
     "text": [
      "Fitting node Ridge-299...\n"
     ]
    },
    {
     "name": "stderr",
     "output_type": "stream",
     "text": [
      "Running Model-304: 999it [00:00, 22178.58it/s]          \n"
     ]
    },
    {
     "name": "stdout",
     "output_type": "stream",
     "text": [
      "| \u001b[0m16       \u001b[0m | \u001b[0m3.812    \u001b[0m | \u001b[0m0.009228 \u001b[0m | \u001b[0m4.199e-05\u001b[0m | \u001b[0m0.8638   \u001b[0m | \u001b[0m472.8    \u001b[0m |\n"
     ]
    },
    {
     "name": "stderr",
     "output_type": "stream",
     "text": [
      "Running Model-305: 1100it [00:00, 20534.60it/s]         \n",
      "Running Model-305: 100%|██████████| 1/1 [00:00<00:00, 16.51it/s]\n"
     ]
    },
    {
     "name": "stdout",
     "output_type": "stream",
     "text": [
      "Fitting node Ridge-300...\n"
     ]
    },
    {
     "name": "stderr",
     "output_type": "stream",
     "text": [
      "Running Model-305: 999it [00:00, 20310.86it/s]          \n"
     ]
    },
    {
     "name": "stdout",
     "output_type": "stream",
     "text": [
      "| \u001b[0m17       \u001b[0m | \u001b[0m3.767    \u001b[0m | \u001b[0m0.008599 \u001b[0m | \u001b[0m5.405e-05\u001b[0m | \u001b[0m0.8302   \u001b[0m | \u001b[0m563.4    \u001b[0m |\n"
     ]
    },
    {
     "name": "stderr",
     "output_type": "stream",
     "text": [
      "Running Model-306: 1100it [00:00, 21105.93it/s]         \n",
      "Running Model-306: 100%|██████████| 1/1 [00:00<00:00, 18.14it/s]\n"
     ]
    },
    {
     "name": "stdout",
     "output_type": "stream",
     "text": [
      "Fitting node Ridge-301...\n"
     ]
    },
    {
     "name": "stderr",
     "output_type": "stream",
     "text": [
      "Running Model-306: 999it [00:00, 21608.86it/s]          \n"
     ]
    },
    {
     "name": "stdout",
     "output_type": "stream",
     "text": [
      "| \u001b[0m18       \u001b[0m | \u001b[0m3.992    \u001b[0m | \u001b[0m0.01934  \u001b[0m | \u001b[0m5.907e-05\u001b[0m | \u001b[0m1.094    \u001b[0m | \u001b[0m223.7    \u001b[0m |\n"
     ]
    },
    {
     "name": "stderr",
     "output_type": "stream",
     "text": [
      "Running Model-307: 1100it [00:00, 21311.14it/s]         \n",
      "Running Model-307: 100%|██████████| 1/1 [00:00<00:00, 17.98it/s]\n"
     ]
    },
    {
     "name": "stdout",
     "output_type": "stream",
     "text": [
      "Fitting node Ridge-302...\n"
     ]
    },
    {
     "name": "stderr",
     "output_type": "stream",
     "text": [
      "Running Model-307: 999it [00:00, 22652.06it/s]          "
     ]
    },
    {
     "name": "stdout",
     "output_type": "stream",
     "text": [
      "| \u001b[0m19       \u001b[0m | \u001b[0m5.344    \u001b[0m | \u001b[0m0.009671 \u001b[0m | \u001b[0m8.093e-05\u001b[0m | \u001b[0m0.5374   \u001b[0m | \u001b[0m248.8    \u001b[0m |\n"
     ]
    },
    {
     "name": "stderr",
     "output_type": "stream",
     "text": [
      "\n",
      "Running Model-308: 1100it [00:00, 17440.07it/s]         \n",
      "Running Model-308: 100%|██████████| 1/1 [00:00<00:00, 13.87it/s]\n"
     ]
    },
    {
     "name": "stdout",
     "output_type": "stream",
     "text": [
      "Fitting node Ridge-303...\n"
     ]
    },
    {
     "name": "stderr",
     "output_type": "stream",
     "text": [
      "Running Model-308: 999it [00:00, 18422.60it/s]          \n"
     ]
    },
    {
     "name": "stdout",
     "output_type": "stream",
     "text": [
      "| \u001b[0m20       \u001b[0m | \u001b[0m1.753    \u001b[0m | \u001b[0m0.01913  \u001b[0m | \u001b[0m3.543e-05\u001b[0m | \u001b[0m0.9259   \u001b[0m | \u001b[0m753.4    \u001b[0m |\n"
     ]
    },
    {
     "name": "stderr",
     "output_type": "stream",
     "text": [
      "Running Model-309: 1100it [00:00, 21254.40it/s]         \n",
      "Running Model-309: 100%|██████████| 1/1 [00:00<00:00, 17.60it/s]\n"
     ]
    },
    {
     "name": "stdout",
     "output_type": "stream",
     "text": [
      "Fitting node Ridge-304...\n"
     ]
    },
    {
     "name": "stderr",
     "output_type": "stream",
     "text": [
      "Running Model-309: 999it [00:00, 22871.15it/s]          \n"
     ]
    },
    {
     "name": "stdout",
     "output_type": "stream",
     "text": [
      "| \u001b[0m21       \u001b[0m | \u001b[0m5.239    \u001b[0m | \u001b[0m0.01676  \u001b[0m | \u001b[0m9.451e-05\u001b[0m | \u001b[0m0.6726   \u001b[0m | \u001b[0m248.6    \u001b[0m |\n"
     ]
    },
    {
     "name": "stderr",
     "output_type": "stream",
     "text": [
      "Running Model-310: 1100it [00:00, 21347.92it/s]         \n",
      "Running Model-310: 100%|██████████| 1/1 [00:00<00:00, 17.90it/s]\n"
     ]
    },
    {
     "name": "stdout",
     "output_type": "stream",
     "text": [
      "Fitting node Ridge-305...\n"
     ]
    },
    {
     "name": "stderr",
     "output_type": "stream",
     "text": [
      "Running Model-310: 999it [00:00, 22702.38it/s]          \n"
     ]
    },
    {
     "name": "stdout",
     "output_type": "stream",
     "text": [
      "| \u001b[0m22       \u001b[0m | \u001b[0m5.304    \u001b[0m | \u001b[0m0.01023  \u001b[0m | \u001b[0m5.947e-05\u001b[0m | \u001b[0m0.202    \u001b[0m | \u001b[0m252.9    \u001b[0m |\n"
     ]
    },
    {
     "name": "stderr",
     "output_type": "stream",
     "text": [
      "Running Model-311: 1100it [00:00, 22425.40it/s]         \n",
      "Running Model-311: 100%|██████████| 1/1 [00:00<00:00, 19.02it/s]\n"
     ]
    },
    {
     "name": "stdout",
     "output_type": "stream",
     "text": [
      "Fitting node Ridge-306...\n"
     ]
    },
    {
     "name": "stderr",
     "output_type": "stream",
     "text": [
      "Running Model-311: 999it [00:00, 23391.58it/s]          \n"
     ]
    },
    {
     "name": "stdout",
     "output_type": "stream",
     "text": [
      "| \u001b[0m23       \u001b[0m | \u001b[0m5.318    \u001b[0m | \u001b[0m0.01249  \u001b[0m | \u001b[0m3.736e-05\u001b[0m | \u001b[0m0.2969   \u001b[0m | \u001b[0m142.2    \u001b[0m |\n"
     ]
    },
    {
     "name": "stderr",
     "output_type": "stream",
     "text": [
      "Running Model-312: 1100it [00:00, 20697.47it/s]         \n",
      "Running Model-312: 100%|██████████| 1/1 [00:00<00:00, 16.90it/s]\n"
     ]
    },
    {
     "name": "stdout",
     "output_type": "stream",
     "text": [
      "Fitting node Ridge-307...\n"
     ]
    },
    {
     "name": "stderr",
     "output_type": "stream",
     "text": [
      "Running Model-312: 999it [00:00, 21642.79it/s]          "
     ]
    },
    {
     "name": "stdout",
     "output_type": "stream",
     "text": [
      "| \u001b[0m24       \u001b[0m | \u001b[0m5.363    \u001b[0m | \u001b[0m0.01044  \u001b[0m | \u001b[0m9.307e-05\u001b[0m | \u001b[0m0.4252   \u001b[0m | \u001b[0m484.2    \u001b[0m |\n"
     ]
    },
    {
     "name": "stderr",
     "output_type": "stream",
     "text": [
      "\n",
      "Running Model-313: 1100it [00:00, 18937.39it/s]         \n",
      "Running Model-313: 100%|██████████| 1/1 [00:00<00:00, 14.35it/s]\n"
     ]
    },
    {
     "name": "stdout",
     "output_type": "stream",
     "text": [
      "Fitting node Ridge-308...\n"
     ]
    },
    {
     "name": "stderr",
     "output_type": "stream",
     "text": [
      "Running Model-313: 999it [00:00, 19186.27it/s]          \n"
     ]
    },
    {
     "name": "stdout",
     "output_type": "stream",
     "text": [
      "| \u001b[0m25       \u001b[0m | \u001b[0m1.563    \u001b[0m | \u001b[0m0.01024  \u001b[0m | \u001b[0m3.844e-06\u001b[0m | \u001b[0m0.7186   \u001b[0m | \u001b[0m804.6    \u001b[0m |\n"
     ]
    },
    {
     "name": "stderr",
     "output_type": "stream",
     "text": [
      "Running Model-314: 1100it [00:00, 16876.51it/s]         \n",
      "Running Model-314: 100%|██████████| 1/1 [00:00<00:00, 13.20it/s]\n"
     ]
    },
    {
     "name": "stdout",
     "output_type": "stream",
     "text": [
      "Fitting node Ridge-309...\n"
     ]
    },
    {
     "name": "stderr",
     "output_type": "stream",
     "text": [
      "Running Model-314: 999it [00:00, 18133.27it/s]          \n"
     ]
    },
    {
     "name": "stdout",
     "output_type": "stream",
     "text": [
      "| \u001b[0m26       \u001b[0m | \u001b[0m5.324    \u001b[0m | \u001b[0m0.01795  \u001b[0m | \u001b[0m6.57e-05 \u001b[0m | \u001b[0m0.3074   \u001b[0m | \u001b[0m814.5    \u001b[0m |\n"
     ]
    },
    {
     "name": "stderr",
     "output_type": "stream",
     "text": [
      "Running Model-315: 1100it [00:00, 21515.77it/s]         \n",
      "Running Model-315: 100%|██████████| 1/1 [00:00<00:00, 17.97it/s]\n"
     ]
    },
    {
     "name": "stdout",
     "output_type": "stream",
     "text": [
      "Fitting node Ridge-310...\n"
     ]
    },
    {
     "name": "stderr",
     "output_type": "stream",
     "text": [
      "Running Model-315: 999it [00:00, 23568.67it/s]          \n"
     ]
    },
    {
     "name": "stdout",
     "output_type": "stream",
     "text": [
      "| \u001b[0m27       \u001b[0m | \u001b[0m5.063    \u001b[0m | \u001b[0m0.01197  \u001b[0m | \u001b[0m2.191e-05\u001b[0m | \u001b[0m0.7121   \u001b[0m | \u001b[0m283.6    \u001b[0m |\n"
     ]
    },
    {
     "name": "stderr",
     "output_type": "stream",
     "text": [
      "Running Model-316: 1100it [00:00, 20575.35it/s]         \n",
      "Running Model-316: 100%|██████████| 1/1 [00:00<00:00, 17.17it/s]\n"
     ]
    },
    {
     "name": "stdout",
     "output_type": "stream",
     "text": [
      "Fitting node Ridge-311...\n"
     ]
    },
    {
     "name": "stderr",
     "output_type": "stream",
     "text": [
      "Running Model-316: 999it [00:00, 21300.84it/s]          \n"
     ]
    },
    {
     "name": "stdout",
     "output_type": "stream",
     "text": [
      "| \u001b[0m28       \u001b[0m | \u001b[0m5.311    \u001b[0m | \u001b[0m0.01995  \u001b[0m | \u001b[0m7.506e-05\u001b[0m | \u001b[0m0.4677   \u001b[0m | \u001b[0m416.5    \u001b[0m |\n"
     ]
    },
    {
     "name": "stderr",
     "output_type": "stream",
     "text": [
      "Running Model-317: 1100it [00:00, 17714.95it/s]         \n",
      "Running Model-317: 100%|██████████| 1/1 [00:00<00:00, 14.09it/s]\n"
     ]
    },
    {
     "name": "stdout",
     "output_type": "stream",
     "text": [
      "Fitting node Ridge-312...\n"
     ]
    },
    {
     "name": "stderr",
     "output_type": "stream",
     "text": [
      "Running Model-317: 999it [00:00, 18958.91it/s]          \n"
     ]
    },
    {
     "name": "stdout",
     "output_type": "stream",
     "text": [
      "| \u001b[0m29       \u001b[0m | \u001b[0m2.837    \u001b[0m | \u001b[0m0.01649  \u001b[0m | \u001b[0m6.736e-05\u001b[0m | \u001b[0m0.8451   \u001b[0m | \u001b[0m780.9    \u001b[0m |\n"
     ]
    },
    {
     "name": "stderr",
     "output_type": "stream",
     "text": [
      "Running Model-318: 1100it [00:00, 18880.12it/s]         \n",
      "Running Model-318: 100%|██████████| 1/1 [00:00<00:00, 14.74it/s]\n"
     ]
    },
    {
     "name": "stdout",
     "output_type": "stream",
     "text": [
      "Fitting node Ridge-313...\n"
     ]
    },
    {
     "name": "stderr",
     "output_type": "stream",
     "text": [
      "Running Model-318: 999it [00:00, 19182.15it/s]          \n"
     ]
    },
    {
     "name": "stdout",
     "output_type": "stream",
     "text": [
      "| \u001b[0m30       \u001b[0m | \u001b[0m2.858    \u001b[0m | \u001b[0m0.01204  \u001b[0m | \u001b[0m2.857e-05\u001b[0m | \u001b[0m0.7748   \u001b[0m | \u001b[0m770.5    \u001b[0m |\n"
     ]
    },
    {
     "name": "stderr",
     "output_type": "stream",
     "text": [
      "Running Model-319: 1100it [00:00, 17600.34it/s]         \n",
      "Running Model-319: 100%|██████████| 1/1 [00:00<00:00, 14.25it/s]\n"
     ]
    },
    {
     "name": "stdout",
     "output_type": "stream",
     "text": [
      "Fitting node Ridge-314...\n"
     ]
    },
    {
     "name": "stderr",
     "output_type": "stream",
     "text": [
      "Running Model-319: 999it [00:00, 20210.05it/s]          \n"
     ]
    },
    {
     "name": "stdout",
     "output_type": "stream",
     "text": [
      "| \u001b[0m31       \u001b[0m | \u001b[0m1.014    \u001b[0m | \u001b[0m0.008979 \u001b[0m | \u001b[0m4.987e-05\u001b[0m | \u001b[0m1.122    \u001b[0m | \u001b[0m707.2    \u001b[0m |\n"
     ]
    },
    {
     "name": "stderr",
     "output_type": "stream",
     "text": [
      "Running Model-320: 1100it [00:00, 19620.05it/s]         \n",
      "Running Model-320: 100%|██████████| 1/1 [00:00<00:00, 16.49it/s]\n"
     ]
    },
    {
     "name": "stdout",
     "output_type": "stream",
     "text": [
      "Fitting node Ridge-315...\n"
     ]
    },
    {
     "name": "stderr",
     "output_type": "stream",
     "text": [
      "Running Model-320: 999it [00:00, 21686.82it/s]          \n"
     ]
    },
    {
     "name": "stdout",
     "output_type": "stream",
     "text": [
      "| \u001b[0m32       \u001b[0m | \u001b[0m5.32     \u001b[0m | \u001b[0m0.01406  \u001b[0m | \u001b[0m5.65e-05 \u001b[0m | \u001b[0m0.2928   \u001b[0m | \u001b[0m481.8    \u001b[0m |\n"
     ]
    },
    {
     "name": "stderr",
     "output_type": "stream",
     "text": [
      "Running Model-321: 1100it [00:00, 22497.57it/s]         \n",
      "Running Model-321: 100%|██████████| 1/1 [00:00<00:00, 18.91it/s]\n"
     ]
    },
    {
     "name": "stdout",
     "output_type": "stream",
     "text": [
      "Fitting node Ridge-316...\n"
     ]
    },
    {
     "name": "stderr",
     "output_type": "stream",
     "text": [
      "Running Model-321: 999it [00:00, 23761.67it/s]          \n"
     ]
    },
    {
     "name": "stdout",
     "output_type": "stream",
     "text": [
      "| \u001b[0m33       \u001b[0m | \u001b[0m5.286    \u001b[0m | \u001b[0m0.008676 \u001b[0m | \u001b[0m4.606e-05\u001b[0m | \u001b[0m0.7419   \u001b[0m | \u001b[0m145.0    \u001b[0m |\n"
     ]
    },
    {
     "name": "stderr",
     "output_type": "stream",
     "text": [
      "Running Model-322: 1100it [00:00, 19507.07it/s]         \n",
      "Running Model-322: 100%|██████████| 1/1 [00:00<00:00, 16.29it/s]\n"
     ]
    },
    {
     "name": "stdout",
     "output_type": "stream",
     "text": [
      "Fitting node Ridge-317...\n"
     ]
    },
    {
     "name": "stderr",
     "output_type": "stream",
     "text": [
      "Running Model-322: 999it [00:00, 18210.90it/s]          "
     ]
    },
    {
     "name": "stdout",
     "output_type": "stream",
     "text": [
      "| \u001b[0m34       \u001b[0m | \u001b[0m4.187    \u001b[0m | \u001b[0m0.01599  \u001b[0m | \u001b[0m1.27e-05 \u001b[0m | \u001b[0m0.6774   \u001b[0m | \u001b[0m413.6    \u001b[0m |\n"
     ]
    },
    {
     "name": "stderr",
     "output_type": "stream",
     "text": [
      "\n",
      "Running Model-323: 1100it [00:00, 18242.45it/s]         \n",
      "Running Model-323: 100%|██████████| 1/1 [00:00<00:00, 14.53it/s]\n"
     ]
    },
    {
     "name": "stdout",
     "output_type": "stream",
     "text": [
      "Fitting node Ridge-318...\n"
     ]
    },
    {
     "name": "stderr",
     "output_type": "stream",
     "text": [
      "Running Model-323: 999it [00:00, 18861.88it/s]          \n"
     ]
    },
    {
     "name": "stdout",
     "output_type": "stream",
     "text": [
      "| \u001b[0m35       \u001b[0m | \u001b[0m5.284    \u001b[0m | \u001b[0m0.01783  \u001b[0m | \u001b[0m4.644e-05\u001b[0m | \u001b[0m0.1239   \u001b[0m | \u001b[0m713.4    \u001b[0m |\n"
     ]
    },
    {
     "name": "stderr",
     "output_type": "stream",
     "text": [
      "Running Model-324: 1100it [00:00, 18466.02it/s]         \n",
      "Running Model-324: 100%|██████████| 1/1 [00:00<00:00, 15.10it/s]\n"
     ]
    },
    {
     "name": "stdout",
     "output_type": "stream",
     "text": [
      "Fitting node Ridge-319...\n"
     ]
    },
    {
     "name": "stderr",
     "output_type": "stream",
     "text": [
      "Running Model-324: 999it [00:00, 19829.58it/s]          \n"
     ]
    },
    {
     "name": "stdout",
     "output_type": "stream",
     "text": [
      "| \u001b[0m36       \u001b[0m | \u001b[0m5.266    \u001b[0m | \u001b[0m0.0153   \u001b[0m | \u001b[0m0.0001   \u001b[0m | \u001b[0m0.1      \u001b[0m | \u001b[0m700.7    \u001b[0m |\n"
     ]
    },
    {
     "name": "stderr",
     "output_type": "stream",
     "text": [
      "Running Model-325: 1100it [00:00, 20462.29it/s]         \n",
      "Running Model-325: 100%|██████████| 1/1 [00:00<00:00, 17.31it/s]\n"
     ]
    },
    {
     "name": "stdout",
     "output_type": "stream",
     "text": [
      "Fitting node Ridge-320...\n"
     ]
    },
    {
     "name": "stderr",
     "output_type": "stream",
     "text": [
      "Running Model-325: 999it [00:00, 22682.59it/s]          \n"
     ]
    },
    {
     "name": "stdout",
     "output_type": "stream",
     "text": [
      "| \u001b[0m37       \u001b[0m | \u001b[0m5.35     \u001b[0m | \u001b[0m0.009221 \u001b[0m | \u001b[0m3.094e-05\u001b[0m | \u001b[0m0.6552   \u001b[0m | \u001b[0m138.6    \u001b[0m |\n"
     ]
    },
    {
     "name": "stderr",
     "output_type": "stream",
     "text": [
      "Running Model-326: 1100it [00:00, 20931.84it/s]         \n",
      "Running Model-326: 100%|██████████| 1/1 [00:00<00:00, 17.68it/s]\n"
     ]
    },
    {
     "name": "stdout",
     "output_type": "stream",
     "text": [
      "Fitting node Ridge-321...\n"
     ]
    },
    {
     "name": "stderr",
     "output_type": "stream",
     "text": [
      "Running Model-326: 999it [00:00, 21690.52it/s]          "
     ]
    },
    {
     "name": "stdout",
     "output_type": "stream",
     "text": [
      "| \u001b[0m38       \u001b[0m | \u001b[0m5.199    \u001b[0m | \u001b[0m0.01899  \u001b[0m | \u001b[0m6.296e-06\u001b[0m | \u001b[0m0.404    \u001b[0m | \u001b[0m407.7    \u001b[0m |\n"
     ]
    },
    {
     "name": "stderr",
     "output_type": "stream",
     "text": [
      "\n",
      "Running Model-327: 1100it [00:00, 20724.15it/s]         \n",
      "Running Model-327: 100%|██████████| 1/1 [00:00<00:00, 17.52it/s]\n"
     ]
    },
    {
     "name": "stdout",
     "output_type": "stream",
     "text": [
      "Fitting node Ridge-322...\n"
     ]
    },
    {
     "name": "stderr",
     "output_type": "stream",
     "text": [
      "Running Model-327: 999it [00:00, 21690.30it/s]          "
     ]
    },
    {
     "name": "stdout",
     "output_type": "stream",
     "text": [
      "| \u001b[0m39       \u001b[0m | \u001b[0m4.874    \u001b[0m | \u001b[0m0.01942  \u001b[0m | \u001b[0m7.545e-05\u001b[0m | \u001b[0m0.7901   \u001b[0m | \u001b[0m419.8    \u001b[0m |\n"
     ]
    },
    {
     "name": "stderr",
     "output_type": "stream",
     "text": [
      "\n",
      "Running Model-328: 1100it [00:00, 21128.64it/s]         \n",
      "Running Model-328: 100%|██████████| 1/1 [00:00<00:00, 17.99it/s]\n"
     ]
    },
    {
     "name": "stdout",
     "output_type": "stream",
     "text": [
      "Fitting node Ridge-323...\n"
     ]
    },
    {
     "name": "stderr",
     "output_type": "stream",
     "text": [
      "Running Model-328: 999it [00:00, 21696.14it/s]          "
     ]
    },
    {
     "name": "stdout",
     "output_type": "stream",
     "text": [
      "| \u001b[0m40       \u001b[0m | \u001b[0m4.299    \u001b[0m | \u001b[0m0.01964  \u001b[0m | \u001b[0m4.361e-05\u001b[0m | \u001b[0m1.104    \u001b[0m | \u001b[0m274.8    \u001b[0m |\n"
     ]
    },
    {
     "name": "stderr",
     "output_type": "stream",
     "text": [
      "\n",
      "Running Model-329: 1100it [00:00, 18130.76it/s]         \n",
      "Running Model-329: 100%|██████████| 1/1 [00:00<00:00, 14.32it/s]\n"
     ]
    },
    {
     "name": "stdout",
     "output_type": "stream",
     "text": [
      "Fitting node Ridge-324...\n"
     ]
    },
    {
     "name": "stderr",
     "output_type": "stream",
     "text": [
      "Running Model-329: 999it [00:00, 19219.89it/s]          \n"
     ]
    },
    {
     "name": "stdout",
     "output_type": "stream",
     "text": [
      "| \u001b[0m41       \u001b[0m | \u001b[0m0.8374   \u001b[0m | \u001b[0m0.01026  \u001b[0m | \u001b[0m6.178e-05\u001b[0m | \u001b[0m1.173    \u001b[0m | \u001b[0m818.0    \u001b[0m |\n"
     ]
    },
    {
     "name": "stderr",
     "output_type": "stream",
     "text": [
      "Running Model-330: 1100it [00:00, 17392.14it/s]         \n",
      "Running Model-330: 100%|██████████| 1/1 [00:00<00:00, 13.65it/s]\n"
     ]
    },
    {
     "name": "stdout",
     "output_type": "stream",
     "text": [
      "Fitting node Ridge-325...\n"
     ]
    },
    {
     "name": "stderr",
     "output_type": "stream",
     "text": [
      "Running Model-330: 999it [00:00, 18104.36it/s]          \n"
     ]
    },
    {
     "name": "stdout",
     "output_type": "stream",
     "text": [
      "| \u001b[0m42       \u001b[0m | \u001b[0m1.404    \u001b[0m | \u001b[0m0.01426  \u001b[0m | \u001b[0m6.244e-05\u001b[0m | \u001b[0m1.02     \u001b[0m | \u001b[0m812.7    \u001b[0m |\n"
     ]
    },
    {
     "name": "stderr",
     "output_type": "stream",
     "text": [
      "Running Model-331: 1100it [00:00, 20059.02it/s]         \n",
      "Running Model-331: 100%|██████████| 1/1 [00:00<00:00, 16.29it/s]\n"
     ]
    },
    {
     "name": "stdout",
     "output_type": "stream",
     "text": [
      "Fitting node Ridge-326...\n"
     ]
    },
    {
     "name": "stderr",
     "output_type": "stream",
     "text": [
      "Running Model-331: 999it [00:00, 21125.57it/s]          \n"
     ]
    },
    {
     "name": "stdout",
     "output_type": "stream",
     "text": [
      "| \u001b[0m43       \u001b[0m | \u001b[0m1.315    \u001b[0m | \u001b[0m0.01609  \u001b[0m | \u001b[0m4.737e-05\u001b[0m | \u001b[0m1.106    \u001b[0m | \u001b[0m483.0    \u001b[0m |\n"
     ]
    },
    {
     "name": "stderr",
     "output_type": "stream",
     "text": [
      "Running Model-332: 1100it [00:00, 18738.56it/s]         \n",
      "Running Model-332: 100%|██████████| 1/1 [00:00<00:00, 14.33it/s]\n"
     ]
    },
    {
     "name": "stdout",
     "output_type": "stream",
     "text": [
      "Fitting node Ridge-327...\n"
     ]
    },
    {
     "name": "stderr",
     "output_type": "stream",
     "text": [
      "Running Model-332: 999it [00:00, 18644.83it/s]          \n"
     ]
    },
    {
     "name": "stdout",
     "output_type": "stream",
     "text": [
      "| \u001b[0m44       \u001b[0m | \u001b[0m5.327    \u001b[0m | \u001b[0m0.01616  \u001b[0m | \u001b[0m5.836e-05\u001b[0m | \u001b[0m0.3633   \u001b[0m | \u001b[0m814.5    \u001b[0m |\n"
     ]
    },
    {
     "name": "stderr",
     "output_type": "stream",
     "text": [
      "Running Model-333: 1100it [00:00, 20103.51it/s]         \n",
      "Running Model-333: 100%|██████████| 1/1 [00:00<00:00, 16.63it/s]\n"
     ]
    },
    {
     "name": "stdout",
     "output_type": "stream",
     "text": [
      "Fitting node Ridge-328...\n"
     ]
    },
    {
     "name": "stderr",
     "output_type": "stream",
     "text": [
      "Running Model-333: 999it [00:00, 20784.79it/s]          \n"
     ]
    },
    {
     "name": "stdout",
     "output_type": "stream",
     "text": [
      "| \u001b[0m45       \u001b[0m | \u001b[0m5.298    \u001b[0m | \u001b[0m0.01039  \u001b[0m | \u001b[0m7.096e-06\u001b[0m | \u001b[0m0.125    \u001b[0m | \u001b[0m480.7    \u001b[0m |\n",
      "=========================================================================\n"
     ]
    },
    {
     "name": "stderr",
     "output_type": "stream",
     "text": [
      "Running Model-334: 2099it [00:00, 17530.83it/s]?, ?it/s]\n",
      "Running Model-334: 100%|██████████| 1/1 [00:00<00:00,  7.45it/s]\n"
     ]
    },
    {
     "name": "stdout",
     "output_type": "stream",
     "text": [
      "Fitting node Ridge-329...\n"
     ]
    },
    {
     "name": "stderr",
     "output_type": "stream",
     "text": [
      "Running Model-334: 1164it [00:00, 19045.53it/s]         "
     ]
    },
    {
     "name": "stdout",
     "output_type": "stream",
     "text": [
      "0.1952812290090029\n"
     ]
    },
    {
     "name": "stderr",
     "output_type": "stream",
     "text": [
      "\n"
     ]
    }
   ],
   "source": [
    "print(testDefault())"
   ]
  },
  {
   "cell_type": "code",
   "execution_count": 41,
   "metadata": {},
   "outputs": [
    {
     "name": "stderr",
     "output_type": "stream",
     "text": [
      "Running Model-2: 2100it [00:00, 15452.40it/s]?, ?it/s]\n",
      "Running Model-2: 100%|██████████| 1/1 [00:00<00:00,  6.72it/s]\n"
     ]
    },
    {
     "name": "stdout",
     "output_type": "stream",
     "text": [
      "Fitting node Ridge-2...\n"
     ]
    },
    {
     "name": "stderr",
     "output_type": "stream",
     "text": [
      "Running Model-2: 1144it [00:00, 16751.68it/s]         \n",
      "Running Model-3: 2100it [00:00, 15784.11it/s]?, ?it/s]\n",
      "Running Model-3: 100%|██████████| 1/1 [00:00<00:00,  6.81it/s]\n"
     ]
    },
    {
     "name": "stdout",
     "output_type": "stream",
     "text": [
      "Fitting node Ridge-3...\n"
     ]
    },
    {
     "name": "stderr",
     "output_type": "stream",
     "text": [
      "Running Model-3: 2100it [00:00, 16559.58it/s]         \n",
      "Running Model-4: 2100it [00:00, 15872.48it/s]?, ?it/s]\n",
      "Running Model-4: 100%|██████████| 1/1 [00:00<00:00,  6.84it/s]\n"
     ]
    },
    {
     "name": "stdout",
     "output_type": "stream",
     "text": [
      "Fitting node Ridge-4...\n"
     ]
    },
    {
     "name": "stderr",
     "output_type": "stream",
     "text": [
      "Running Model-3: 1144it [00:00, 16416.96it/s]         \n",
      "Running Model-4: 1144it [00:00, 17338.60it/s]         \n",
      "Running Model-6: 2100it [00:00, 5495.77it/s]<?, ?it/s]\n",
      "Running Model-6: 100%|██████████| 1/1 [00:00<00:00,  2.53it/s]\n"
     ]
    },
    {
     "name": "stdout",
     "output_type": "stream",
     "text": [
      "Fitting node Ridge-5...\n"
     ]
    },
    {
     "name": "stderr",
     "output_type": "stream",
     "text": [
      "Running Model-6: 1144it [00:00, 6075.72it/s]          \n",
      "Running Model-8: 2100it [00:00, 5433.05it/s]<?, ?it/s]\n",
      "Running Model-8: 100%|██████████| 1/1 [00:00<00:00,  2.50it/s]\n"
     ]
    },
    {
     "name": "stdout",
     "output_type": "stream",
     "text": [
      "Fitting node Ridge-6...\n"
     ]
    },
    {
     "name": "stderr",
     "output_type": "stream",
     "text": [
      "Running Model-8: 2100it [00:00, 6061.41it/s]          \n",
      "Running Model-10: 2100it [00:00, 5608.38it/s]<?, ?it/s]\n",
      "Running Model-10: 100%|██████████| 1/1 [00:00<00:00,  2.57it/s]\n"
     ]
    },
    {
     "name": "stdout",
     "output_type": "stream",
     "text": [
      "Fitting node Ridge-7...\n"
     ]
    },
    {
     "name": "stderr",
     "output_type": "stream",
     "text": [
      "Running Model-8: 1144it [00:00, 5859.01it/s]          \n",
      "Running Model-10: 1144it [00:00, 5662.83it/s]          \n",
      "Running Model-12: 2100it [00:00, 3113.61it/s]<?, ?it/s]\n",
      "Running Model-12: 100%|██████████| 1/1 [00:00<00:00,  1.45it/s]\n"
     ]
    },
    {
     "name": "stdout",
     "output_type": "stream",
     "text": [
      "Fitting node Ridge-8...\n"
     ]
    },
    {
     "name": "stderr",
     "output_type": "stream",
     "text": [
      "Running Model-12: 2100it [00:00, 3324.21it/s]          \n",
      "Running Model-14: 2100it [00:00, 8784.01it/s]<?, ?it/s]\n",
      "Running Model-14: 100%|██████████| 1/1 [00:00<00:00,  3.94it/s]\n"
     ]
    },
    {
     "name": "stdout",
     "output_type": "stream",
     "text": [
      "Fitting node Ridge-9...\n"
     ]
    },
    {
     "name": "stderr",
     "output_type": "stream",
     "text": [
      "Running Model-12: 1144it [00:00, 3349.89it/s]          \n",
      "Running Model-14: 1144it [00:00, 9856.89it/s]          \n",
      "Running Model-15: 2100it [00:00, 13629.42it/s]?, ?it/s]\n",
      "Running Model-15: 100%|██████████| 1/1 [00:00<00:00,  4.76it/s]\n",
      "c:\\Users\\Alok\\Downloads\\phd\\ESN_research\\venv\\lib\\site-packages\\reservoirpy\\nodes\\readouts\\ridge.py:17: LinAlgWarning: Ill-conditioned matrix (rcond=2.94756e-25): result may not be accurate.\n",
      "  return linalg.solve(XXT + ridge, YXT.T, assume_a=\"sym\")\n"
     ]
    },
    {
     "name": "stdout",
     "output_type": "stream",
     "text": [
      "Fitting node Ridge-10...\n"
     ]
    },
    {
     "name": "stderr",
     "output_type": "stream",
     "text": [
      "Running Model-15: 1144it [00:00, 14864.85it/s]         "
     ]
    },
    {
     "name": "stdout",
     "output_type": "stream",
     "text": [
      "==================Lorenz NRMSE==================\n",
      "Normal training error: 0.7166276174273154\n",
      "NVAR training error 23.442228545655794\n",
      "Cascading ESN error: 1.0129983148546795\n",
      "Deep ESN error: 4.044797242784084\n",
      "Deep + cascade error: 11.654705661606103\n",
      "Deep + cascade + NVAR error: 0.8302470218958352\n"
     ]
    },
    {
     "name": "stderr",
     "output_type": "stream",
     "text": [
      "\n"
     ]
    }
   ],
   "source": [
    "def testDefault():\n",
    "    esn = Reservoir(units=1000, sr=0.8, rc_connectivity=0.01, noise_in=1e-10) >> Ridge(output_dim=1, ridge=1e-5)\n",
    "    trainX, trainY, testX, testY = getData()\n",
    "\n",
    "    esn.fit(trainX, trainY, warmup=1000)\n",
    "    preds = esn.run(testX)\n",
    "    return nrmse(testY, preds)\n",
    "\n",
    "def testDeep():\n",
    "    esn = (Reservoir(units=1000, sr=0.8, rc_connectivity=0.01, noise_in=1e-10) >> Reservoir(units=1000, sr=0.8, rc_connectivity=0.01, noise_in=1e-10)) >> Ridge(output_dim=1, ridge=1e-5)\n",
    "    trainX, trainY, testX, testY = getData()\n",
    "\n",
    "    esn.fit(trainX, trainY, warmup=1000)\n",
    "    preds = esn.run(testX)\n",
    "    return nrmse(testY, preds)\n",
    "\n",
    "def testDeepCascade():\n",
    "    esn = (Reservoir(units=1000, sr=0.8, rc_connectivity=0.01, noise_in=1e-10) >> Reservoir(units=1000, sr=0.8, rc_connectivity=0.01, noise_in=1e-10)) >> Ridge(output_dim=1, ridge=1e-5)\n",
    "    trainX, trainY, testX, testY = getData()\n",
    "\n",
    "    esn.fit(trainX, trainY, warmup=1000)\n",
    "\n",
    "    esn2 = (Reservoir(units=1000, sr=0.8, rc_connectivity=0.01, noise_in=1e-10) >> Reservoir(units=1000, sr=0.8, rc_connectivity=0.01, noise_in=1e-10)) >> Ridge(output_dim=1, ridge=1e-5)\n",
    "    esnPreds = copy.deepcopy(esn).run(trainX)\n",
    "    esn2.fit(esnPreds, trainY, warmup=1000)\n",
    "\n",
    "    preds1 = esn.run(testX)\n",
    "    preds2 = esn2.run(preds1)\n",
    "    return nrmse(testY, preds2)\n",
    "\n",
    "def testCascade():\n",
    "    esn = Reservoir(units=1000, sr=0.8, rc_connectivity=0.01, noise_in=1e-10) >> Ridge(output_dim=1, ridge=1e-5)\n",
    "    trainX, trainY, testX, testY = getData()\n",
    "\n",
    "    esn.fit(trainX, trainY, warmup=1000)\n",
    "\n",
    "    esn2 = Reservoir(units=1000, sr=0.8, rc_connectivity=0.01, noise_in=1e-10) >> Ridge(output_dim=1, ridge=1e-5)\n",
    "    esnPreds = copy.deepcopy(esn).run(trainX)\n",
    "    esn2.fit(esnPreds, trainY, warmup=1000)\n",
    "\n",
    "    preds1 = esn.run(testX)\n",
    "    preds2 = esn2.run(preds1)\n",
    "    return nrmse(testY, preds2)\n",
    "\n",
    "\n",
    "def testDeepCascadeNVAR():\n",
    "    esn = (NVAR(delay=8, order=3, strides=4) >> Reservoir(units=1000, sr=0.8, rc_connectivity=0.01, noise_in=1e-10)) >> Ridge(output_dim=1, ridge=1e-5)\n",
    "    trainX, trainY, testX, testY = getData()\n",
    "\n",
    "    esn.fit(trainX, trainY, warmup=1000)\n",
    "\n",
    "    esn2 = (NVAR(delay=8, order=3, strides=4) >> Reservoir(units=1000, sr=0.8, rc_connectivity=0.01, noise_in=1e-10)) >> Ridge(output_dim=1, ridge=1e-5)\n",
    "    esnPreds = copy.deepcopy(esn).run(trainX)\n",
    "    esn2.fit(esnPreds, trainY, warmup=1000)\n",
    "\n",
    "    preds1 = esn.run(testX)\n",
    "    preds2 = esn2.run(preds1)\n",
    "    return nrmse(testY, preds2)\n",
    "\n",
    "def testNVAR():\n",
    "    esn = NVAR(delay=8, order=3, strides=4) >> Ridge(output_dim=1, ridge=1e-5)\n",
    "    trainX, trainY, testX, testY = getData()\n",
    "\n",
    "    esn.fit(trainX, trainY, warmup=1000)\n",
    "    preds = esn.run(testX)\n",
    "    return nrmse(testY, preds)\n",
    "\n",
    "error1 = testDefault()\n",
    "error2 = testCascade()\n",
    "error4 = testDeep()\n",
    "error5 = testDeepCascade()\n",
    "error6 = testDeepCascadeNVAR()\n",
    "error7 = testNVAR()\n",
    "print(\"==================Lorenz NRMSE==================\")\n",
    "print('Normal training error:', error1)\n",
    "print('NVAR training error', error7)\n",
    "print('Cascading ESN error:', error2)\n",
    "print('Deep ESN error:', error4)\n",
    "print('Deep + cascade error:', error5)\n",
    "print('Deep + cascade + NVAR error:', error6)"
   ]
  },
  {
   "cell_type": "code",
   "execution_count": 63,
   "metadata": {},
   "outputs": [
    {
     "name": "stderr",
     "output_type": "stream",
     "text": [
      "Running Model-877: 2999it [00:00, 8174.95it/s]<?, ?it/s]\n",
      "Running Model-877: 100%|██████████| 1/1 [00:00<00:00,  2.59it/s]\n"
     ]
    },
    {
     "name": "stdout",
     "output_type": "stream",
     "text": [
      "Fitting node readout1-1...\n"
     ]
    },
    {
     "name": "stderr",
     "output_type": "stream",
     "text": [
      "Running Model-877: 2999it [00:00, 7465.84it/s]<?, ?it/s]\n",
      "Running Model-877: 100%|██████████| 1/1 [00:00<00:00,  2.39it/s]\n"
     ]
    },
    {
     "name": "stdout",
     "output_type": "stream",
     "text": [
      "Fitting node readout2-1...\n"
     ]
    },
    {
     "name": "stderr",
     "output_type": "stream",
     "text": [
      "Running Model-877: 1000it [00:00, 4465.45it/s]          \n",
      "Running Model-877: 84it [00:00, 4927.23it/s]            \n",
      "Running Model-877: 1000it [00:00, 4473.58it/s]          \n",
      "Running Model-877: 84it [00:00, 4930.61it/s]            \n",
      "Running Model-877: 1000it [00:00, 4386.62it/s]          \n",
      "Running Model-877: 84it [00:00, 5195.41it/s]            \n",
      "Running Model-877: 1000it [00:00, 4453.41it/s]          \n",
      "Running Model-877: 84it [00:00, 4813.73it/s]            \n",
      "Running Model-877: 1000it [00:00, 4406.52it/s]          \n",
      "Running Model-877: 84it [00:00, 5237.42it/s]            \n",
      "Running Model-877: 1000it [00:00, 4390.92it/s]          \n",
      "Running Model-877: 84it [00:00, 4944.52it/s]            \n",
      "Running Model-877: 1000it [00:00, 4274.97it/s]          \n",
      "Running Model-877: 84it [00:00, 4844.77it/s]            \n",
      "Running Model-877: 1000it [00:00, 4436.23it/s]          \n",
      "Running Model-877: 84it [00:00, 4732.32it/s]            \n",
      "Running Model-877: 1000it [00:00, 4384.06it/s]          \n",
      "Running Model-877: 84it [00:00, 5051.42it/s]            \n",
      "Running Model-877: 1000it [00:00, 4281.21it/s]          \n",
      "Running Model-877: 84it [00:00, 4928.54it/s]            \n",
      "Running Model-877: 1000it [00:00, 4470.65it/s]          \n",
      "Running Model-877: 84it [00:00, 4884.33it/s]            \n",
      "Running Model-877: 1000it [00:00, 4361.95it/s]          \n",
      "Running Model-877: 84it [00:00, 5390.48it/s]            \n",
      "Running Model-877: 1000it [00:00, 4423.91it/s]          \n",
      "Running Model-877: 84it [00:00, 5331.90it/s]            \n",
      "Running Model-877: 1000it [00:00, 4354.21it/s]          \n",
      "Running Model-877: 84it [00:00, 4843.84it/s]            \n",
      "Running Model-877: 1000it [00:00, 4487.21it/s]          \n",
      "Running Model-877: 84it [00:00, 5033.60it/s]            \n",
      "Running Model-877: 1000it [00:00, 4324.97it/s]          \n",
      "Running Model-877: 84it [00:00, 5145.86it/s]            \n",
      "Running Model-877: 1000it [00:00, 4509.88it/s]          \n",
      "Running Model-877: 84it [00:00, 5088.63it/s]            \n",
      "Running Model-877: 1000it [00:00, 4327.81it/s]          \n",
      "Running Model-877: 84it [00:00, 5171.54it/s]            \n",
      "Running Model-877: 1000it [00:00, 4402.27it/s]          \n",
      "Running Model-877: 84it [00:00, 4837.92it/s]            \n",
      "Running Model-877: 1000it [00:00, 4471.69it/s]          \n",
      "Running Model-877: 84it [00:00, 5337.80it/s]            "
     ]
    },
    {
     "name": "stdout",
     "output_type": "stream",
     "text": [
      "3.806589397601199e-05\n"
     ]
    },
    {
     "name": "stderr",
     "output_type": "stream",
     "text": [
      "\n"
     ]
    }
   ],
   "source": [
    "numEvals = 20\n",
    "trainSize = 3000\n",
    "teacherForcing = 1000\n",
    "\n",
    "def testMGSDeepCascadeNVAR():\n",
    "    nvar1 = NVAR(delay=8, order=3, strides=4)\n",
    "    reservoir1 = Reservoir(units=1000, sr=0.8, rc_connectivity=0.01, noise_in=1e-10)\n",
    "    readout1 = Ridge(output_dim=1, ridge=1e-5, name=\"readout1-1\")\n",
    "    nvar2 = NVAR(delay=8, order=3, strides=4)\n",
    "    reservoir2 = Reservoir(units=1000, sr=0.8, rc_connectivity=0.01, noise_in=1e-10)\n",
    "    readout2 = Ridge(output_dim=1, ridge=1e-5, name=\"readout2-1\")\n",
    "    esn = nvar1 >> reservoir1 >> readout1 >> nvar2 >> reservoir2 >> readout2\n",
    "    data = np.array(mackey_glass(n_timesteps=(10 * trainSize), h=0.1))\n",
    "    data = data[::10]\n",
    "    data = np.tanh(data-1)\n",
    "    X = data[:-1]\n",
    "    Y = data[1:]\n",
    "\n",
    "    esn.fit(X, {\"readout1-1\": Y, \"readout2-1\": Y}, warmup=1000)\n",
    "\n",
    "    error = 0\n",
    "    for i in range(numEvals):\n",
    "        data2 = np.array(mackey_glass(n_timesteps=10 * (teacherForcing+85), seed=i, h=0.1))\n",
    "        data2 = data2[::10]\n",
    "        data2 = np.tanh(data2-1)\n",
    "\n",
    "        teacherForcingX = data2[:teacherForcing]\n",
    "        teacherForcingY = data2[1:teacherForcing+1]\n",
    "        x_test = data2[teacherForcing:-1]\n",
    "        y_test = data2[teacherForcing+84:]\n",
    "        esn.run(teacherForcingX, forced_feedbacks=teacherForcingY, reset=True)\n",
    "\n",
    "        pred = esn.run(x_test)[-1]\n",
    "        error += (y_test[0][0] - pred)**2\n",
    "    variance = np.var(data)\n",
    "    return math.sqrt(error/(numEvals*variance))\n",
    "\n",
    "print(testMGSDeepCascadeNVAR())"
   ]
  }
 ],
 "metadata": {
  "kernelspec": {
   "display_name": "venv",
   "language": "python",
   "name": "python3"
  },
  "language_info": {
   "codemirror_mode": {
    "name": "ipython",
    "version": 3
   },
   "file_extension": ".py",
   "mimetype": "text/x-python",
   "name": "python",
   "nbconvert_exporter": "python",
   "pygments_lexer": "ipython3",
   "version": "3.9.0"
  },
  "orig_nbformat": 4
 },
 "nbformat": 4,
 "nbformat_minor": 2
}
