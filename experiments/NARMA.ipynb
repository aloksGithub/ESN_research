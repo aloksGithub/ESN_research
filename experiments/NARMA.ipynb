{
 "cells": [
  {
   "cell_type": "code",
   "execution_count": 5,
   "metadata": {},
   "outputs": [],
   "source": [
    "from tabulate import tabulate\n",
    "from reservoirpy.nodes import (Reservoir, IPReservoir, NVAR, LMS, RLS, Ridge, ESN, Input)\n",
    "from reservoirpy.datasets import (lorenz, mackey_glass, narma)\n",
    "from reservoirpy.observables import (rmse, rsquare, nrmse, mse)\n",
    "import numpy as np\n",
    "import copy\n",
    "import math\n",
    "import matplotlib.pyplot as plt\n",
    "from numpy import linalg as LA"
   ]
  },
  {
   "attachments": {},
   "cell_type": "markdown",
   "metadata": {},
   "source": [
    "Following the same setup as \"Growing Echo-State Network With Multiple Subreservoirs\""
   ]
  },
  {
   "cell_type": "code",
   "execution_count": 53,
   "metadata": {},
   "outputs": [],
   "source": [
    "# from reservoirpy.utils.random import rand_generator\n",
    "# from reservoirpy.utils.validation import check_vector\n",
    "# from reservoirpy.datasets import get_seed\n",
    "\n",
    "# def narma(\n",
    "#     n_timesteps: int,\n",
    "#     order: int = 30,\n",
    "#     a1: float = 0.2,\n",
    "#     a2: float = 0.04,\n",
    "#     b: float = 1.5,\n",
    "#     c: float = 0.001,\n",
    "#     x0 = [0.0],\n",
    "#     seed = None,\n",
    "# ) -> np.ndarray:\n",
    "#     if seed is None:\n",
    "#         seed = get_seed()\n",
    "#     rs = rand_generator(seed)\n",
    "\n",
    "#     y = np.zeros((n_timesteps + order, 1))\n",
    "\n",
    "#     x0 = check_vector(np.atleast_2d(np.asarray(x0)))\n",
    "#     y[: x0.shape[0], :] = x0\n",
    "\n",
    "#     noise = rs.uniform(0, 1, size=(n_timesteps + order, 1))\n",
    "#     for t in range(order, n_timesteps + order - 1):\n",
    "#         y[t + 1] = (\n",
    "#             a1 * y[t]\n",
    "#             + a2 * y[t] * np.sum(y[t - order : t])\n",
    "#             + b * noise[t - order] * noise[t]\n",
    "#             + c\n",
    "#         )\n",
    "#     return y[order:, :]"
   ]
  },
  {
   "cell_type": "code",
   "execution_count": 13,
   "metadata": {},
   "outputs": [],
   "source": [
    "def getData():\n",
    "    data = np.array(narma(n_timesteps=10000, order=10, a1=0.3, a2=0.05, b=1.5, c=0.1))\n",
    "    train = data[:2000]\n",
    "    val = data[2000:3000]\n",
    "    test = data[3000:]\n",
    "    trainX = train[:-10]\n",
    "    trainY = train[10:]\n",
    "    valX = val[:-10]\n",
    "    valY = val[10:]\n",
    "    testX = test[:-10]\n",
    "    testY = test[10:]\n",
    "    return trainX, trainY, valX, valY, testX, testY\n",
    "\n",
    "def nrmseGESN(yTrue, preds):\n",
    "    norm = 0\n",
    "    mse = 0\n",
    "    targetMean = np.mean(yTrue)\n",
    "    for i, target in enumerate(yTrue):\n",
    "        norm+=(target - targetMean)**2\n",
    "        mse+=(target - preds[i])**2\n",
    "    return math.sqrt(mse/norm)\n",
    "    # return nrmse(yTrue, preds, norm_value=norm)\n",
    "\n",
    "\n",
    "\n",
    "# def temp():\n",
    "#     # reservoir1 = NVAR(delay=2, order=2, strides=2)\n",
    "#     # reservoir2 = NVAR(delay=2, order=2, strides=1)\n",
    "#     # input2 = Input(input_dim=5)\n",
    "#     # readout = Ridge(output_dim=1, ridge=1e-5)\n",
    "#     # esn = reservoir1 >> input2 >> reservoir2 >> readout & reservoir1 >> readout\n",
    "#     esn = (NVAR(delay=3, order=3, strides=2) >> NVAR(delay=3, order=3, strides=2)) >> Ridge(output_dim=1, ridge=1e-5)\n",
    "#     trainX, trainY, testX, testY = getData()\n",
    "\n",
    "#     esn.fit(trainX, trainY, warmup=1000)\n",
    "\n",
    "#     esn2 = (NVAR(delay=3, order=3, strides=2) >> NVAR(delay=3, order=3, strides=2)) >> Ridge(output_dim=1, ridge=1e-5)\n",
    "#     esnPreds = copy.deepcopy(esn).run(trainX)\n",
    "#     esn2.fit(esnPreds, trainY, warmup=1000)\n",
    "\n",
    "#     preds1 = esn.run(testX)\n",
    "#     preds2 = esn2.run(preds1)\n",
    "#     return nrmse(testY, preds2)\n",
    "\n",
    "# abc = temp()\n",
    "# print(abc)"
   ]
  },
  {
   "cell_type": "code",
   "execution_count": 21,
   "metadata": {},
   "outputs": [
    {
     "name": "stderr",
     "output_type": "stream",
     "text": [
      "Running Model-12: 1990it [00:00, 22955.88it/s]         \n",
      "Running Model-12: 100%|██████████| 1/1 [00:00<00:00, 11.26it/s]\n"
     ]
    },
    {
     "name": "stdout",
     "output_type": "stream",
     "text": [
      "Fitting node Ridge-12...\n"
     ]
    },
    {
     "name": "stderr",
     "output_type": "stream",
     "text": [
      "Running Model-12: 990it [00:00, 23361.21it/s]          \n"
     ]
    },
    {
     "data": {
      "text/plain": [
       "0.8932132848057498"
      ]
     },
     "execution_count": 21,
     "metadata": {},
     "output_type": "execute_result"
    }
   ],
   "source": [
    "def nmse(y, o):\n",
    "    assert len(o) == len(y), \"Both arrays must have the same length.\"\n",
    "    sigma2 = np.var(y)  # variance of y\n",
    "    i = len(y)\n",
    "    error = sum((o[t] - y[t])**2 for t in range(i))\n",
    "    return error / (i * sigma2)\n",
    "\n",
    "def nrmse2(yTrue, preds):\n",
    "    norm = len(yTrue) * np.var(yTrue)\n",
    "    mse = 0\n",
    "    targetMean = np.mean(yTrue)\n",
    "    for i, target in enumerate(yTrue):\n",
    "        mse+=(preds[i] - target)**2\n",
    "    return math.sqrt(mse/norm)\n",
    "\n",
    "def testDefault():\n",
    "    esn = Reservoir(units=100, sr=0.95) >> Ridge(output_dim=1)\n",
    "    trainX, trainY, testX, testY, _, _ = getData()\n",
    "\n",
    "    esn.fit(trainX, trainY, warmup=100)\n",
    "    preds = esn.run(testX)\n",
    "    return nrmse2(testY, preds)\n",
    "\n",
    "testDefault()"
   ]
  },
  {
   "cell_type": "code",
   "execution_count": 52,
   "metadata": {},
   "outputs": [
    {
     "name": "stderr",
     "output_type": "stream",
     "text": [
      "Running Model-108: 2799it [00:00, 20927.30it/s]?, ?it/s]\n",
      "Running Model-108: 100%|██████████| 1/1 [00:00<00:00,  7.36it/s]\n"
     ]
    },
    {
     "name": "stdout",
     "output_type": "stream",
     "text": [
      "Fitting node Ridge-73...\n"
     ]
    },
    {
     "name": "stderr",
     "output_type": "stream",
     "text": [
      "Running Model-108: 2799it [00:00, 21778.06it/s]         \n",
      "Running Model-109: 2799it [00:00, 19509.59it/s]?, ?it/s]\n",
      "Running Model-109: 100%|██████████| 1/1 [00:00<00:00,  6.80it/s]\n"
     ]
    },
    {
     "name": "stdout",
     "output_type": "stream",
     "text": [
      "Fitting node Ridge-74...\n"
     ]
    },
    {
     "name": "stderr",
     "output_type": "stream",
     "text": [
      "Running Model-109: 2799it [00:00, 22042.71it/s]         \n",
      "Running Model-110: 2799it [00:00, 20378.37it/s]?, ?it/s]\n",
      "Running Model-110: 100%|██████████| 1/1 [00:00<00:00,  7.13it/s]\n"
     ]
    },
    {
     "name": "stdout",
     "output_type": "stream",
     "text": [
      "Fitting node Ridge-75...\n"
     ]
    },
    {
     "name": "stderr",
     "output_type": "stream",
     "text": [
      "Running Model-109: 2799it [00:00, 21815.13it/s]         \n",
      "Running Model-110: 2799it [00:00, 21403.18it/s]         \n",
      "Running Model-112: 2799it [00:00, 11728.71it/s]?, ?it/s]\n",
      "Running Model-112: 100%|██████████| 1/1 [00:00<00:00,  4.13it/s]\n"
     ]
    },
    {
     "name": "stdout",
     "output_type": "stream",
     "text": [
      "Fitting node Ridge-76...\n"
     ]
    },
    {
     "name": "stderr",
     "output_type": "stream",
     "text": [
      "Running Model-112: 2799it [00:00, 13276.67it/s]         \n",
      "Running Model-114: 2799it [00:00, 11729.30it/s]?, ?it/s]\n",
      "Running Model-114: 100%|██████████| 1/1 [00:00<00:00,  4.13it/s]\n"
     ]
    },
    {
     "name": "stdout",
     "output_type": "stream",
     "text": [
      "Fitting node Ridge-77...\n"
     ]
    },
    {
     "name": "stderr",
     "output_type": "stream",
     "text": [
      "Running Model-114: 2799it [00:00, 12773.20it/s]         \n",
      "Running Model-116: 2799it [00:00, 11622.82it/s]?, ?it/s]\n",
      "Running Model-116: 100%|██████████| 1/1 [00:00<00:00,  4.11it/s]\n"
     ]
    },
    {
     "name": "stdout",
     "output_type": "stream",
     "text": [
      "Fitting node Ridge-78...\n"
     ]
    },
    {
     "name": "stderr",
     "output_type": "stream",
     "text": [
      "Running Model-114: 2799it [00:00, 12553.04it/s]         \n",
      "Running Model-116: 2799it [00:00, 12705.38it/s]         \n",
      "Running Model-118: 2799it [00:00, 12049.93it/s]?, ?it/s]\n",
      "Running Model-118: 100%|██████████| 1/1 [00:00<00:00,  4.24it/s]\n"
     ]
    },
    {
     "name": "stdout",
     "output_type": "stream",
     "text": [
      "Fitting node Ridge-79...\n"
     ]
    },
    {
     "name": "stderr",
     "output_type": "stream",
     "text": [
      "Running Model-118: 2799it [00:00, 13629.43it/s]         \n",
      "Running Model-120: 2799it [00:00, 11938.33it/s]?, ?it/s]\n",
      "Running Model-120: 100%|██████████| 1/1 [00:00<00:00,  4.21it/s]\n"
     ]
    },
    {
     "name": "stdout",
     "output_type": "stream",
     "text": [
      "Fitting node Ridge-80...\n"
     ]
    },
    {
     "name": "stderr",
     "output_type": "stream",
     "text": [
      "Running Model-118: 2799it [00:00, 13558.45it/s]         \n",
      "Running Model-120: 2799it [00:00, 13579.75it/s]         \n",
      "Running Model-121: 2799it [00:00, 19985.97it/s]?, ?it/s]\n",
      "Running Model-121: 100%|██████████| 1/1 [00:00<00:00,  7.01it/s]\n"
     ]
    },
    {
     "name": "stdout",
     "output_type": "stream",
     "text": [
      "Fitting node Ridge-81...\n"
     ]
    },
    {
     "name": "stderr",
     "output_type": "stream",
     "text": [
      "Running Model-121: 2799it [00:00, 21753.41it/s]         \n",
      "Running Model-122: 2799it [00:00, 21196.09it/s]?, ?it/s]\n",
      "Running Model-122: 100%|██████████| 1/1 [00:00<00:00,  7.35it/s]\n"
     ]
    },
    {
     "name": "stdout",
     "output_type": "stream",
     "text": [
      "Fitting node Ridge-82...\n"
     ]
    },
    {
     "name": "stderr",
     "output_type": "stream",
     "text": [
      "Running Model-121: 2799it [00:00, 21826.33it/s]         \n",
      "Running Model-122: 2799it [00:00, 20868.89it/s]         \n",
      "Running Model-124: 2799it [00:00, 11839.53it/s]?, ?it/s]\n",
      "Running Model-124: 100%|██████████| 1/1 [00:00<00:00,  4.16it/s]\n"
     ]
    },
    {
     "name": "stdout",
     "output_type": "stream",
     "text": [
      "Fitting node Ridge-83...\n"
     ]
    },
    {
     "name": "stderr",
     "output_type": "stream",
     "text": [
      "Running Model-124: 2799it [00:00, 12861.35it/s]         \n",
      "Running Model-126: 2799it [00:00, 11520.71it/s]?, ?it/s]\n",
      "Running Model-126: 100%|██████████| 1/1 [00:00<00:00,  4.07it/s]\n"
     ]
    },
    {
     "name": "stdout",
     "output_type": "stream",
     "text": [
      "Fitting node Ridge-84...\n"
     ]
    },
    {
     "name": "stderr",
     "output_type": "stream",
     "text": [
      "Running Model-124: 2799it [00:00, 13051.70it/s]         \n",
      "Running Model-126: 2799it [00:00, 13211.31it/s]         \n",
      "Running Model-127: 2799it [00:00, 27413.43it/s]?, ?it/s]\n",
      "Running Model-127: 100%|██████████| 1/1 [00:00<00:00,  9.42it/s]\n"
     ]
    },
    {
     "name": "stdout",
     "output_type": "stream",
     "text": [
      "Fitting node Ridge-85...\n"
     ]
    },
    {
     "name": "stderr",
     "output_type": "stream",
     "text": [
      "Running Model-127: 2799it [00:00, 28387.66it/s]         "
     ]
    },
    {
     "name": "stdout",
     "output_type": "stream",
     "text": [
      "==================NARMA NRMSE==================\n",
      "Normal training error: 0.8012378809512005\n",
      "NVAR training error: 0.8189327726285235\n",
      "Cascading ESN error: 0.7861238499696007\n",
      "Deep ESN error: 0.6982829047067439\n",
      "Deep + cascade error: 0.7168850606564878\n",
      "Deep + cascade + NVAR error: 2.011018874081668\n",
      "Error cascade error: 0.7118940944934266\n",
      "Deep error cascade error: 0.7831800231990088\n"
     ]
    },
    {
     "name": "stderr",
     "output_type": "stream",
     "text": [
      "\n"
     ]
    }
   ],
   "source": [
    "def testDefault():\n",
    "    esn = Reservoir(units=100, sr=0.8, rc_connectivity=0.01, noise_in=1e-10) >> Ridge(output_dim=1, ridge=1e-5)\n",
    "    trainX, trainY, testX, testY = getData()\n",
    "\n",
    "    esn.fit(trainX, trainY, warmup=1000)\n",
    "    preds = esn.run(testX)\n",
    "    return nrmseGESN(testY, preds)\n",
    "\n",
    "def testDeep():\n",
    "    esn = (Reservoir(units=100, sr=0.8, rc_connectivity=0.01, noise_in=1e-10) >> Reservoir(units=100, sr=0.8, rc_connectivity=0.01, noise_in=1e-10)) >> Ridge(output_dim=1, ridge=1e-5)\n",
    "    trainX, trainY, testX, testY = getData()\n",
    "\n",
    "    esn.fit(trainX, trainY, warmup=1000)\n",
    "    preds = esn.run(testX)\n",
    "    return nrmseGESN(testY, preds)\n",
    "\n",
    "def testDeepCascade():\n",
    "    esn = (Reservoir(units=100, sr=0.8, rc_connectivity=0.01, noise_in=1e-10) >> Reservoir(units=100, sr=0.8, rc_connectivity=0.01, noise_in=1e-10)) >> Ridge(output_dim=1, ridge=1e-5)\n",
    "    trainX, trainY, testX, testY = getData()\n",
    "\n",
    "    esn.fit(trainX, trainY, warmup=1000)\n",
    "\n",
    "    esn2 = (Reservoir(units=100, sr=0.8, rc_connectivity=0.01, noise_in=1e-10) >> Reservoir(units=100, sr=0.8, rc_connectivity=0.01, noise_in=1e-10)) >> Ridge(output_dim=1, ridge=1e-5)\n",
    "    esnPreds = copy.deepcopy(esn).run(trainX)\n",
    "    esn2.fit(esnPreds, trainY, warmup=1000)\n",
    "\n",
    "    preds1 = esn.run(testX)\n",
    "    preds2 = esn2.run(preds1)\n",
    "    return nrmseGESN(testY, preds2)\n",
    "\n",
    "def testCascade():\n",
    "    esn = Reservoir(units=100, sr=0.8, rc_connectivity=0.01, noise_in=1e-10) >> Ridge(output_dim=1, ridge=1e-5)\n",
    "    trainX, trainY, testX, testY = getData()\n",
    "\n",
    "    esn.fit(trainX, trainY, warmup=1000)\n",
    "\n",
    "    esn2 = Reservoir(units=100, sr=0.8, rc_connectivity=0.01, noise_in=1e-10) >> Ridge(output_dim=1, ridge=1e-5)\n",
    "    esnPreds = copy.deepcopy(esn).run(trainX)\n",
    "    esn2.fit(esnPreds, trainY, warmup=1000)\n",
    "\n",
    "    preds1 = esn.run(testX)\n",
    "    preds2 = esn2.run(preds1)\n",
    "    return nrmseGESN(testY, preds2)\n",
    "\n",
    "def testErrorCascade():\n",
    "    esn = Reservoir(units=100, sr=0.8, rc_connectivity=0.01, noise_in=1e-10) >> Ridge(output_dim=1, ridge=1e-5)\n",
    "    trainX, trainY, testX, testY = getData()\n",
    "\n",
    "    esn.fit(trainX, trainY, warmup=1000)\n",
    "\n",
    "    esn2 = Reservoir(units=100, sr=0.8, rc_connectivity=0.01, noise_in=1e-10) >> Ridge(output_dim=1, ridge=1e-5)\n",
    "    esnPreds = copy.deepcopy(esn).run(trainX)\n",
    "    errors = esnPreds - trainY\n",
    "    esn2.fit(esnPreds, errors, warmup=1000)\n",
    "\n",
    "    preds1 = esn.run(testX)\n",
    "    predictedErrors = esn2.run(preds1)\n",
    "    preds = preds1 - predictedErrors\n",
    "    return nrmseGESN(testY, preds)\n",
    "\n",
    "def testDeepErrorCascade():\n",
    "    esn = (Reservoir(units=100, sr=0.8, rc_connectivity=0.01, noise_in=1e-10) >> Reservoir(units=100, sr=0.8, rc_connectivity=0.01, noise_in=1e-10)) >> Ridge(output_dim=1, ridge=1e-5)\n",
    "    trainX, trainY, testX, testY = getData()\n",
    "\n",
    "    esn.fit(trainX, trainY, warmup=1000)\n",
    "\n",
    "    esn2 = (Reservoir(units=100, sr=0.8, rc_connectivity=0.01, noise_in=1e-10) >> Reservoir(units=100, sr=0.8, rc_connectivity=0.01, noise_in=1e-10)) >> Ridge(output_dim=1, ridge=1e-5)\n",
    "    esnPreds = copy.deepcopy(esn).run(trainX)\n",
    "    errors = esnPreds - trainY\n",
    "    esn2.fit(esnPreds, errors, warmup=1000)\n",
    "\n",
    "    preds1 = esn.run(testX)\n",
    "    predictedErrors = esn2.run(preds1)\n",
    "    preds = preds1 - predictedErrors\n",
    "    return nrmseGESN(testY, preds)\n",
    "\n",
    "def testNVAR():\n",
    "    esn = NVAR(delay=8, order=3, strides=4) >> Ridge(output_dim=1, ridge=1e-5)\n",
    "    trainX, trainY, testX, testY = getData()\n",
    "\n",
    "    esn.fit(trainX, trainY, warmup=1000)\n",
    "    preds = esn.run(testX)\n",
    "    return nrmseGESN(testY, preds)\n",
    "\n",
    "def testDeepCascadeNVAR():\n",
    "    esn = (NVAR(delay=8, order=3, strides=4) >> Reservoir(units=100, sr=0.8, rc_connectivity=0.01)) >> Ridge(output_dim=1, ridge=1e-5)\n",
    "    trainX, trainY, testX, testY = getData()\n",
    "\n",
    "    esn.fit(trainX, trainY, warmup=1000)\n",
    "\n",
    "    esn2 = (NVAR(delay=8, order=3, strides=4) >> Reservoir(units=100, sr=0.8, rc_connectivity=0.01)) >> Ridge(output_dim=1, ridge=1e-5)\n",
    "    esnPreds = copy.deepcopy(esn).run(trainX)\n",
    "    esn2.fit(esnPreds, trainY, warmup=1000)\n",
    "\n",
    "    preds1 = esn.run(testX)\n",
    "    preds2 = esn2.run(preds1)\n",
    "    return nrmseGESN(testY, preds2)\n",
    "\n",
    "error1 = testDefault()\n",
    "error2 = testCascade()\n",
    "error4 = testDeep()\n",
    "error5 = testDeepCascade()\n",
    "error6 = testDeepCascadeNVAR()\n",
    "error7 = testErrorCascade()\n",
    "error8 = testDeepErrorCascade()\n",
    "error9 = testNVAR()\n",
    "print(\"==================NARMA NRMSE==================\")\n",
    "print('Normal training error:', error1)\n",
    "print('NVAR training error:', error9)\n",
    "print('Cascading ESN error:', error2)\n",
    "print('Deep ESN error:', error4)\n",
    "print('Deep + cascade error:', error5)\n",
    "print('Deep + cascade + NVAR error:', error6)\n",
    "print('Error cascade error:', error7)\n",
    "print('Deep error cascade error:', error8)"
   ]
  },
  {
   "cell_type": "code",
   "execution_count": 38,
   "metadata": {},
   "outputs": [
    {
     "name": "stdout",
     "output_type": "stream",
     "text": [
      "|   iter    |  target   |    con    |   delay   |   order   |   ridge   |    sr     |  strides  |   units   |\n",
      "-------------------------------------------------------------------------------------------------------------\n"
     ]
    },
    {
     "name": "stderr",
     "output_type": "stream",
     "text": [
      "Running Model-1195: 5599it [00:00, 13043.87it/s]?, ?it/s]\n",
      "Running Model-1195: 100%|██████████| 1/1 [00:00<00:00,  2.31it/s]\n"
     ]
    },
    {
     "name": "stdout",
     "output_type": "stream",
     "text": [
      "Fitting node Ridge-283...\n"
     ]
    },
    {
     "name": "stderr",
     "output_type": "stream",
     "text": [
      "Running Model-1195: 5599it [00:00, 14775.43it/s]         \n",
      "Running Model-1197: 5599it [00:00, 13395.31it/s]?, ?it/s]\n",
      "Running Model-1197: 100%|██████████| 1/1 [00:00<00:00,  2.37it/s]\n"
     ]
    },
    {
     "name": "stdout",
     "output_type": "stream",
     "text": [
      "Fitting node Ridge-284...\n"
     ]
    },
    {
     "name": "stderr",
     "output_type": "stream",
     "text": [
      "Running Model-1195: 2399it [00:00, 14897.49it/s]         \n",
      "Running Model-1197: 2399it [00:00, 14900.42it/s]         \n"
     ]
    },
    {
     "name": "stdout",
     "output_type": "stream",
     "text": [
      "| \u001b[0m1        \u001b[0m | \u001b[0m5.763    \u001b[0m | \u001b[0m0.008923 \u001b[0m | \u001b[0m12.08    \u001b[0m | \u001b[0m1.001    \u001b[0m | \u001b[0m3.093e-05\u001b[0m | \u001b[0m0.2614   \u001b[0m | \u001b[0m2.739    \u001b[0m | \u001b[0m77.94    \u001b[0m |\n"
     ]
    },
    {
     "name": "stderr",
     "output_type": "stream",
     "text": [
      "Running Model-1199: 5599it [00:00, 10658.26it/s]?, ?it/s]\n",
      "Running Model-1199: 100%|██████████| 1/1 [00:00<00:00,  1.88it/s]\n"
     ]
    },
    {
     "name": "stdout",
     "output_type": "stream",
     "text": [
      "Fitting node Ridge-285...\n"
     ]
    },
    {
     "name": "stderr",
     "output_type": "stream",
     "text": [
      "Running Model-1199: 5599it [00:00, 11968.23it/s]         \n",
      "Running Model-1201: 5599it [00:00, 10700.26it/s]?, ?it/s]\n",
      "Running Model-1201: 100%|██████████| 1/1 [00:00<00:00,  1.89it/s]\n"
     ]
    },
    {
     "name": "stdout",
     "output_type": "stream",
     "text": [
      "Fitting node Ridge-286...\n"
     ]
    },
    {
     "name": "stderr",
     "output_type": "stream",
     "text": [
      "Running Model-1199: 2399it [00:00, 11630.55it/s]         \n",
      "Running Model-1201: 2399it [00:00, 12311.69it/s]         \n"
     ]
    },
    {
     "name": "stdout",
     "output_type": "stream",
     "text": [
      "| \u001b[0m2        \u001b[0m | \u001b[0m5.735    \u001b[0m | \u001b[0m0.007566 \u001b[0m | \u001b[0m7.555    \u001b[0m | \u001b[0m5.849    \u001b[0m | \u001b[0m4.25e-05 \u001b[0m | \u001b[0m0.8537   \u001b[0m | \u001b[0m3.636    \u001b[0m | \u001b[0m181.7    \u001b[0m |\n"
     ]
    },
    {
     "name": "stderr",
     "output_type": "stream",
     "text": [
      "Running Model-1203: 5599it [00:00, 9471.96it/s]<?, ?it/s]\n",
      "Running Model-1203: 100%|██████████| 1/1 [00:00<00:00,  1.68it/s]\n"
     ]
    },
    {
     "name": "stdout",
     "output_type": "stream",
     "text": [
      "Fitting node Ridge-287...\n"
     ]
    },
    {
     "name": "stderr",
     "output_type": "stream",
     "text": [
      "Running Model-1203: 5599it [00:00, 10578.03it/s]         \n",
      "Running Model-1205: 5599it [00:00, 9383.44it/s]<?, ?it/s]\n",
      "Running Model-1205: 100%|██████████| 1/1 [00:00<00:00,  1.66it/s]\n"
     ]
    },
    {
     "name": "stdout",
     "output_type": "stream",
     "text": [
      "Fitting node Ridge-288...\n"
     ]
    },
    {
     "name": "stderr",
     "output_type": "stream",
     "text": [
      "Running Model-1203: 2399it [00:00, 10322.35it/s]         \n",
      "Running Model-1205: 2399it [00:00, 10426.00it/s]         \n"
     ]
    },
    {
     "name": "stdout",
     "output_type": "stream",
     "text": [
      "| \u001b[0m3        \u001b[0m | \u001b[0m5.568    \u001b[0m | \u001b[0m0.00152  \u001b[0m | \u001b[0m11.39    \u001b[0m | \u001b[0m4.756    \u001b[0m | \u001b[0m5.631e-05\u001b[0m | \u001b[0m0.2544   \u001b[0m | \u001b[0m3.585    \u001b[0m | \u001b[0m170.1    \u001b[0m |\n"
     ]
    },
    {
     "name": "stderr",
     "output_type": "stream",
     "text": [
      "Running Model-1207: 5599it [00:00, 10085.85it/s]?, ?it/s]\n",
      "Running Model-1207: 100%|██████████| 1/1 [00:00<00:00,  1.79it/s]\n"
     ]
    },
    {
     "name": "stdout",
     "output_type": "stream",
     "text": [
      "Fitting node Ridge-289...\n"
     ]
    },
    {
     "name": "stderr",
     "output_type": "stream",
     "text": [
      "Running Model-1207: 5599it [00:00, 11162.18it/s]         \n",
      "Running Model-1209: 5599it [00:00, 10093.27it/s]?, ?it/s]\n",
      "Running Model-1209: 100%|██████████| 1/1 [00:00<00:00,  1.79it/s]\n"
     ]
    },
    {
     "name": "stdout",
     "output_type": "stream",
     "text": [
      "Fitting node Ridge-290...\n"
     ]
    },
    {
     "name": "stderr",
     "output_type": "stream",
     "text": [
      "Running Model-1207: 2399it [00:00, 10956.05it/s]         \n",
      "Running Model-1209: 2399it [00:00, 11086.95it/s]         \n"
     ]
    },
    {
     "name": "stdout",
     "output_type": "stream",
     "text": [
      "| \u001b[0m4        \u001b[0m | \u001b[0m5.718    \u001b[0m | \u001b[0m0.0194   \u001b[0m | \u001b[0m6.388    \u001b[0m | \u001b[0m7.231    \u001b[0m | \u001b[0m8.776e-05\u001b[0m | \u001b[0m1.084    \u001b[0m | \u001b[0m2.68     \u001b[0m | \u001b[0m55.86    \u001b[0m |\n"
     ]
    },
    {
     "name": "stderr",
     "output_type": "stream",
     "text": [
      "Running Model-1211: 5599it [00:00, 12589.67it/s]?, ?it/s]\n",
      "Running Model-1211: 100%|██████████| 1/1 [00:00<00:00,  2.23it/s]\n"
     ]
    },
    {
     "name": "stdout",
     "output_type": "stream",
     "text": [
      "Fitting node Ridge-291...\n"
     ]
    },
    {
     "name": "stderr",
     "output_type": "stream",
     "text": [
      "Running Model-1211: 5599it [00:00, 14345.45it/s]         \n",
      "Running Model-1213: 5599it [00:00, 12738.60it/s]?, ?it/s]\n",
      "Running Model-1213: 100%|██████████| 1/1 [00:00<00:00,  2.25it/s]\n"
     ]
    },
    {
     "name": "stdout",
     "output_type": "stream",
     "text": [
      "Fitting node Ridge-292...\n"
     ]
    },
    {
     "name": "stderr",
     "output_type": "stream",
     "text": [
      "Running Model-1211: 2399it [00:00, 14297.64it/s]         \n",
      "Running Model-1213: 2399it [00:00, 14492.55it/s]         \n"
     ]
    },
    {
     "name": "stdout",
     "output_type": "stream",
     "text": [
      "| \u001b[0m5        \u001b[0m | \u001b[0m5.138    \u001b[0m | \u001b[0m0.004227 \u001b[0m | \u001b[0m14.29    \u001b[0m | \u001b[0m1.885    \u001b[0m | \u001b[0m4.269e-05\u001b[0m | \u001b[0m1.154    \u001b[0m | \u001b[0m6.265    \u001b[0m | \u001b[0m153.8    \u001b[0m |\n"
     ]
    },
    {
     "name": "stderr",
     "output_type": "stream",
     "text": [
      "Running Model-1215: 5599it [00:11, 468.15it/s]0<?, ?it/s]\n",
      "Running Model-1215: 100%|██████████| 1/1 [00:11<00:00, 11.97s/it]\n"
     ]
    },
    {
     "name": "stdout",
     "output_type": "stream",
     "text": [
      "Fitting node Ridge-293...\n"
     ]
    },
    {
     "name": "stderr",
     "output_type": "stream",
     "text": [
      "Running Model-1215: 5599it [00:11, 480.48it/s]           \n",
      "Running Model-1217: 5599it [00:12, 463.82it/s]0<?, ?it/s]\n",
      "Running Model-1217: 100%|██████████| 1/1 [00:12<00:00, 12.08s/it]\n"
     ]
    },
    {
     "name": "stdout",
     "output_type": "stream",
     "text": [
      "Fitting node Ridge-294...\n"
     ]
    },
    {
     "name": "stderr",
     "output_type": "stream",
     "text": [
      "Running Model-1215: 2399it [00:05, 466.09it/s]           \n",
      "Running Model-1217: 2399it [00:05, 471.66it/s]           \n"
     ]
    },
    {
     "name": "stdout",
     "output_type": "stream",
     "text": [
      "| \u001b[0m6        \u001b[0m | \u001b[0m5.727    \u001b[0m | \u001b[0m0.006995 \u001b[0m | \u001b[0m11.61    \u001b[0m | \u001b[0m8.512    \u001b[0m | \u001b[0m2.811e-06\u001b[0m | \u001b[0m0.9252   \u001b[0m | \u001b[0m9.911    \u001b[0m | \u001b[0m162.2    \u001b[0m |\n"
     ]
    },
    {
     "name": "stderr",
     "output_type": "stream",
     "text": [
      "Running Model-1219: 5599it [00:00, 12697.60it/s]?, ?it/s]\n",
      "Running Model-1219: 100%|██████████| 1/1 [00:00<00:00,  2.25it/s]\n"
     ]
    },
    {
     "name": "stdout",
     "output_type": "stream",
     "text": [
      "Fitting node Ridge-295...\n"
     ]
    },
    {
     "name": "stderr",
     "output_type": "stream",
     "text": [
      "Running Model-1219: 5599it [00:00, 14674.16it/s]         \n",
      "Running Model-1221: 5599it [00:00, 12854.17it/s]?, ?it/s]\n",
      "Running Model-1221: 100%|██████████| 1/1 [00:00<00:00,  2.27it/s]\n"
     ]
    },
    {
     "name": "stdout",
     "output_type": "stream",
     "text": [
      "Fitting node Ridge-296...\n"
     ]
    },
    {
     "name": "stderr",
     "output_type": "stream",
     "text": [
      "Running Model-1219: 2399it [00:00, 14660.16it/s]         \n",
      "Running Model-1221: 2399it [00:00, 14002.82it/s]         \n"
     ]
    },
    {
     "name": "stdout",
     "output_type": "stream",
     "text": [
      "| \u001b[0m7        \u001b[0m | \u001b[0m5.641    \u001b[0m | \u001b[0m0.006328 \u001b[0m | \u001b[0m13.05    \u001b[0m | \u001b[0m1.929    \u001b[0m | \u001b[0m4.534e-05\u001b[0m | \u001b[0m1.099    \u001b[0m | \u001b[0m4.349    \u001b[0m | \u001b[0m93.17    \u001b[0m |\n"
     ]
    },
    {
     "name": "stderr",
     "output_type": "stream",
     "text": [
      "Running Model-1223: 5599it [00:00, 12710.64it/s]?, ?it/s]\n",
      "Running Model-1223: 100%|██████████| 1/1 [00:00<00:00,  2.26it/s]\n"
     ]
    },
    {
     "name": "stdout",
     "output_type": "stream",
     "text": [
      "Fitting node Ridge-297...\n"
     ]
    },
    {
     "name": "stderr",
     "output_type": "stream",
     "text": [
      "Running Model-1223: 5599it [00:00, 14360.15it/s]         \n",
      "Running Model-1225: 5599it [00:00, 12877.70it/s]?, ?it/s]\n",
      "Running Model-1225: 100%|██████████| 1/1 [00:00<00:00,  2.29it/s]\n"
     ]
    },
    {
     "name": "stdout",
     "output_type": "stream",
     "text": [
      "Fitting node Ridge-298...\n"
     ]
    },
    {
     "name": "stderr",
     "output_type": "stream",
     "text": [
      "Running Model-1223: 2399it [00:00, 13704.43it/s]         \n",
      "Running Model-1225: 2399it [00:00, 14610.61it/s]         \n"
     ]
    },
    {
     "name": "stdout",
     "output_type": "stream",
     "text": [
      "| \u001b[0m8        \u001b[0m | \u001b[0m5.05     \u001b[0m | \u001b[0m0.003471 \u001b[0m | \u001b[0m2.271    \u001b[0m | \u001b[0m7.11     \u001b[0m | \u001b[0m2.195e-05\u001b[0m | \u001b[0m0.3921   \u001b[0m | \u001b[0m5.933    \u001b[0m | \u001b[0m58.0     \u001b[0m |\n"
     ]
    },
    {
     "name": "stderr",
     "output_type": "stream",
     "text": [
      "Running Model-1227: 5599it [00:00, 12148.94it/s]?, ?it/s]\n",
      "Running Model-1227: 100%|██████████| 1/1 [00:00<00:00,  2.14it/s]\n"
     ]
    },
    {
     "name": "stdout",
     "output_type": "stream",
     "text": [
      "Fitting node Ridge-299...\n"
     ]
    },
    {
     "name": "stderr",
     "output_type": "stream",
     "text": [
      "Running Model-1227: 5599it [00:00, 13598.33it/s]         \n",
      "Running Model-1229: 5599it [00:00, 12387.67it/s]?, ?it/s]\n",
      "Running Model-1229: 100%|██████████| 1/1 [00:00<00:00,  2.19it/s]\n"
     ]
    },
    {
     "name": "stdout",
     "output_type": "stream",
     "text": [
      "Fitting node Ridge-300...\n"
     ]
    },
    {
     "name": "stderr",
     "output_type": "stream",
     "text": [
      "Running Model-1227: 2399it [00:00, 13717.55it/s]         \n",
      "Running Model-1229: 2399it [00:00, 13629.82it/s]         \n"
     ]
    },
    {
     "name": "stdout",
     "output_type": "stream",
     "text": [
      "| \u001b[0m9        \u001b[0m | \u001b[0m5.552    \u001b[0m | \u001b[0m0.01191  \u001b[0m | \u001b[0m4.054    \u001b[0m | \u001b[0m6.304    \u001b[0m | \u001b[0m7.028e-05\u001b[0m | \u001b[0m0.2126   \u001b[0m | \u001b[0m5.312    \u001b[0m | \u001b[0m154.2    \u001b[0m |\n"
     ]
    },
    {
     "name": "stderr",
     "output_type": "stream",
     "text": [
      "Running Model-1231: 5599it [00:00, 12480.29it/s]?, ?it/s]\n",
      "Running Model-1231: 100%|██████████| 1/1 [00:00<00:00,  2.21it/s]\n"
     ]
    },
    {
     "name": "stdout",
     "output_type": "stream",
     "text": [
      "Fitting node Ridge-301...\n"
     ]
    },
    {
     "name": "stderr",
     "output_type": "stream",
     "text": [
      "Running Model-1231: 5599it [00:00, 14062.63it/s]         \n",
      "Running Model-1233: 5599it [00:00, 12627.18it/s]?, ?it/s]\n",
      "Running Model-1233: 100%|██████████| 1/1 [00:00<00:00,  2.23it/s]\n"
     ]
    },
    {
     "name": "stdout",
     "output_type": "stream",
     "text": [
      "Fitting node Ridge-302...\n"
     ]
    },
    {
     "name": "stderr",
     "output_type": "stream",
     "text": [
      "Running Model-1231: 2399it [00:00, 13821.88it/s]         \n",
      "Running Model-1233: 2399it [00:00, 14230.77it/s]         \n"
     ]
    },
    {
     "name": "stdout",
     "output_type": "stream",
     "text": [
      "| \u001b[95m10       \u001b[0m | \u001b[95m5.811    \u001b[0m | \u001b[95m0.008869 \u001b[0m | \u001b[95m2.699    \u001b[0m | \u001b[95m5.823    \u001b[0m | \u001b[95m6.672e-05\u001b[0m | \u001b[95m0.6664   \u001b[0m | \u001b[95m9.557    \u001b[0m | \u001b[95m138.0    \u001b[0m |\n"
     ]
    },
    {
     "name": "stderr",
     "output_type": "stream",
     "text": [
      "Running Model-1235: 5599it [00:00, 12166.78it/s]?, ?it/s]\n",
      "Running Model-1235: 100%|██████████| 1/1 [00:00<00:00,  2.15it/s]\n"
     ]
    },
    {
     "name": "stdout",
     "output_type": "stream",
     "text": [
      "Fitting node Ridge-303...\n"
     ]
    },
    {
     "name": "stderr",
     "output_type": "stream",
     "text": [
      "Running Model-1235: 5599it [00:00, 13690.41it/s]         \n",
      "Running Model-1237: 5599it [00:00, 12361.23it/s]?, ?it/s]\n",
      "Running Model-1237: 100%|██████████| 1/1 [00:00<00:00,  2.18it/s]\n"
     ]
    },
    {
     "name": "stdout",
     "output_type": "stream",
     "text": [
      "Fitting node Ridge-304...\n"
     ]
    },
    {
     "name": "stderr",
     "output_type": "stream",
     "text": [
      "Running Model-1235: 2399it [00:00, 13548.67it/s]         \n",
      "Running Model-1237: 2399it [00:00, 13436.60it/s]         \n"
     ]
    },
    {
     "name": "stdout",
     "output_type": "stream",
     "text": [
      "| \u001b[0m11       \u001b[0m | \u001b[0m5.712    \u001b[0m | \u001b[0m0.01816  \u001b[0m | \u001b[0m3.925    \u001b[0m | \u001b[0m2.253    \u001b[0m | \u001b[0m8.093e-05\u001b[0m | \u001b[0m0.5374   \u001b[0m | \u001b[0m3.323    \u001b[0m | \u001b[0m189.1    \u001b[0m |\n"
     ]
    },
    {
     "name": "stderr",
     "output_type": "stream",
     "text": [
      "Running Model-1239: 5599it [00:06, 812.73it/s]0<?, ?it/s]\n",
      "Running Model-1239: 100%|██████████| 1/1 [00:06<00:00,  6.90s/it]\n"
     ]
    },
    {
     "name": "stdout",
     "output_type": "stream",
     "text": [
      "Fitting node Ridge-305...\n"
     ]
    },
    {
     "name": "stderr",
     "output_type": "stream",
     "text": [
      "Running Model-1239: 5599it [00:07, 779.77it/s]           \n",
      "Running Model-1241: 5599it [00:07, 736.34it/s]0<?, ?it/s]\n",
      "Running Model-1241: 100%|██████████| 1/1 [00:07<00:00,  7.61s/it]\n"
     ]
    },
    {
     "name": "stdout",
     "output_type": "stream",
     "text": [
      "Fitting node Ridge-306...\n"
     ]
    },
    {
     "name": "stderr",
     "output_type": "stream",
     "text": [
      "Running Model-1239: 2399it [00:03, 754.74it/s]           \n",
      "Running Model-1241: 2399it [00:03, 790.94it/s]           \n"
     ]
    },
    {
     "name": "stdout",
     "output_type": "stream",
     "text": [
      "| \u001b[0m12       \u001b[0m | \u001b[0m5.388    \u001b[0m | \u001b[0m0.007608 \u001b[0m | \u001b[0m12.51    \u001b[0m | \u001b[0m7.534    \u001b[0m | \u001b[0m8.845e-05\u001b[0m | \u001b[0m0.786    \u001b[0m | \u001b[0m8.008    \u001b[0m | \u001b[0m102.3    \u001b[0m |\n"
     ]
    },
    {
     "name": "stderr",
     "output_type": "stream",
     "text": [
      "Running Model-1243: 5599it [00:00, 6977.29it/s]<?, ?it/s]\n",
      "Running Model-1243: 100%|██████████| 1/1 [00:00<00:00,  1.24it/s]\n"
     ]
    },
    {
     "name": "stdout",
     "output_type": "stream",
     "text": [
      "Fitting node Ridge-307...\n"
     ]
    },
    {
     "name": "stderr",
     "output_type": "stream",
     "text": [
      "Running Model-1243: 5599it [00:00, 7164.25it/s]          \n",
      "Running Model-1245: 5599it [00:00, 6660.57it/s]<?, ?it/s]\n",
      "Running Model-1245: 100%|██████████| 1/1 [00:00<00:00,  1.18it/s]\n"
     ]
    },
    {
     "name": "stdout",
     "output_type": "stream",
     "text": [
      "Fitting node Ridge-308...\n"
     ]
    },
    {
     "name": "stderr",
     "output_type": "stream",
     "text": [
      "Running Model-1243: 2399it [00:00, 7319.99it/s]          \n",
      "Running Model-1245: 2399it [00:00, 7523.05it/s]          \n"
     ]
    },
    {
     "name": "stdout",
     "output_type": "stream",
     "text": [
      "| \u001b[0m13       \u001b[0m | \u001b[0m4.998    \u001b[0m | \u001b[0m0.006129 \u001b[0m | \u001b[0m14.54    \u001b[0m | \u001b[0m4.853    \u001b[0m | \u001b[0m9.652e-05\u001b[0m | \u001b[0m0.8298   \u001b[0m | \u001b[0m6.974    \u001b[0m | \u001b[0m67.21    \u001b[0m |\n"
     ]
    },
    {
     "name": "stderr",
     "output_type": "stream",
     "text": [
      "Running Model-1247: 5599it [00:00, 6814.95it/s]<?, ?it/s]\n",
      "Running Model-1247: 100%|██████████| 1/1 [00:00<00:00,  1.20it/s]\n"
     ]
    },
    {
     "name": "stdout",
     "output_type": "stream",
     "text": [
      "Fitting node Ridge-309...\n"
     ]
    },
    {
     "name": "stderr",
     "output_type": "stream",
     "text": [
      "Running Model-1247: 5599it [00:00, 7243.32it/s]          \n",
      "Running Model-1249: 5599it [00:00, 6853.21it/s]<?, ?it/s]\n",
      "Running Model-1249: 100%|██████████| 1/1 [00:00<00:00,  1.22it/s]\n"
     ]
    },
    {
     "name": "stdout",
     "output_type": "stream",
     "text": [
      "Fitting node Ridge-310...\n"
     ]
    },
    {
     "name": "stderr",
     "output_type": "stream",
     "text": [
      "Running Model-1247: 2399it [00:00, 7271.95it/s]          \n",
      "Running Model-1249: 2399it [00:00, 7125.30it/s]          \n"
     ]
    },
    {
     "name": "stdout",
     "output_type": "stream",
     "text": [
      "| \u001b[0m14       \u001b[0m | \u001b[0m5.765    \u001b[0m | \u001b[0m0.01904  \u001b[0m | \u001b[0m8.299    \u001b[0m | \u001b[0m6.206    \u001b[0m | \u001b[0m4.141e-05\u001b[0m | \u001b[0m0.3607   \u001b[0m | \u001b[0m9.227    \u001b[0m | \u001b[0m136.1    \u001b[0m |\n"
     ]
    },
    {
     "name": "stderr",
     "output_type": "stream",
     "text": [
      "Running Model-1251: 5599it [00:00, 9756.72it/s]<?, ?it/s]\n",
      "Running Model-1251: 100%|██████████| 1/1 [00:00<00:00,  1.72it/s]\n"
     ]
    },
    {
     "name": "stdout",
     "output_type": "stream",
     "text": [
      "Fitting node Ridge-311...\n"
     ]
    },
    {
     "name": "stderr",
     "output_type": "stream",
     "text": [
      "Running Model-1251: 5599it [00:00, 11064.73it/s]         \n",
      "Running Model-1253: 5599it [00:00, 10149.78it/s]?, ?it/s]\n",
      "Running Model-1253: 100%|██████████| 1/1 [00:00<00:00,  1.80it/s]\n"
     ]
    },
    {
     "name": "stdout",
     "output_type": "stream",
     "text": [
      "Fitting node Ridge-312...\n"
     ]
    },
    {
     "name": "stderr",
     "output_type": "stream",
     "text": [
      "Running Model-1251: 2399it [00:00, 11075.85it/s]         \n",
      "Running Model-1253: 2399it [00:00, 11045.58it/s]         \n"
     ]
    },
    {
     "name": "stdout",
     "output_type": "stream",
     "text": [
      "| \u001b[0m15       \u001b[0m | \u001b[0m5.178    \u001b[0m | \u001b[0m0.001055 \u001b[0m | \u001b[0m10.64    \u001b[0m | \u001b[0m3.94     \u001b[0m | \u001b[0m5.318e-05\u001b[0m | \u001b[0m1.075    \u001b[0m | \u001b[0m4.858    \u001b[0m | \u001b[0m186.3    \u001b[0m |\n"
     ]
    },
    {
     "name": "stderr",
     "output_type": "stream",
     "text": [
      "Running Model-1255: 5599it [00:00, 11271.31it/s]?, ?it/s]\n",
      "Running Model-1255: 100%|██████████| 1/1 [00:00<00:00,  2.00it/s]\n"
     ]
    },
    {
     "name": "stdout",
     "output_type": "stream",
     "text": [
      "Fitting node Ridge-313...\n"
     ]
    },
    {
     "name": "stderr",
     "output_type": "stream",
     "text": [
      "Running Model-1255: 5599it [00:00, 11979.25it/s]         \n",
      "Running Model-1257: 5599it [00:00, 10962.06it/s]?, ?it/s]\n",
      "Running Model-1257: 100%|██████████| 1/1 [00:00<00:00,  1.94it/s]\n"
     ]
    },
    {
     "name": "stdout",
     "output_type": "stream",
     "text": [
      "Fitting node Ridge-314...\n"
     ]
    },
    {
     "name": "stderr",
     "output_type": "stream",
     "text": [
      "Running Model-1255: 2399it [00:00, 12187.96it/s]         \n",
      "Running Model-1257: 2399it [00:00, 13648.53it/s]         \n"
     ]
    },
    {
     "name": "stdout",
     "output_type": "stream",
     "text": [
      "| \u001b[0m16       \u001b[0m | \u001b[0m5.381    \u001b[0m | \u001b[0m0.01284  \u001b[0m | \u001b[0m2.221    \u001b[0m | \u001b[0m9.365    \u001b[0m | \u001b[0m6.94e-05 \u001b[0m | \u001b[0m1.197    \u001b[0m | \u001b[0m3.379    \u001b[0m | \u001b[0m70.57    \u001b[0m |\n"
     ]
    },
    {
     "name": "stderr",
     "output_type": "stream",
     "text": [
      "Running Model-1259: 5599it [00:00, 10626.50it/s]?, ?it/s]\n",
      "Running Model-1259: 100%|██████████| 1/1 [00:00<00:00,  1.88it/s]\n"
     ]
    },
    {
     "name": "stdout",
     "output_type": "stream",
     "text": [
      "Fitting node Ridge-315...\n"
     ]
    },
    {
     "name": "stderr",
     "output_type": "stream",
     "text": [
      "Running Model-1259: 5599it [00:00, 12160.44it/s]         \n",
      "Running Model-1261: 5599it [00:00, 11349.89it/s]?, ?it/s]\n",
      "Running Model-1261: 100%|██████████| 1/1 [00:00<00:00,  1.96it/s]\n"
     ]
    },
    {
     "name": "stdout",
     "output_type": "stream",
     "text": [
      "Fitting node Ridge-316...\n"
     ]
    },
    {
     "name": "stderr",
     "output_type": "stream",
     "text": [
      "Running Model-1259: 2399it [00:00, 12040.14it/s]         \n",
      "Running Model-1261: 2399it [00:00, 12578.36it/s]         \n"
     ]
    },
    {
     "name": "stdout",
     "output_type": "stream",
     "text": [
      "| \u001b[0m17       \u001b[0m | \u001b[0m5.67     \u001b[0m | \u001b[0m0.01872  \u001b[0m | \u001b[0m11.76    \u001b[0m | \u001b[0m1.594    \u001b[0m | \u001b[0m7.579e-05\u001b[0m | \u001b[0m0.9293   \u001b[0m | \u001b[0m9.384    \u001b[0m | \u001b[0m156.7    \u001b[0m |\n"
     ]
    },
    {
     "name": "stderr",
     "output_type": "stream",
     "text": [
      "Running Model-1263: 5599it [00:00, 10758.86it/s]?, ?it/s]\n",
      "Running Model-1263: 100%|██████████| 1/1 [00:00<00:00,  1.90it/s]\n"
     ]
    },
    {
     "name": "stdout",
     "output_type": "stream",
     "text": [
      "Fitting node Ridge-317...\n"
     ]
    },
    {
     "name": "stderr",
     "output_type": "stream",
     "text": [
      "Running Model-1263: 5599it [00:00, 12816.59it/s]         \n",
      "Running Model-1265: 5599it [00:00, 10730.64it/s]?, ?it/s]\n",
      "Running Model-1265: 100%|██████████| 1/1 [00:00<00:00,  1.92it/s]\n"
     ]
    },
    {
     "name": "stdout",
     "output_type": "stream",
     "text": [
      "Fitting node Ridge-318...\n"
     ]
    },
    {
     "name": "stderr",
     "output_type": "stream",
     "text": [
      "Running Model-1263: 2399it [00:00, 11957.99it/s]         \n",
      "Running Model-1265: 2399it [00:00, 12842.20it/s]         \n"
     ]
    },
    {
     "name": "stdout",
     "output_type": "stream",
     "text": [
      "| \u001b[0m18       \u001b[0m | \u001b[0m5.654    \u001b[0m | \u001b[0m0.003361 \u001b[0m | \u001b[0m2.278    \u001b[0m | \u001b[0m1.236    \u001b[0m | \u001b[0m3.802e-06\u001b[0m | \u001b[0m0.3708   \u001b[0m | \u001b[0m8.88     \u001b[0m | \u001b[0m130.8    \u001b[0m |\n"
     ]
    },
    {
     "name": "stderr",
     "output_type": "stream",
     "text": [
      "Running Model-1267: 5599it [00:00, 10848.13it/s]?, ?it/s]\n",
      "Running Model-1267: 100%|██████████| 1/1 [00:00<00:00,  1.90it/s]\n"
     ]
    },
    {
     "name": "stdout",
     "output_type": "stream",
     "text": [
      "Fitting node Ridge-319...\n"
     ]
    },
    {
     "name": "stderr",
     "output_type": "stream",
     "text": [
      "Running Model-1267: 5599it [00:00, 11761.75it/s]         \n",
      "Running Model-1269: 5599it [00:00, 11010.02it/s]?, ?it/s]\n",
      "Running Model-1269: 100%|██████████| 1/1 [00:00<00:00,  1.92it/s]\n"
     ]
    },
    {
     "name": "stdout",
     "output_type": "stream",
     "text": [
      "Fitting node Ridge-320...\n"
     ]
    },
    {
     "name": "stderr",
     "output_type": "stream",
     "text": [
      "Running Model-1267: 2399it [00:00, 10974.36it/s]         \n",
      "Running Model-1269: 2399it [00:00, 12230.64it/s]         \n"
     ]
    },
    {
     "name": "stdout",
     "output_type": "stream",
     "text": [
      "| \u001b[0m19       \u001b[0m | \u001b[0m5.674    \u001b[0m | \u001b[0m0.0115   \u001b[0m | \u001b[0m13.79    \u001b[0m | \u001b[0m2.118    \u001b[0m | \u001b[0m2.864e-05\u001b[0m | \u001b[0m0.7443   \u001b[0m | \u001b[0m9.757    \u001b[0m | \u001b[0m134.2    \u001b[0m |\n"
     ]
    },
    {
     "name": "stderr",
     "output_type": "stream",
     "text": [
      "Running Model-1271: 5599it [00:00, 9717.47it/s]<?, ?it/s]\n",
      "Running Model-1271: 100%|██████████| 1/1 [00:00<00:00,  1.72it/s]\n"
     ]
    },
    {
     "name": "stdout",
     "output_type": "stream",
     "text": [
      "Fitting node Ridge-321...\n"
     ]
    },
    {
     "name": "stderr",
     "output_type": "stream",
     "text": [
      "Running Model-1271: 5599it [00:00, 11164.28it/s]         \n",
      "Running Model-1273: 5599it [00:00, 9672.35it/s]<?, ?it/s]\n",
      "Running Model-1273: 100%|██████████| 1/1 [00:00<00:00,  1.68it/s]\n"
     ]
    },
    {
     "name": "stdout",
     "output_type": "stream",
     "text": [
      "Fitting node Ridge-322...\n"
     ]
    },
    {
     "name": "stderr",
     "output_type": "stream",
     "text": [
      "Running Model-1271: 2399it [00:00, 10857.37it/s]         \n",
      "Running Model-1273: 2399it [00:00, 10464.72it/s]         \n"
     ]
    },
    {
     "name": "stdout",
     "output_type": "stream",
     "text": [
      "| \u001b[0m20       \u001b[0m | \u001b[0m5.413    \u001b[0m | \u001b[0m0.001354 \u001b[0m | \u001b[0m13.21    \u001b[0m | \u001b[0m3.097    \u001b[0m | \u001b[0m8.09e-05 \u001b[0m | \u001b[0m0.5266   \u001b[0m | \u001b[0m8.908    \u001b[0m | \u001b[0m162.1    \u001b[0m |\n"
     ]
    },
    {
     "name": "stderr",
     "output_type": "stream",
     "text": [
      "Running Model-1275: 5599it [00:23, 240.82it/s]0<?, ?it/s]\n",
      "Running Model-1275: 100%|██████████| 1/1 [00:23<00:00, 23.26s/it]\n"
     ]
    },
    {
     "name": "stdout",
     "output_type": "stream",
     "text": [
      "Fitting node Ridge-323...\n"
     ]
    },
    {
     "name": "stderr",
     "output_type": "stream",
     "text": [
      "Running Model-1275: 5599it [00:21, 263.42it/s]           \n",
      "Running Model-1277: 5599it [00:23, 239.37it/s]0<?, ?it/s]\n",
      "Running Model-1277: 100%|██████████| 1/1 [00:23<00:00, 23.40s/it]\n"
     ]
    },
    {
     "name": "stdout",
     "output_type": "stream",
     "text": [
      "Fitting node Ridge-324...\n"
     ]
    },
    {
     "name": "stderr",
     "output_type": "stream",
     "text": [
      "Running Model-1275: 2399it [00:09, 254.99it/s]           \n",
      "Running Model-1277: 2399it [00:09, 255.36it/s]           \n"
     ]
    },
    {
     "name": "stdout",
     "output_type": "stream",
     "text": [
      "| \u001b[0m21       \u001b[0m | \u001b[0m5.688    \u001b[0m | \u001b[0m0.01592  \u001b[0m | \u001b[0m12.27    \u001b[0m | \u001b[0m8.929    \u001b[0m | \u001b[0m6.962e-05\u001b[0m | \u001b[0m0.8103   \u001b[0m | \u001b[0m9.593    \u001b[0m | \u001b[0m162.4    \u001b[0m |\n"
     ]
    },
    {
     "name": "stderr",
     "output_type": "stream",
     "text": [
      "Running Model-1279: 5599it [00:00, 10154.45it/s]?, ?it/s]\n",
      "Running Model-1279: 100%|██████████| 1/1 [00:00<00:00,  1.81it/s]\n"
     ]
    },
    {
     "name": "stdout",
     "output_type": "stream",
     "text": [
      "Fitting node Ridge-325...\n"
     ]
    },
    {
     "name": "stderr",
     "output_type": "stream",
     "text": [
      "Running Model-1279: 5599it [00:00, 11511.47it/s]         \n",
      "Running Model-1281: 5599it [00:00, 10205.34it/s]?, ?it/s]\n",
      "Running Model-1281: 100%|██████████| 1/1 [00:00<00:00,  1.81it/s]\n"
     ]
    },
    {
     "name": "stdout",
     "output_type": "stream",
     "text": [
      "Fitting node Ridge-326...\n"
     ]
    },
    {
     "name": "stderr",
     "output_type": "stream",
     "text": [
      "Running Model-1279: 2399it [00:00, 11236.44it/s]         \n",
      "Running Model-1281: 2399it [00:00, 11914.25it/s]         \n"
     ]
    },
    {
     "name": "stdout",
     "output_type": "stream",
     "text": [
      "| \u001b[95m22       \u001b[0m | \u001b[95m5.863    \u001b[0m | \u001b[95m0.01341  \u001b[0m | \u001b[95m5.292    \u001b[0m | \u001b[95m5.906    \u001b[0m | \u001b[95m5.206e-05\u001b[0m | \u001b[95m0.5229   \u001b[0m | \u001b[95m9.397    \u001b[0m | \u001b[95m137.0    \u001b[0m |\n"
     ]
    },
    {
     "name": "stderr",
     "output_type": "stream",
     "text": [
      "Running Model-1283: 5599it [00:00, 10420.10it/s]?, ?it/s]\n",
      "Running Model-1283: 100%|██████████| 1/1 [00:00<00:00,  1.85it/s]\n"
     ]
    },
    {
     "name": "stdout",
     "output_type": "stream",
     "text": [
      "Fitting node Ridge-327...\n"
     ]
    },
    {
     "name": "stderr",
     "output_type": "stream",
     "text": [
      "Running Model-1283: 5599it [00:00, 11023.53it/s]         \n",
      "Running Model-1285: 5599it [00:00, 10457.11it/s]?, ?it/s]\n",
      "Running Model-1285: 100%|██████████| 1/1 [00:00<00:00,  1.86it/s]\n"
     ]
    },
    {
     "name": "stdout",
     "output_type": "stream",
     "text": [
      "Fitting node Ridge-328...\n"
     ]
    },
    {
     "name": "stderr",
     "output_type": "stream",
     "text": [
      "Running Model-1283: 2399it [00:00, 12510.25it/s]         \n",
      "Running Model-1285: 2399it [00:00, 11728.44it/s]         \n"
     ]
    },
    {
     "name": "stdout",
     "output_type": "stream",
     "text": [
      "| \u001b[0m23       \u001b[0m | \u001b[0m5.819    \u001b[0m | \u001b[0m0.009446 \u001b[0m | \u001b[0m4.471    \u001b[0m | \u001b[0m2.998    \u001b[0m | \u001b[0m8.652e-05\u001b[0m | \u001b[0m0.8209   \u001b[0m | \u001b[0m9.662    \u001b[0m | \u001b[0m135.7    \u001b[0m |\n"
     ]
    },
    {
     "name": "stderr",
     "output_type": "stream",
     "text": [
      "Running Model-1287: 5599it [00:00, 10797.85it/s]?, ?it/s]\n",
      "Running Model-1287: 100%|██████████| 1/1 [00:00<00:00,  1.87it/s]\n"
     ]
    },
    {
     "name": "stdout",
     "output_type": "stream",
     "text": [
      "Fitting node Ridge-329...\n"
     ]
    },
    {
     "name": "stderr",
     "output_type": "stream",
     "text": [
      "Running Model-1287: 5599it [00:00, 12448.23it/s]         \n",
      "Running Model-1289: 5599it [00:00, 10691.57it/s]?, ?it/s]\n",
      "Running Model-1289: 100%|██████████| 1/1 [00:00<00:00,  1.87it/s]\n"
     ]
    },
    {
     "name": "stdout",
     "output_type": "stream",
     "text": [
      "Fitting node Ridge-330...\n"
     ]
    },
    {
     "name": "stderr",
     "output_type": "stream",
     "text": [
      "Running Model-1287: 2399it [00:00, 12257.46it/s]         \n",
      "Running Model-1289: 2399it [00:00, 12396.97it/s]         \n"
     ]
    },
    {
     "name": "stdout",
     "output_type": "stream",
     "text": [
      "| \u001b[0m24       \u001b[0m | \u001b[0m5.166    \u001b[0m | \u001b[0m0.007011 \u001b[0m | \u001b[0m3.976    \u001b[0m | \u001b[0m5.502    \u001b[0m | \u001b[0m0.0001   \u001b[0m | \u001b[0m0.13     \u001b[0m | \u001b[0m6.364    \u001b[0m | \u001b[0m135.1    \u001b[0m |\n"
     ]
    },
    {
     "name": "stderr",
     "output_type": "stream",
     "text": [
      "Running Model-1291: 5599it [00:00, 10420.33it/s]?, ?it/s]\n",
      "Running Model-1291: 100%|██████████| 1/1 [00:00<00:00,  1.86it/s]\n"
     ]
    },
    {
     "name": "stdout",
     "output_type": "stream",
     "text": [
      "Fitting node Ridge-331...\n"
     ]
    },
    {
     "name": "stderr",
     "output_type": "stream",
     "text": [
      "Running Model-1291: 5599it [00:00, 11782.64it/s]         \n",
      "Running Model-1293: 5599it [00:00, 11968.79it/s]?, ?it/s]\n",
      "Running Model-1293: 100%|██████████| 1/1 [00:00<00:00,  2.06it/s]\n"
     ]
    },
    {
     "name": "stdout",
     "output_type": "stream",
     "text": [
      "Fitting node Ridge-332...\n"
     ]
    },
    {
     "name": "stderr",
     "output_type": "stream",
     "text": [
      "Running Model-1291: 2399it [00:00, 13319.99it/s]         \n",
      "Running Model-1293: 2399it [00:00, 13628.42it/s]         \n"
     ]
    },
    {
     "name": "stdout",
     "output_type": "stream",
     "text": [
      "| \u001b[0m25       \u001b[0m | \u001b[0m5.07     \u001b[0m | \u001b[0m0.01531  \u001b[0m | \u001b[0m5.076    \u001b[0m | \u001b[0m4.03     \u001b[0m | \u001b[0m2.485e-05\u001b[0m | \u001b[0m1.2      \u001b[0m | \u001b[0m10.0     \u001b[0m | \u001b[0m138.3    \u001b[0m |\n"
     ]
    },
    {
     "name": "stderr",
     "output_type": "stream",
     "text": [
      "Running Model-1295: 5599it [00:00, 11822.20it/s]?, ?it/s]\n",
      "Running Model-1295: 100%|██████████| 1/1 [00:00<00:00,  2.09it/s]\n"
     ]
    },
    {
     "name": "stdout",
     "output_type": "stream",
     "text": [
      "Fitting node Ridge-333...\n"
     ]
    },
    {
     "name": "stderr",
     "output_type": "stream",
     "text": [
      "Running Model-1295: 5599it [00:00, 13376.93it/s]         \n",
      "Running Model-1297: 5599it [00:00, 12126.90it/s]?, ?it/s]\n",
      "Running Model-1297: 100%|██████████| 1/1 [00:00<00:00,  2.15it/s]\n"
     ]
    },
    {
     "name": "stdout",
     "output_type": "stream",
     "text": [
      "Fitting node Ridge-334...\n"
     ]
    },
    {
     "name": "stderr",
     "output_type": "stream",
     "text": [
      "Running Model-1295: 2399it [00:00, 13670.80it/s]         \n",
      "Running Model-1297: 2399it [00:00, 13605.15it/s]         \n"
     ]
    },
    {
     "name": "stdout",
     "output_type": "stream",
     "text": [
      "| \u001b[0m26       \u001b[0m | \u001b[0m5.841    \u001b[0m | \u001b[0m0.007346 \u001b[0m | \u001b[0m4.37     \u001b[0m | \u001b[0m5.064    \u001b[0m | \u001b[0m7.69e-05 \u001b[0m | \u001b[0m1.049    \u001b[0m | \u001b[0m9.386    \u001b[0m | \u001b[0m136.6    \u001b[0m |\n"
     ]
    },
    {
     "name": "stderr",
     "output_type": "stream",
     "text": [
      "Running Model-1299: 5599it [00:00, 12119.35it/s]?, ?it/s]\n",
      "Running Model-1299: 100%|██████████| 1/1 [00:00<00:00,  2.14it/s]\n"
     ]
    },
    {
     "name": "stdout",
     "output_type": "stream",
     "text": [
      "Fitting node Ridge-335...\n"
     ]
    },
    {
     "name": "stderr",
     "output_type": "stream",
     "text": [
      "Running Model-1299: 5599it [00:00, 13585.96it/s]         \n",
      "Running Model-1301: 5599it [00:00, 12324.25it/s]?, ?it/s]\n",
      "Running Model-1301: 100%|██████████| 1/1 [00:00<00:00,  2.18it/s]\n"
     ]
    },
    {
     "name": "stdout",
     "output_type": "stream",
     "text": [
      "Fitting node Ridge-336...\n"
     ]
    },
    {
     "name": "stderr",
     "output_type": "stream",
     "text": [
      "Running Model-1299: 2399it [00:00, 13838.89it/s]         \n",
      "Running Model-1301: 2399it [00:00, 13584.43it/s]         \n"
     ]
    },
    {
     "name": "stdout",
     "output_type": "stream",
     "text": [
      "| \u001b[95m27       \u001b[0m | \u001b[95m5.885    \u001b[0m | \u001b[95m0.006971 \u001b[0m | \u001b[95m3.619    \u001b[0m | \u001b[95m5.523    \u001b[0m | \u001b[95m3.572e-05\u001b[0m | \u001b[95m0.7935   \u001b[0m | \u001b[95m9.816    \u001b[0m | \u001b[95m136.0    \u001b[0m |\n"
     ]
    },
    {
     "name": "stderr",
     "output_type": "stream",
     "text": [
      "Running Model-1303: 5599it [00:00, 11329.49it/s]?, ?it/s]\n",
      "Running Model-1303: 100%|██████████| 1/1 [00:00<00:00,  2.00it/s]\n"
     ]
    },
    {
     "name": "stdout",
     "output_type": "stream",
     "text": [
      "Fitting node Ridge-337...\n"
     ]
    },
    {
     "name": "stderr",
     "output_type": "stream",
     "text": [
      "Running Model-1303: 5599it [00:00, 12148.44it/s]         \n",
      "Running Model-1305: 5599it [00:00, 10986.26it/s]?, ?it/s]\n",
      "Running Model-1305: 100%|██████████| 1/1 [00:00<00:00,  1.95it/s]\n"
     ]
    },
    {
     "name": "stdout",
     "output_type": "stream",
     "text": [
      "Fitting node Ridge-338...\n"
     ]
    },
    {
     "name": "stderr",
     "output_type": "stream",
     "text": [
      "Running Model-1303: 2399it [00:00, 12227.89it/s]         \n",
      "Running Model-1305: 2399it [00:00, 12419.38it/s]         \n"
     ]
    },
    {
     "name": "stdout",
     "output_type": "stream",
     "text": [
      "| \u001b[0m28       \u001b[0m | \u001b[0m5.82     \u001b[0m | \u001b[0m0.0153   \u001b[0m | \u001b[0m6.35     \u001b[0m | \u001b[0m5.877    \u001b[0m | \u001b[0m4.657e-05\u001b[0m | \u001b[0m0.8399   \u001b[0m | \u001b[0m9.868    \u001b[0m | \u001b[0m135.8    \u001b[0m |\n"
     ]
    },
    {
     "name": "stderr",
     "output_type": "stream",
     "text": [
      "Running Model-1307: 5599it [00:00, 11630.10it/s]?, ?it/s]\n",
      "Running Model-1307: 100%|██████████| 1/1 [00:00<00:00,  2.06it/s]\n"
     ]
    },
    {
     "name": "stdout",
     "output_type": "stream",
     "text": [
      "Fitting node Ridge-339...\n"
     ]
    },
    {
     "name": "stderr",
     "output_type": "stream",
     "text": [
      "Running Model-1307: 5599it [00:00, 13319.59it/s]         \n",
      "Running Model-1309: 5599it [00:00, 11834.03it/s]?, ?it/s]\n",
      "Running Model-1309: 100%|██████████| 1/1 [00:00<00:00,  2.11it/s]\n"
     ]
    },
    {
     "name": "stdout",
     "output_type": "stream",
     "text": [
      "Fitting node Ridge-340...\n"
     ]
    },
    {
     "name": "stderr",
     "output_type": "stream",
     "text": [
      "Running Model-1307: 2399it [00:00, 13471.36it/s]         \n",
      "Running Model-1309: 2399it [00:00, 14177.21it/s]         \n"
     ]
    },
    {
     "name": "stdout",
     "output_type": "stream",
     "text": [
      "| \u001b[0m29       \u001b[0m | \u001b[0m5.745    \u001b[0m | \u001b[0m0.001    \u001b[0m | \u001b[0m4.21     \u001b[0m | \u001b[0m7.229    \u001b[0m | \u001b[0m0.0001   \u001b[0m | \u001b[0m1.2      \u001b[0m | \u001b[0m9.808    \u001b[0m | \u001b[0m136.6    \u001b[0m |\n"
     ]
    },
    {
     "name": "stderr",
     "output_type": "stream",
     "text": [
      "Running Model-1311: 5599it [00:00, 12118.76it/s]?, ?it/s]\n",
      "Running Model-1311: 100%|██████████| 1/1 [00:00<00:00,  2.14it/s]\n"
     ]
    },
    {
     "name": "stdout",
     "output_type": "stream",
     "text": [
      "Fitting node Ridge-341...\n"
     ]
    },
    {
     "name": "stderr",
     "output_type": "stream",
     "text": [
      "Running Model-1311: 5599it [00:00, 13536.42it/s]         \n",
      "Running Model-1313: 5599it [00:00, 12313.39it/s]?, ?it/s]\n",
      "Running Model-1313: 100%|██████████| 1/1 [00:00<00:00,  2.19it/s]\n"
     ]
    },
    {
     "name": "stdout",
     "output_type": "stream",
     "text": [
      "Fitting node Ridge-342...\n"
     ]
    },
    {
     "name": "stderr",
     "output_type": "stream",
     "text": [
      "Running Model-1311: 2399it [00:00, 13642.26it/s]         \n",
      "Running Model-1313: 2399it [00:00, 13938.00it/s]         \n"
     ]
    },
    {
     "name": "stdout",
     "output_type": "stream",
     "text": [
      "| \u001b[0m30       \u001b[0m | \u001b[0m5.025    \u001b[0m | \u001b[0m0.001    \u001b[0m | \u001b[0m4.902    \u001b[0m | \u001b[0m4.653    \u001b[0m | \u001b[0m0.0001   \u001b[0m | \u001b[0m0.1      \u001b[0m | \u001b[0m10.0     \u001b[0m | \u001b[0m134.9    \u001b[0m |\n"
     ]
    },
    {
     "name": "stderr",
     "output_type": "stream",
     "text": [
      "Running Model-1315: 5599it [00:00, 12694.54it/s]?, ?it/s]\n",
      "Running Model-1315: 100%|██████████| 1/1 [00:00<00:00,  2.18it/s]\n"
     ]
    },
    {
     "name": "stdout",
     "output_type": "stream",
     "text": [
      "Fitting node Ridge-343...\n"
     ]
    },
    {
     "name": "stderr",
     "output_type": "stream",
     "text": [
      "Running Model-1315: 5599it [00:00, 13695.63it/s]         \n",
      "Running Model-1317: 5599it [00:00, 12017.34it/s]?, ?it/s]\n",
      "Running Model-1317: 100%|██████████| 1/1 [00:00<00:00,  2.14it/s]\n"
     ]
    },
    {
     "name": "stdout",
     "output_type": "stream",
     "text": [
      "Fitting node Ridge-344...\n"
     ]
    },
    {
     "name": "stderr",
     "output_type": "stream",
     "text": [
      "Running Model-1315: 2399it [00:00, 13045.63it/s]         \n",
      "Running Model-1317: 2399it [00:00, 14233.47it/s]         \n"
     ]
    },
    {
     "name": "stdout",
     "output_type": "stream",
     "text": [
      "| \u001b[0m31       \u001b[0m | \u001b[0m5.872    \u001b[0m | \u001b[0m0.01623  \u001b[0m | \u001b[0m3.783    \u001b[0m | \u001b[0m6.016    \u001b[0m | \u001b[0m8.755e-06\u001b[0m | \u001b[0m0.547    \u001b[0m | \u001b[0m9.417    \u001b[0m | \u001b[0m137.0    \u001b[0m |\n"
     ]
    },
    {
     "name": "stderr",
     "output_type": "stream",
     "text": [
      "Running Model-1319: 5599it [00:00, 10441.49it/s]?, ?it/s]\n",
      "Running Model-1319: 100%|██████████| 1/1 [00:00<00:00,  1.83it/s]\n"
     ]
    },
    {
     "name": "stdout",
     "output_type": "stream",
     "text": [
      "Fitting node Ridge-345...\n"
     ]
    },
    {
     "name": "stderr",
     "output_type": "stream",
     "text": [
      "Running Model-1319: 5599it [00:00, 11780.15it/s]         \n",
      "Running Model-1321: 5599it [00:00, 10386.78it/s]?, ?it/s]\n",
      "Running Model-1321: 100%|██████████| 1/1 [00:00<00:00,  1.84it/s]\n"
     ]
    },
    {
     "name": "stdout",
     "output_type": "stream",
     "text": [
      "Fitting node Ridge-346...\n"
     ]
    },
    {
     "name": "stderr",
     "output_type": "stream",
     "text": [
      "Running Model-1319: 2399it [00:00, 11360.88it/s]         \n",
      "Running Model-1321: 2399it [00:00, 11261.28it/s]         \n"
     ]
    },
    {
     "name": "stdout",
     "output_type": "stream",
     "text": [
      "| \u001b[0m32       \u001b[0m | \u001b[0m0.2225   \u001b[0m | \u001b[0m0.007685 \u001b[0m | \u001b[0m6.304    \u001b[0m | \u001b[0m6.511    \u001b[0m | \u001b[0m5.709e-05\u001b[0m | \u001b[0m0.8916   \u001b[0m | \u001b[0m9.466    \u001b[0m | \u001b[0m137.3    \u001b[0m |\n"
     ]
    },
    {
     "name": "stderr",
     "output_type": "stream",
     "text": [
      "Running Model-1323: 5599it [00:00, 11088.00it/s]?, ?it/s]\n",
      "Running Model-1323: 100%|██████████| 1/1 [00:00<00:00,  1.98it/s]\n"
     ]
    },
    {
     "name": "stdout",
     "output_type": "stream",
     "text": [
      "Fitting node Ridge-347...\n"
     ]
    },
    {
     "name": "stderr",
     "output_type": "stream",
     "text": [
      "Running Model-1323: 5599it [00:00, 11869.81it/s]         \n",
      "Running Model-1325: 5599it [00:00, 10898.42it/s]?, ?it/s]\n",
      "Running Model-1325: 100%|██████████| 1/1 [00:00<00:00,  1.89it/s]\n"
     ]
    },
    {
     "name": "stdout",
     "output_type": "stream",
     "text": [
      "Fitting node Ridge-348...\n"
     ]
    },
    {
     "name": "stderr",
     "output_type": "stream",
     "text": [
      "Running Model-1323: 2399it [00:00, 11742.02it/s]         \n",
      "Running Model-1325: 2399it [00:00, 10644.72it/s]         \n"
     ]
    },
    {
     "name": "stdout",
     "output_type": "stream",
     "text": [
      "| \u001b[0m33       \u001b[0m | \u001b[0m4.989    \u001b[0m | \u001b[0m0.003603 \u001b[0m | \u001b[0m15.9     \u001b[0m | \u001b[0m3.706    \u001b[0m | \u001b[0m6.801e-05\u001b[0m | \u001b[0m0.2393   \u001b[0m | \u001b[0m7.773    \u001b[0m | \u001b[0m61.8     \u001b[0m |\n"
     ]
    },
    {
     "name": "stderr",
     "output_type": "stream",
     "text": [
      "Running Model-1327: 5599it [00:00, 9771.90it/s]<?, ?it/s]\n",
      "Running Model-1327: 100%|██████████| 1/1 [00:00<00:00,  1.73it/s]\n"
     ]
    },
    {
     "name": "stdout",
     "output_type": "stream",
     "text": [
      "Fitting node Ridge-349...\n"
     ]
    },
    {
     "name": "stderr",
     "output_type": "stream",
     "text": [
      "Running Model-1327: 5599it [00:00, 11229.00it/s]         \n",
      "Running Model-1329: 5599it [00:00, 10131.41it/s]?, ?it/s]\n",
      "Running Model-1329: 100%|██████████| 1/1 [00:00<00:00,  1.78it/s]\n"
     ]
    },
    {
     "name": "stdout",
     "output_type": "stream",
     "text": [
      "Fitting node Ridge-350...\n"
     ]
    },
    {
     "name": "stderr",
     "output_type": "stream",
     "text": [
      "Running Model-1327: 2399it [00:00, 10198.65it/s]         \n",
      "Running Model-1329: 2399it [00:00, 11180.54it/s]         \n"
     ]
    },
    {
     "name": "stdout",
     "output_type": "stream",
     "text": [
      "| \u001b[0m34       \u001b[0m | \u001b[0m5.834    \u001b[0m | \u001b[0m0.0124   \u001b[0m | \u001b[0m5.617    \u001b[0m | \u001b[0m8.655    \u001b[0m | \u001b[0m5.366e-05\u001b[0m | \u001b[0m0.4707   \u001b[0m | \u001b[0m8.968    \u001b[0m | \u001b[0m141.1    \u001b[0m |\n"
     ]
    },
    {
     "name": "stderr",
     "output_type": "stream",
     "text": [
      "Running Model-1331: 5599it [00:00, 7112.46it/s]<?, ?it/s]\n",
      "Running Model-1331: 100%|██████████| 1/1 [00:00<00:00,  1.27it/s]\n"
     ]
    },
    {
     "name": "stdout",
     "output_type": "stream",
     "text": [
      "Fitting node Ridge-351...\n"
     ]
    },
    {
     "name": "stderr",
     "output_type": "stream",
     "text": [
      "Running Model-1331: 5599it [00:00, 7748.07it/s]          \n",
      "Running Model-1333: 5599it [00:00, 7132.36it/s]<?, ?it/s]\n",
      "Running Model-1333: 100%|██████████| 1/1 [00:00<00:00,  1.27it/s]\n"
     ]
    },
    {
     "name": "stdout",
     "output_type": "stream",
     "text": [
      "Fitting node Ridge-352...\n"
     ]
    },
    {
     "name": "stderr",
     "output_type": "stream",
     "text": [
      "Running Model-1331: 2399it [00:00, 7733.41it/s]          \n",
      "Running Model-1333: 2399it [00:00, 8013.21it/s]          \n"
     ]
    },
    {
     "name": "stdout",
     "output_type": "stream",
     "text": [
      "| \u001b[0m35       \u001b[0m | \u001b[0m0.2507   \u001b[0m | \u001b[0m0.001361 \u001b[0m | \u001b[0m14.08    \u001b[0m | \u001b[0m4.845    \u001b[0m | \u001b[0m2.036e-05\u001b[0m | \u001b[0m0.8493   \u001b[0m | \u001b[0m5.311    \u001b[0m | \u001b[0m107.0    \u001b[0m |\n"
     ]
    },
    {
     "name": "stderr",
     "output_type": "stream",
     "text": [
      "Running Model-1335: 5599it [00:00, 11593.21it/s]?, ?it/s]\n",
      "Running Model-1335: 100%|██████████| 1/1 [00:00<00:00,  2.07it/s]\n"
     ]
    },
    {
     "name": "stdout",
     "output_type": "stream",
     "text": [
      "Fitting node Ridge-353...\n"
     ]
    },
    {
     "name": "stderr",
     "output_type": "stream",
     "text": [
      "Running Model-1335: 5599it [00:00, 12695.90it/s]         \n",
      "Running Model-1337: 5599it [00:00, 11800.30it/s]?, ?it/s]\n",
      "Running Model-1337: 100%|██████████| 1/1 [00:00<00:00,  2.06it/s]\n"
     ]
    },
    {
     "name": "stdout",
     "output_type": "stream",
     "text": [
      "Fitting node Ridge-354...\n"
     ]
    },
    {
     "name": "stderr",
     "output_type": "stream",
     "text": [
      "Running Model-1335: 2399it [00:00, 12491.90it/s]         \n",
      "Running Model-1337: 2399it [00:00, 12372.82it/s]         \n"
     ]
    },
    {
     "name": "stdout",
     "output_type": "stream",
     "text": [
      "| \u001b[0m36       \u001b[0m | \u001b[0m5.872    \u001b[0m | \u001b[0m0.01799  \u001b[0m | \u001b[0m4.209    \u001b[0m | \u001b[0m6.05     \u001b[0m | \u001b[0m8.223e-05\u001b[0m | \u001b[0m0.1794   \u001b[0m | \u001b[0m9.939    \u001b[0m | \u001b[0m137.4    \u001b[0m |\n"
     ]
    },
    {
     "name": "stderr",
     "output_type": "stream",
     "text": [
      "Running Model-1339: 5599it [00:01, 3074.07it/s]<?, ?it/s]\n",
      "Running Model-1339: 100%|██████████| 1/1 [00:01<00:00,  1.82s/it]\n"
     ]
    },
    {
     "name": "stdout",
     "output_type": "stream",
     "text": [
      "Fitting node Ridge-355...\n"
     ]
    },
    {
     "name": "stderr",
     "output_type": "stream",
     "text": [
      "Running Model-1339: 5599it [00:01, 3145.55it/s]          \n",
      "Running Model-1341: 5599it [00:01, 3119.24it/s]<?, ?it/s]\n",
      "Running Model-1341: 100%|██████████| 1/1 [00:01<00:00,  1.80s/it]\n"
     ]
    },
    {
     "name": "stdout",
     "output_type": "stream",
     "text": [
      "Fitting node Ridge-356...\n"
     ]
    },
    {
     "name": "stderr",
     "output_type": "stream",
     "text": [
      "Running Model-1339: 2399it [00:00, 3267.86it/s]          \n",
      "Running Model-1341: 2399it [00:00, 3188.87it/s]          \n"
     ]
    },
    {
     "name": "stdout",
     "output_type": "stream",
     "text": [
      "| \u001b[0m37       \u001b[0m | \u001b[0m5.341    \u001b[0m | \u001b[0m0.009625 \u001b[0m | \u001b[0m14.2     \u001b[0m | \u001b[0m5.024    \u001b[0m | \u001b[0m9.431e-06\u001b[0m | \u001b[0m0.1754   \u001b[0m | \u001b[0m7.827    \u001b[0m | \u001b[0m156.3    \u001b[0m |\n"
     ]
    },
    {
     "name": "stderr",
     "output_type": "stream",
     "text": [
      "Running Model-1343: 5599it [00:00, 10496.86it/s]?, ?it/s]\n",
      "Running Model-1343: 100%|██████████| 1/1 [00:00<00:00,  1.85it/s]\n"
     ]
    },
    {
     "name": "stdout",
     "output_type": "stream",
     "text": [
      "Fitting node Ridge-357...\n"
     ]
    },
    {
     "name": "stderr",
     "output_type": "stream",
     "text": [
      "Running Model-1343: 5599it [00:00, 11485.20it/s]         \n",
      "Running Model-1345: 5599it [00:00, 10126.90it/s]?, ?it/s]\n",
      "Running Model-1345: 100%|██████████| 1/1 [00:00<00:00,  1.79it/s]\n"
     ]
    },
    {
     "name": "stdout",
     "output_type": "stream",
     "text": [
      "Fitting node Ridge-358...\n"
     ]
    },
    {
     "name": "stderr",
     "output_type": "stream",
     "text": [
      "Running Model-1343: 2399it [00:00, 11203.85it/s]         \n",
      "Running Model-1345: 2399it [00:00, 12353.12it/s]         \n"
     ]
    },
    {
     "name": "stdout",
     "output_type": "stream",
     "text": [
      "| \u001b[0m38       \u001b[0m | \u001b[0m5.798    \u001b[0m | \u001b[0m0.002791 \u001b[0m | \u001b[0m4.404    \u001b[0m | \u001b[0m7.171    \u001b[0m | \u001b[0m8.5e-05  \u001b[0m | \u001b[0m0.5785   \u001b[0m | \u001b[0m9.222    \u001b[0m | \u001b[0m137.1    \u001b[0m |\n"
     ]
    },
    {
     "name": "stderr",
     "output_type": "stream",
     "text": [
      "Running Model-1347: 5599it [00:00, 11431.44it/s]?, ?it/s]\n",
      "Running Model-1347: 100%|██████████| 1/1 [00:00<00:00,  2.02it/s]\n"
     ]
    },
    {
     "name": "stdout",
     "output_type": "stream",
     "text": [
      "Fitting node Ridge-359...\n"
     ]
    },
    {
     "name": "stderr",
     "output_type": "stream",
     "text": [
      "Running Model-1347: 5599it [00:00, 13352.23it/s]         \n",
      "Running Model-1349: 5599it [00:00, 11168.37it/s]?, ?it/s]\n",
      "Running Model-1349: 100%|██████████| 1/1 [00:00<00:00,  1.98it/s]\n"
     ]
    },
    {
     "name": "stdout",
     "output_type": "stream",
     "text": [
      "Fitting node Ridge-360...\n"
     ]
    },
    {
     "name": "stderr",
     "output_type": "stream",
     "text": [
      "Running Model-1347: 2399it [00:00, 14072.66it/s]         \n",
      "Running Model-1349: 2399it [00:00, 13253.10it/s]         \n"
     ]
    },
    {
     "name": "stdout",
     "output_type": "stream",
     "text": [
      "| \u001b[0m39       \u001b[0m | \u001b[0m5.877    \u001b[0m | \u001b[0m0.01501  \u001b[0m | \u001b[0m4.606    \u001b[0m | \u001b[0m7.048    \u001b[0m | \u001b[0m7.23e-06 \u001b[0m | \u001b[0m0.2719   \u001b[0m | \u001b[0m8.991    \u001b[0m | \u001b[0m136.7    \u001b[0m |\n"
     ]
    },
    {
     "name": "stderr",
     "output_type": "stream",
     "text": [
      "Running Model-1351: 5599it [00:00, 11490.32it/s]?, ?it/s]\n",
      "Running Model-1351: 100%|██████████| 1/1 [00:00<00:00,  2.02it/s]\n"
     ]
    },
    {
     "name": "stdout",
     "output_type": "stream",
     "text": [
      "Fitting node Ridge-361...\n"
     ]
    },
    {
     "name": "stderr",
     "output_type": "stream",
     "text": [
      "Running Model-1351: 5599it [00:00, 13370.21it/s]         \n",
      "Running Model-1353: 5599it [00:00, 10681.29it/s]?, ?it/s]\n",
      "Running Model-1353: 100%|██████████| 1/1 [00:00<00:00,  1.90it/s]\n"
     ]
    },
    {
     "name": "stdout",
     "output_type": "stream",
     "text": [
      "Fitting node Ridge-362...\n"
     ]
    },
    {
     "name": "stderr",
     "output_type": "stream",
     "text": [
      "Running Model-1351: 2399it [00:00, 11395.96it/s]         \n",
      "Running Model-1353: 2399it [00:00, 12546.37it/s]         \n"
     ]
    },
    {
     "name": "stdout",
     "output_type": "stream",
     "text": [
      "| \u001b[0m40       \u001b[0m | \u001b[0m5.75     \u001b[0m | \u001b[0m0.01932  \u001b[0m | \u001b[0m3.295    \u001b[0m | \u001b[0m7.021    \u001b[0m | \u001b[0m8.24e-05 \u001b[0m | \u001b[0m0.8358   \u001b[0m | \u001b[0m6.322    \u001b[0m | \u001b[0m180.2    \u001b[0m |\n"
     ]
    },
    {
     "name": "stderr",
     "output_type": "stream",
     "text": [
      "Running Model-1355: 5599it [00:00, 10350.53it/s]?, ?it/s]\n",
      "Running Model-1355: 100%|██████████| 1/1 [00:00<00:00,  1.83it/s]\n"
     ]
    },
    {
     "name": "stdout",
     "output_type": "stream",
     "text": [
      "Fitting node Ridge-363...\n"
     ]
    },
    {
     "name": "stderr",
     "output_type": "stream",
     "text": [
      "Running Model-1355: 5599it [00:00, 12770.59it/s]         \n",
      "Running Model-1357: 5599it [00:00, 12078.80it/s]?, ?it/s]\n",
      "Running Model-1357: 100%|██████████| 1/1 [00:00<00:00,  2.13it/s]\n"
     ]
    },
    {
     "name": "stdout",
     "output_type": "stream",
     "text": [
      "Fitting node Ridge-364...\n"
     ]
    },
    {
     "name": "stderr",
     "output_type": "stream",
     "text": [
      "Running Model-1355: 2399it [00:00, 12902.47it/s]         \n",
      "Running Model-1357: 2399it [00:00, 13910.23it/s]         \n"
     ]
    },
    {
     "name": "stdout",
     "output_type": "stream",
     "text": [
      "| \u001b[95m41       \u001b[0m | \u001b[95m5.903    \u001b[0m | \u001b[95m0.01751  \u001b[0m | \u001b[95m3.252    \u001b[0m | \u001b[95m7.606    \u001b[0m | \u001b[95m7.111e-05\u001b[0m | \u001b[95m0.289    \u001b[0m | \u001b[95m9.115    \u001b[0m | \u001b[95m137.0    \u001b[0m |\n"
     ]
    },
    {
     "name": "stderr",
     "output_type": "stream",
     "text": [
      "Running Model-1359: 5599it [00:01, 4915.71it/s]<?, ?it/s]\n",
      "Running Model-1359: 100%|██████████| 1/1 [00:01<00:00,  1.14s/it]\n"
     ]
    },
    {
     "name": "stdout",
     "output_type": "stream",
     "text": [
      "Fitting node Ridge-365...\n"
     ]
    },
    {
     "name": "stderr",
     "output_type": "stream",
     "text": [
      "Running Model-1359: 5599it [00:01, 5098.91it/s]          \n",
      "Running Model-1361: 5599it [00:01, 4693.75it/s]<?, ?it/s]\n",
      "Running Model-1361: 100%|██████████| 1/1 [00:01<00:00,  1.20s/it]\n"
     ]
    },
    {
     "name": "stdout",
     "output_type": "stream",
     "text": [
      "Fitting node Ridge-366...\n"
     ]
    },
    {
     "name": "stderr",
     "output_type": "stream",
     "text": [
      "Running Model-1359: 2399it [00:00, 5034.20it/s]          \n",
      "Running Model-1361: 2399it [00:00, 4937.20it/s]          \n"
     ]
    },
    {
     "name": "stdout",
     "output_type": "stream",
     "text": [
      "| \u001b[0m42       \u001b[0m | \u001b[0m5.367    \u001b[0m | \u001b[0m0.001524 \u001b[0m | \u001b[0m8.367    \u001b[0m | \u001b[0m7.198    \u001b[0m | \u001b[0m1.989e-05\u001b[0m | \u001b[0m0.8389   \u001b[0m | \u001b[0m4.73     \u001b[0m | \u001b[0m173.1    \u001b[0m |\n"
     ]
    },
    {
     "name": "stderr",
     "output_type": "stream",
     "text": [
      "Running Model-1363: 5599it [00:00, 11880.40it/s]?, ?it/s]\n",
      "Running Model-1363: 100%|██████████| 1/1 [00:00<00:00,  2.10it/s]\n"
     ]
    },
    {
     "name": "stdout",
     "output_type": "stream",
     "text": [
      "Fitting node Ridge-367...\n"
     ]
    },
    {
     "name": "stderr",
     "output_type": "stream",
     "text": [
      "Running Model-1363: 5599it [00:00, 13180.48it/s]         \n",
      "Running Model-1365: 5599it [00:00, 11288.95it/s]?, ?it/s]\n",
      "Running Model-1365: 100%|██████████| 1/1 [00:00<00:00,  2.00it/s]\n"
     ]
    },
    {
     "name": "stdout",
     "output_type": "stream",
     "text": [
      "Fitting node Ridge-368...\n"
     ]
    },
    {
     "name": "stderr",
     "output_type": "stream",
     "text": [
      "Running Model-1363: 2399it [00:00, 12929.40it/s]         \n",
      "Running Model-1365: 2399it [00:00, 13418.90it/s]         \n"
     ]
    },
    {
     "name": "stdout",
     "output_type": "stream",
     "text": [
      "| \u001b[0m43       \u001b[0m | \u001b[0m5.797    \u001b[0m | \u001b[0m0.01661  \u001b[0m | \u001b[0m4.09     \u001b[0m | \u001b[0m6.597    \u001b[0m | \u001b[0m5.945e-05\u001b[0m | \u001b[0m0.4437   \u001b[0m | \u001b[0m8.569    \u001b[0m | \u001b[0m136.4    \u001b[0m |\n"
     ]
    },
    {
     "name": "stderr",
     "output_type": "stream",
     "text": [
      "Running Model-1367: 5599it [00:00, 11874.76it/s]?, ?it/s]\n",
      "Running Model-1367: 100%|██████████| 1/1 [00:00<00:00,  2.09it/s]\n"
     ]
    },
    {
     "name": "stdout",
     "output_type": "stream",
     "text": [
      "Fitting node Ridge-369...\n"
     ]
    },
    {
     "name": "stderr",
     "output_type": "stream",
     "text": [
      "Running Model-1367: 5599it [00:00, 13017.20it/s]         \n",
      "Running Model-1369: 5599it [00:00, 11431.64it/s]?, ?it/s]\n",
      "Running Model-1369: 100%|██████████| 1/1 [00:00<00:00,  2.02it/s]\n"
     ]
    },
    {
     "name": "stdout",
     "output_type": "stream",
     "text": [
      "Fitting node Ridge-370...\n"
     ]
    },
    {
     "name": "stderr",
     "output_type": "stream",
     "text": [
      "Running Model-1367: 2399it [00:00, 13422.21it/s]         \n",
      "Running Model-1369: 2399it [00:00, 12896.95it/s]         \n"
     ]
    },
    {
     "name": "stdout",
     "output_type": "stream",
     "text": [
      "| \u001b[0m44       \u001b[0m | \u001b[0m5.791    \u001b[0m | \u001b[0m0.01181  \u001b[0m | \u001b[0m4.69     \u001b[0m | \u001b[0m5.072    \u001b[0m | \u001b[0m8.961e-05\u001b[0m | \u001b[0m0.7458   \u001b[0m | \u001b[0m8.575    \u001b[0m | \u001b[0m137.1    \u001b[0m |\n"
     ]
    },
    {
     "name": "stderr",
     "output_type": "stream",
     "text": [
      "Running Model-1371: 5599it [00:00, 9905.18it/s]<?, ?it/s]\n",
      "Running Model-1371: 100%|██████████| 1/1 [00:00<00:00,  1.76it/s]\n"
     ]
    },
    {
     "name": "stdout",
     "output_type": "stream",
     "text": [
      "Fitting node Ridge-371...\n"
     ]
    },
    {
     "name": "stderr",
     "output_type": "stream",
     "text": [
      "Running Model-1371: 5599it [00:00, 10695.59it/s]         \n",
      "Running Model-1373: 5599it [00:00, 8311.41it/s]<?, ?it/s]\n",
      "Running Model-1373: 100%|██████████| 1/1 [00:00<00:00,  1.47it/s]\n"
     ]
    },
    {
     "name": "stdout",
     "output_type": "stream",
     "text": [
      "Fitting node Ridge-372...\n"
     ]
    },
    {
     "name": "stderr",
     "output_type": "stream",
     "text": [
      "Running Model-1371: 2399it [00:00, 10838.60it/s]         \n",
      "Running Model-1373: 2399it [00:00, 9795.15it/s]          "
     ]
    },
    {
     "name": "stdout",
     "output_type": "stream",
     "text": [
      "| \u001b[0m45       \u001b[0m | \u001b[0m5.744    \u001b[0m | \u001b[0m0.005717 \u001b[0m | \u001b[0m10.59    \u001b[0m | \u001b[0m4.57     \u001b[0m | \u001b[0m8.864e-05\u001b[0m | \u001b[0m0.7876   \u001b[0m | \u001b[0m3.695    \u001b[0m | \u001b[0m130.3    \u001b[0m |\n",
      "=============================================================================================================\n"
     ]
    },
    {
     "name": "stderr",
     "output_type": "stream",
     "text": [
      "\n"
     ]
    }
   ],
   "source": [
    "from bayes_opt import BayesianOptimization\n",
    "import random\n",
    "\n",
    "def testDefault(**params):\n",
    "    esn = (NVAR(delay=int(params['delay']), order=int(params['order']), strides=int(params['strides'])) >> Reservoir(units=int(params['units']), sr=params['sr'], rc_connectivity=params['con'])) >> Ridge(output_dim=1, ridge=params['ridge'])\n",
    "    trainX, trainY, testX, testY = getData()\n",
    "\n",
    "    esn.fit(trainX, trainY, warmup=1000)\n",
    "\n",
    "    esn2 = (NVAR(delay=int(params['delay']), order=int(params['order']), strides=int(params['strides'])) >> Reservoir(units=int(params['units']), sr=params['sr'], rc_connectivity=params['con'])) >> Ridge(output_dim=1, ridge=params['ridge'])\n",
    "    esnPreds = copy.deepcopy(esn).run(trainX)\n",
    "    esn2.fit(esnPreds, trainY, warmup=1000)\n",
    "\n",
    "    preds1 = esn.run(testX)\n",
    "    preds2 = esn2.run(preds1)\n",
    "\n",
    "    return 1/nrmse(testY, preds2)\n",
    "\n",
    "pbounds = {'delay': (2, 16), 'order': (1, 10), 'strides': (2, 10), 'units': (50, 200), 'sr': (0.1, 1.2), 'con': (0.001, 0.02), 'ridge': (1e-6, 1e-4)}\n",
    "\n",
    "optimizer = BayesianOptimization(\n",
    "    f=testDefault,\n",
    "    pbounds=pbounds,\n",
    "    random_state=1,\n",
    ")\n",
    "\n",
    "optimizer.maximize(\n",
    "    init_points=20,\n",
    "    n_iter=25,\n",
    ")"
   ]
  },
  {
   "cell_type": "code",
   "execution_count": 40,
   "metadata": {},
   "outputs": [
    {
     "data": {
      "text/plain": [
       "0.16941265512973996"
      ]
     },
     "execution_count": 40,
     "metadata": {},
     "output_type": "execute_result"
    }
   ],
   "source": [
    "1/optimizer.max['target']"
   ]
  }
 ],
 "metadata": {
  "kernelspec": {
   "display_name": "venv",
   "language": "python",
   "name": "python3"
  },
  "language_info": {
   "codemirror_mode": {
    "name": "ipython",
    "version": 3
   },
   "file_extension": ".py",
   "mimetype": "text/x-python",
   "name": "python",
   "nbconvert_exporter": "python",
   "pygments_lexer": "ipython3",
   "version": "3.9.0"
  },
  "orig_nbformat": 4
 },
 "nbformat": 4,
 "nbformat_minor": 2
}
