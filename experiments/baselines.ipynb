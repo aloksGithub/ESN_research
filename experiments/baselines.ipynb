{
 "cells": [
  {
   "attachments": {},
   "cell_type": "markdown",
   "metadata": {},
   "source": [
    "## Baseline experiments eith ESN"
   ]
  },
  {
   "cell_type": "code",
   "execution_count": 8,
   "metadata": {},
   "outputs": [
    {
     "name": "stderr",
     "output_type": "stream",
     "text": [
      "Running Model-71: 2000it [00:00, 22699.21it/s]         \n",
      "Running Model-71: 100%|██████████| 1/1 [00:00<00:00, 10.83it/s]\n"
     ]
    },
    {
     "name": "stdout",
     "output_type": "stream",
     "text": [
      "Fitting node Ridge-45...\n"
     ]
    },
    {
     "name": "stderr",
     "output_type": "stream",
     "text": [
      "Running Model-71: 999it [00:00, 23793.25it/s]          \n",
      "Running Model-72: 100%|██████████| 1/1 [00:00<?, ?it/s]\n"
     ]
    },
    {
     "name": "stdout",
     "output_type": "stream",
     "text": [
      "Fitting node IPReservoir-15...\n"
     ]
    },
    {
     "name": "stderr",
     "output_type": "stream",
     "text": [
      "Running Model-72: 2000it [00:00, 22203.60it/s]         \n",
      "Running Model-72: 100%|██████████| 1/1 [00:00<00:00, 10.57it/s]\n"
     ]
    },
    {
     "name": "stdout",
     "output_type": "stream",
     "text": [
      "Fitting node Ridge-46...\n"
     ]
    },
    {
     "name": "stderr",
     "output_type": "stream",
     "text": [
      "Running Model-72: 999it [00:00, 21697.37it/s]          \n",
      "Running Model-73: 999it [00:00, 23945.54it/s]          \n",
      "Running Model-74: 999it [00:00, 23474.14it/s]          \n",
      "Running Model-75: 2000it [00:00, 28605.26it/s]         \n",
      "Running Model-75: 100%|██████████| 1/1 [00:00<00:00, 13.71it/s]\n"
     ]
    },
    {
     "name": "stdout",
     "output_type": "stream",
     "text": [
      "Fitting node Ridge-47...\n"
     ]
    },
    {
     "name": "stderr",
     "output_type": "stream",
     "text": [
      "Running Model-75: 999it [00:00, 29778.76it/s]          \n",
      "Running Model-76: 2000it [00:00, 23364.77it/s]         \n",
      "Running Model-76: 100%|██████████| 1/1 [00:00<00:00, 11.16it/s]"
     ]
    },
    {
     "name": "stdout",
     "output_type": "stream",
     "text": [
      "Fitting node Ridge-48...\n"
     ]
    },
    {
     "name": "stderr",
     "output_type": "stream",
     "text": [
      "\n",
      "Running Model-76: 999it [00:00, 24139.77it/s]          \n",
      "Running Model-77: 100%|██████████| 1/1 [00:00<?, ?it/s]\n"
     ]
    },
    {
     "name": "stdout",
     "output_type": "stream",
     "text": [
      "Fitting node IPReservoir-16...\n"
     ]
    },
    {
     "name": "stderr",
     "output_type": "stream",
     "text": [
      "Running Model-77: 2000it [00:00, 21936.56it/s]         \n",
      "Running Model-77: 100%|██████████| 1/1 [00:00<00:00, 10.62it/s]\n"
     ]
    },
    {
     "name": "stdout",
     "output_type": "stream",
     "text": [
      "Fitting node Ridge-49...\n"
     ]
    },
    {
     "name": "stderr",
     "output_type": "stream",
     "text": [
      "Running Model-77: 999it [00:00, 21760.81it/s]          \n",
      "Running Model-78: 999it [00:00, 24633.79it/s]          \n",
      "Running Model-79: 999it [00:00, 24339.03it/s]          \n",
      "Running Model-80: 2000it [00:00, 29592.16it/s]         \n",
      "Running Model-80: 100%|██████████| 1/1 [00:00<00:00, 14.37it/s]\n"
     ]
    },
    {
     "name": "stdout",
     "output_type": "stream",
     "text": [
      "Fitting node Ridge-50...\n"
     ]
    },
    {
     "name": "stderr",
     "output_type": "stream",
     "text": [
      "Running Model-80: 999it [00:00, 30909.86it/s]          \n",
      "Running Model-81: 2000it [00:00, 23837.23it/s]         \n",
      "Running Model-81: 100%|██████████| 1/1 [00:00<00:00, 11.44it/s]\n"
     ]
    },
    {
     "name": "stdout",
     "output_type": "stream",
     "text": [
      "Fitting node Ridge-51...\n"
     ]
    },
    {
     "name": "stderr",
     "output_type": "stream",
     "text": [
      "Running Model-81: 999it [00:00, 24422.30it/s]          \n",
      "Running Model-82: 100%|██████████| 1/1 [00:00<?, ?it/s]\n"
     ]
    },
    {
     "name": "stdout",
     "output_type": "stream",
     "text": [
      "Fitting node IPReservoir-17...\n"
     ]
    },
    {
     "name": "stderr",
     "output_type": "stream",
     "text": [
      "Running Model-82: 2000it [00:00, 21756.49it/s]         \n",
      "Running Model-82: 100%|██████████| 1/1 [00:00<00:00, 10.53it/s]\n"
     ]
    },
    {
     "name": "stdout",
     "output_type": "stream",
     "text": [
      "Fitting node Ridge-52...\n"
     ]
    },
    {
     "name": "stderr",
     "output_type": "stream",
     "text": [
      "Running Model-82: 999it [00:00, 22849.08it/s]          \n",
      "Running Model-83: 999it [00:00, 24701.32it/s]          \n",
      "Running Model-84: 999it [00:00, 24637.41it/s]          \n",
      "Running Model-85: 2000it [00:00, 29098.92it/s]         \n",
      "Running Model-85: 100%|██████████| 1/1 [00:00<00:00, 13.94it/s]\n"
     ]
    },
    {
     "name": "stdout",
     "output_type": "stream",
     "text": [
      "Fitting node Ridge-53...\n"
     ]
    },
    {
     "name": "stderr",
     "output_type": "stream",
     "text": [
      "Running Model-85: 999it [00:00, 29499.09it/s]          "
     ]
    },
    {
     "name": "stdout",
     "output_type": "stream",
     "text": [
      "Dataset - Model                 RMSE          R^2        NRMSE            MSE\n",
      "-----------------------  -----------  -----------  -----------  -------------\n",
      "lorenz - ESN              3.08154     0.955544     0.0460173      9.49587\n",
      "lorenz - ESN-IP           0.251773    0.999703     0.00375978     0.0633896\n",
      "lorenz - ESN-LMS         15.4481      0.064812     0.230689     238.642\n",
      "lorenz - ESN-RLS          1.46785     0.989905     0.0219197      2.15457\n",
      "lorenz - NVAR-ESN         0.00717963  1            0.000107215    5.15471e-05\n",
      "mackey_glass - ESN        0.00248862  0.999883     0.0027104      6.19321e-06\n",
      "mackey_glass - ESN-IP     0.029596    0.983494     0.0322336      0.000875921\n",
      "mackey_glass - ESN-LMS    0.908097    0.000839027  0.989028       0.824639\n",
      "mackey_glass - ESN-RLS    0.0059568   0.999331     0.00648768     3.54835e-05\n",
      "mackey_glass - NVAR-ESN   0.00118134  0.999974     0.00128662     1.39557e-06\n",
      "narma - ESN               0.0832699   0.175889     0.176861       0.00693388\n",
      "narma - ESN-IP            0.0830667   0.178536     0.176429       0.00690007\n",
      "narma - ESN-LMS           0.176841    1.81105e-05  0.375601       0.0312728\n",
      "narma - ESN-RLS           0.0852957   0.135727     0.181163       0.00727535\n",
      "narma - NVAR-ESN          0.0847381   0.146947     0.179979       0.00718055\n"
     ]
    },
    {
     "name": "stderr",
     "output_type": "stream",
     "text": [
      "\n"
     ]
    }
   ],
   "source": [
    "from tabulate import tabulate\n",
    "from reservoirpy.nodes import (Reservoir, IPReservoir, NVAR, LMS, RLS, Ridge)\n",
    "from reservoirpy.datasets import (lorenz, mackey_glass, narma)\n",
    "from reservoirpy.observables import (rmse, rsquare, nrmse, mse)\n",
    "\n",
    "# Define basic parameters\n",
    "units = 100\n",
    "lr = 0.3\n",
    "sr = 1.25\n",
    "ridge = 1e-5\n",
    "delay = 5\n",
    "order = 2\n",
    "strides = 1\n",
    "\n",
    "# Datasets\n",
    "datasets = {\n",
    "    'lorenz': lorenz(n_timesteps=3000),\n",
    "    'mackey_glass': mackey_glass(n_timesteps=3000),\n",
    "    'narma': narma(n_timesteps=3000)\n",
    "}\n",
    "\n",
    "results = {}\n",
    "\n",
    "# Evaluation\n",
    "for dataset_name, dataset in datasets.items():\n",
    "    if dataset_name == 'lorenz':\n",
    "        output_dim = 3\n",
    "    else:\n",
    "        output_dim = 1\n",
    "\n",
    "    # Models\n",
    "    models = {\n",
    "        'ESN': (Reservoir(units=units, lr=lr, sr=sr), Ridge(output_dim=output_dim, ridge=ridge)),\n",
    "        'ESN-IP': (IPReservoir(units=units, lr=lr, sr=sr), Ridge(output_dim=output_dim, ridge=ridge)),\n",
    "        'ESN-LMS': (Reservoir(units=units, lr=lr, sr=sr), LMS(output_dim=output_dim)),\n",
    "        'ESN-RLS': (Reservoir(units=units, lr=lr, sr=sr), RLS(output_dim=output_dim)),\n",
    "        'NVAR-ESN': (NVAR(delay=delay, order=order, strides=strides), Ridge(output_dim=output_dim, ridge=ridge))\n",
    "    }\n",
    "\n",
    "    X = dataset[:-1]\n",
    "    y_true = dataset[1:]\n",
    "\n",
    "    X_train = X[:2000]\n",
    "    X_test = X[2000:]\n",
    "    y_train = y_true[:2000]\n",
    "    y_test = y_true[2000:]\n",
    "\n",
    "    for model_name, (reservoir, readout) in models.items():\n",
    "        esn = reservoir >> readout\n",
    "\n",
    "        if isinstance(readout, (LMS, RLS)):\n",
    "            esn.train(X_train, y_train)\n",
    "        else:\n",
    "            esn.fit(X_train, y_train)\n",
    "\n",
    "        y_pred = esn.run(X_test)\n",
    "\n",
    "        mse_val = mse(y_test, y_pred)\n",
    "        rmse_val = rmse(y_test, y_pred)\n",
    "        rsquare_val = rsquare(y_test, y_pred)\n",
    "        nrmse_val = nrmse(y_test, y_pred)\n",
    "        \n",
    "        results[f\"{dataset_name} - {model_name}\"] = {\n",
    "            \"RMSE\": rmse_val,\n",
    "            \"R^2\": rsquare_val,\n",
    "            \"NRMSE\": nrmse_val,\n",
    "            \"MSE\": mse_val\n",
    "        }\n",
    "\n",
    "# Prepare data for the table\n",
    "table_data = []\n",
    "headers = [\"Dataset - Model\", \"RMSE\", \"R^2\", \"NRMSE\", \"MSE\"]\n",
    "\n",
    "for result_key, result_values in results.items():\n",
    "    row = [result_key]\n",
    "    for metric in headers[1:]:\n",
    "        row.append(result_values[metric])\n",
    "    table_data.append(row)\n",
    "\n",
    "# Print the table\n",
    "print(tabulate(table_data, headers=headers))\n"
   ]
  }
 ],
 "metadata": {
  "kernelspec": {
   "display_name": "venv",
   "language": "python",
   "name": "python3"
  },
  "language_info": {
   "codemirror_mode": {
    "name": "ipython",
    "version": 3
   },
   "file_extension": ".py",
   "mimetype": "text/x-python",
   "name": "python",
   "nbconvert_exporter": "python",
   "pygments_lexer": "ipython3",
   "version": "3.9.0"
  },
  "orig_nbformat": 4
 },
 "nbformat": 4,
 "nbformat_minor": 2
}
