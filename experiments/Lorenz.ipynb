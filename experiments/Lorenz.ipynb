{
 "cells": [
  {
   "cell_type": "code",
   "execution_count": 1,
   "metadata": {},
   "outputs": [],
   "source": [
    "from tabulate import tabulate\n",
    "from reservoirpy.nodes import (Reservoir, IPReservoir, NVAR, LMS, RLS, Ridge, ESN, Input)\n",
    "from reservoirpy.datasets import (lorenz, mackey_glass, narma)\n",
    "from reservoirpy.observables import (rmse, rsquare, nrmse, mse)\n",
    "import numpy as np\n",
    "import copy\n",
    "import math\n",
    "import matplotlib.pyplot as plt\n",
    "from numpy import linalg as LA"
   ]
  },
  {
   "attachments": {},
   "cell_type": "markdown",
   "metadata": {},
   "source": [
    "Following the same setup as \"Growing Echo-State Network With Multiple Subreservoirs\""
   ]
  },
  {
   "cell_type": "code",
   "execution_count": 2,
   "metadata": {},
   "outputs": [],
   "source": [
    "def getData():\n",
    "    data = np.expand_dims(np.array(lorenz(n_timesteps=8000))[:, 0], 1)\n",
    "    train = data[:5600]\n",
    "    test = data[5600:]\n",
    "    trainX = train[:-1]\n",
    "    trainY = train[1:]\n",
    "    testX = test[:-1]\n",
    "    testY = test[1:]\n",
    "    return trainX, trainY, testX, testY"
   ]
  },
  {
   "cell_type": "code",
   "execution_count": 4,
   "metadata": {},
   "outputs": [
    {
     "name": "stderr",
     "output_type": "stream",
     "text": [
      "Running Model-2: 5599it [00:00, 20415.75it/s]?, ?it/s]\n",
      "Running Model-2: 100%|██████████| 1/1 [00:00<00:00,  3.57it/s]\n"
     ]
    },
    {
     "name": "stdout",
     "output_type": "stream",
     "text": [
      "Fitting node Ridge-2...\n"
     ]
    },
    {
     "name": "stderr",
     "output_type": "stream",
     "text": [
      "Running Model-2: 2399it [00:00, 20640.53it/s]         \n",
      "Running Model-3: 5599it [00:00, 20186.50it/s]?, ?it/s]\n",
      "Running Model-3: 100%|██████████| 1/1 [00:00<00:00,  3.55it/s]\n"
     ]
    },
    {
     "name": "stdout",
     "output_type": "stream",
     "text": [
      "Fitting node Ridge-3...\n"
     ]
    },
    {
     "name": "stderr",
     "output_type": "stream",
     "text": [
      "Running Model-3: 5599it [00:00, 21915.73it/s]         \n",
      "Running Model-4: 5599it [00:00, 20413.88it/s]?, ?it/s]\n",
      "Running Model-4: 100%|██████████| 1/1 [00:00<00:00,  3.59it/s]\n"
     ]
    },
    {
     "name": "stdout",
     "output_type": "stream",
     "text": [
      "Fitting node Ridge-4...\n"
     ]
    },
    {
     "name": "stderr",
     "output_type": "stream",
     "text": [
      "Running Model-3: 2399it [00:00, 20778.20it/s]         \n",
      "Running Model-4: 2399it [00:00, 21865.84it/s]         \n",
      "Running Model-8: 5599it [00:00, 9815.27it/s]<?, ?it/s]\n",
      "Running Model-8: 100%|██████████| 1/1 [00:00<00:00,  1.73it/s]\n"
     ]
    },
    {
     "name": "stdout",
     "output_type": "stream",
     "text": [
      "Fitting node Ridge-5...\n"
     ]
    },
    {
     "name": "stderr",
     "output_type": "stream",
     "text": [
      "Running Model-8: 2399it [00:00, 11314.35it/s]         \n",
      "Running Model-10: 5599it [00:00, 11384.41it/s]?, ?it/s]\n",
      "Running Model-10: 100%|██████████| 1/1 [00:00<00:00,  2.02it/s]\n"
     ]
    },
    {
     "name": "stdout",
     "output_type": "stream",
     "text": [
      "Fitting node Ridge-6...\n"
     ]
    },
    {
     "name": "stderr",
     "output_type": "stream",
     "text": [
      "Running Model-10: 5599it [00:00, 12386.62it/s]         \n",
      "Running Model-12: 5599it [00:00, 10882.19it/s]?, ?it/s]\n",
      "Running Model-12: 100%|██████████| 1/1 [00:00<00:00,  1.93it/s]\n"
     ]
    },
    {
     "name": "stdout",
     "output_type": "stream",
     "text": [
      "Fitting node Ridge-7...\n"
     ]
    },
    {
     "name": "stderr",
     "output_type": "stream",
     "text": [
      "Running Model-10: 2399it [00:00, 12063.96it/s]         \n",
      "Running Model-12: 2399it [00:00, 12701.80it/s]         \n",
      "Running Model-14: 5599it [00:00, 10932.73it/s]?, ?it/s]\n",
      "Running Model-14: 100%|██████████| 1/1 [00:00<00:00,  1.93it/s]\n"
     ]
    },
    {
     "name": "stdout",
     "output_type": "stream",
     "text": [
      "Fitting node Ridge-8...\n"
     ]
    },
    {
     "name": "stderr",
     "output_type": "stream",
     "text": [
      "Running Model-14: 5599it [00:00, 12134.23it/s]         \n",
      "Running Model-16: 5599it [00:00, 10969.48it/s]?, ?it/s]\n",
      "Running Model-16: 100%|██████████| 1/1 [00:00<00:00,  1.94it/s]\n"
     ]
    },
    {
     "name": "stdout",
     "output_type": "stream",
     "text": [
      "Fitting node Ridge-9...\n"
     ]
    },
    {
     "name": "stderr",
     "output_type": "stream",
     "text": [
      "Running Model-14: 2399it [00:00, 12358.42it/s]         \n",
      "Running Model-16: 2399it [00:00, 12318.08it/s]         \n",
      "Running Model-17: 5599it [00:00, 20584.82it/s]?, ?it/s]\n",
      "Running Model-17: 100%|██████████| 1/1 [00:00<00:00,  3.62it/s]\n"
     ]
    },
    {
     "name": "stdout",
     "output_type": "stream",
     "text": [
      "Fitting node Ridge-10...\n"
     ]
    },
    {
     "name": "stderr",
     "output_type": "stream",
     "text": [
      "Running Model-17: 5599it [00:00, 21568.12it/s]         \n",
      "Running Model-18: 5599it [00:00, 20045.33it/s]?, ?it/s]\n",
      "Running Model-18: 100%|██████████| 1/1 [00:00<00:00,  3.52it/s]\n"
     ]
    },
    {
     "name": "stdout",
     "output_type": "stream",
     "text": [
      "Fitting node Ridge-11...\n"
     ]
    },
    {
     "name": "stderr",
     "output_type": "stream",
     "text": [
      "Running Model-17: 2399it [00:00, 21526.00it/s]         \n",
      "Running Model-18: 2399it [00:00, 21086.09it/s]         \n",
      "Running Model-20: 5599it [00:00, 11618.29it/s]?, ?it/s]\n",
      "Running Model-20: 100%|██████████| 1/1 [00:00<00:00,  2.05it/s]\n"
     ]
    },
    {
     "name": "stdout",
     "output_type": "stream",
     "text": [
      "Fitting node Ridge-12...\n"
     ]
    },
    {
     "name": "stderr",
     "output_type": "stream",
     "text": [
      "Running Model-20: 5599it [00:00, 12639.94it/s]         \n",
      "Running Model-22: 5599it [00:00, 11573.48it/s]?, ?it/s]\n",
      "Running Model-22: 100%|██████████| 1/1 [00:00<00:00,  2.05it/s]\n"
     ]
    },
    {
     "name": "stdout",
     "output_type": "stream",
     "text": [
      "Fitting node Ridge-13...\n"
     ]
    },
    {
     "name": "stderr",
     "output_type": "stream",
     "text": [
      "Running Model-20: 2399it [00:00, 12249.21it/s]         \n",
      "Running Model-22: 2399it [00:00, 12796.24it/s]         \n",
      "Running Model-23: 5599it [00:00, 26057.68it/s]?, ?it/s]\n",
      "Running Model-23: 100%|██████████| 1/1 [00:00<00:00,  4.56it/s]\n"
     ]
    },
    {
     "name": "stdout",
     "output_type": "stream",
     "text": [
      "Fitting node Ridge-14...\n"
     ]
    },
    {
     "name": "stderr",
     "output_type": "stream",
     "text": [
      "Running Model-23: 2399it [00:00, 26690.08it/s]         "
     ]
    },
    {
     "name": "stdout",
     "output_type": "stream",
     "text": [
      "==================Lorenz NRMSE==================\n",
      "Normal training error: 0.10552245269443629\n",
      "NVAR training error: 0.000155199556840157\n",
      "Cascading ESN error: 0.10404548288972969\n",
      "Deep ESN error: 0.0724038265960128\n",
      "Deep + cascade error: 0.09863333966967663\n",
      "Deep + cascade + NVAR error: 0.045699767354320416\n",
      "Error cascade error: 0.0964124374546007\n",
      "Deep error cascade error: 0.0856291986784707\n"
     ]
    },
    {
     "name": "stderr",
     "output_type": "stream",
     "text": [
      "\n"
     ]
    }
   ],
   "source": [
    "def testDefault():\n",
    "    esn = Reservoir(units=100, sr=0.8, rc_connectivity=0.01, noise_in=1e-10) >> Ridge(output_dim=1, ridge=1e-5)\n",
    "    trainX, trainY, testX, testY = getData()\n",
    "\n",
    "    esn.fit(trainX, trainY, warmup=1000)\n",
    "    preds = esn.run(testX)\n",
    "    return nrmse(testY, preds)\n",
    "\n",
    "def testDeep():\n",
    "    reservoir1 = Reservoir(units=100, sr=0.8, rc_connectivity=0.01, noise_in=1e-10)\n",
    "    reservoir2 = Reservoir(units=100, sr=0.8, rc_connectivity=0.01, noise_in=1e-10)\n",
    "    readout = Ridge(output_dim=1, ridge=1e-5)\n",
    "    esn = reservoir1>>reservoir2>>readout & reservoir1>>readout\n",
    "    trainX, trainY, testX, testY = getData()\n",
    "\n",
    "    esn.fit(trainX, trainY, warmup=1000)\n",
    "    preds = esn.run(testX)\n",
    "    return nrmse(testY, preds)\n",
    "\n",
    "def testDeepCascade():\n",
    "    esn = (Reservoir(units=100, sr=0.8, rc_connectivity=0.01, noise_in=1e-10) >> Reservoir(units=100, sr=0.8, rc_connectivity=0.01, noise_in=1e-10)) >> Ridge(output_dim=1, ridge=1e-5)\n",
    "    trainX, trainY, testX, testY = getData()\n",
    "\n",
    "    esn.fit(trainX, trainY, warmup=1000)\n",
    "\n",
    "    esn2 = (Reservoir(units=100, sr=0.8, rc_connectivity=0.01, noise_in=1e-10) >> Reservoir(units=100, sr=0.8, rc_connectivity=0.01, noise_in=1e-10)) >> Ridge(output_dim=1, ridge=1e-5)\n",
    "    esnPreds = copy.deepcopy(esn).run(trainX)\n",
    "    esn2.fit(esnPreds, trainY, warmup=1000)\n",
    "\n",
    "    preds1 = esn.run(testX)\n",
    "    preds2 = esn2.run(preds1)\n",
    "    return nrmse(testY, preds2)\n",
    "\n",
    "def testCascade():\n",
    "    esn = Reservoir(units=100, sr=0.8, rc_connectivity=0.01, noise_in=1e-10) >> Ridge(output_dim=1, ridge=1e-5)\n",
    "    trainX, trainY, testX, testY = getData()\n",
    "\n",
    "    esn.fit(trainX, trainY, warmup=1000)\n",
    "\n",
    "    esn2 = Reservoir(units=100, sr=0.8, rc_connectivity=0.01, noise_in=1e-10) >> Ridge(output_dim=1, ridge=1e-5)\n",
    "    esnPreds = copy.deepcopy(esn).run(trainX)\n",
    "    esn2.fit(esnPreds, trainY, warmup=1000)\n",
    "\n",
    "    preds1 = esn.run(testX)\n",
    "    preds2 = esn2.run(preds1)\n",
    "    return nrmse(testY, preds2)\n",
    "\n",
    "def testErrorCascade():\n",
    "    esn = Reservoir(units=100, sr=0.8, rc_connectivity=0.01, noise_in=1e-10) >> Ridge(output_dim=1, ridge=1e-5)\n",
    "    trainX, trainY, testX, testY = getData()\n",
    "\n",
    "    esn.fit(trainX, trainY, warmup=1000)\n",
    "\n",
    "    esn2 = Reservoir(units=100, sr=0.8, rc_connectivity=0.01, noise_in=1e-10) >> Ridge(output_dim=1, ridge=1e-5)\n",
    "    esnPreds = copy.deepcopy(esn).run(trainX)\n",
    "    errors = esnPreds - trainY\n",
    "    esn2.fit(esnPreds, errors, warmup=1000)\n",
    "\n",
    "    preds1 = esn.run(testX)\n",
    "    predictedErrors = esn2.run(preds1)\n",
    "    preds = preds1 - predictedErrors\n",
    "    return nrmse(testY, preds)\n",
    "\n",
    "def testDeepErrorCascade():\n",
    "    esn = (Reservoir(units=100, sr=0.8, rc_connectivity=0.01, noise_in=1e-10) >> Reservoir(units=100, sr=0.8, rc_connectivity=0.01, noise_in=1e-10)) >> Ridge(output_dim=1, ridge=1e-5)\n",
    "    trainX, trainY, testX, testY = getData()\n",
    "\n",
    "    esn.fit(trainX, trainY, warmup=1000)\n",
    "\n",
    "    esn2 = (Reservoir(units=100, sr=0.8, rc_connectivity=0.01, noise_in=1e-10) >> Reservoir(units=100, sr=0.8, rc_connectivity=0.01, noise_in=1e-10)) >> Ridge(output_dim=1, ridge=1e-5)\n",
    "    esnPreds = copy.deepcopy(esn).run(trainX)\n",
    "    errors = esnPreds - trainY\n",
    "    esn2.fit(esnPreds, errors, warmup=1000)\n",
    "\n",
    "    preds1 = esn.run(testX)\n",
    "    predictedErrors = esn2.run(preds1)\n",
    "    preds = preds1 - predictedErrors\n",
    "    return nrmse(testY, preds)\n",
    "\n",
    "def testNVAR():\n",
    "    esn = NVAR(delay=8, order=3, strides=4) >> Ridge(output_dim=1, ridge=1e-5)\n",
    "    trainX, trainY, testX, testY = getData()\n",
    "\n",
    "    esn.fit(trainX, trainY, warmup=1000)\n",
    "    preds = esn.run(testX)\n",
    "    return nrmse(testY, preds)\n",
    "\n",
    "\n",
    "\n",
    "def testDeepCascadeNVAR():\n",
    "    esn = (NVAR(delay=8, order=3, strides=4) >> Reservoir(units=100, sr=0.8, rc_connectivity=0.01, noise_in=1e-10)) >> Ridge(output_dim=1, ridge=1e-5)\n",
    "    trainX, trainY, testX, testY = getData()\n",
    "\n",
    "    esn.fit(trainX, trainY, warmup=1000)\n",
    "\n",
    "    esn2 = (NVAR(delay=8, order=3, strides=4) >> Reservoir(units=100, sr=0.8, rc_connectivity=0.01, noise_in=1e-10)) >> Ridge(output_dim=1, ridge=1e-5)\n",
    "    esnPreds = copy.deepcopy(esn).run(trainX)\n",
    "    esn2.fit(esnPreds, trainY, warmup=1000)\n",
    "\n",
    "    preds1 = esn.run(testX)\n",
    "    preds2 = esn2.run(preds1)\n",
    "    return nrmse(testY, preds2)\n",
    "\n",
    "error1 = testDefault()\n",
    "error2 = testCascade()\n",
    "error4 = testDeep()\n",
    "error5 = testDeepCascade()\n",
    "error6 = testDeepCascadeNVAR()\n",
    "error7 = testErrorCascade()\n",
    "error8 = testDeepErrorCascade()\n",
    "error9 = testNVAR()\n",
    "print(\"==================Lorenz NRMSE==================\")\n",
    "print('Normal training error:', error1)\n",
    "print('NVAR training error:', error9)\n",
    "print('Cascading ESN error:', error2)\n",
    "print('Deep ESN error:', error4)\n",
    "print('Deep + cascade error:', error5)\n",
    "print('Deep + cascade + NVAR error:', error6)\n",
    "print('Error cascade error:', error7)\n",
    "print('Deep error cascade error:', error8)"
   ]
  },
  {
   "cell_type": "code",
   "execution_count": 31,
   "metadata": {},
   "outputs": [
    {
     "name": "stdout",
     "output_type": "stream",
     "text": [
      "|   iter    |  target   |   ridge   |    sr     |   units   |\n",
      "-------------------------------------------------------------\n"
     ]
    },
    {
     "name": "stderr",
     "output_type": "stream",
     "text": [
      "Running Model-688: 5499it [00:00, 8886.85it/s]<?, ?it/s]\n",
      "Running Model-688: 100%|██████████| 1/1 [00:00<00:00,  1.60it/s]\n"
     ]
    },
    {
     "name": "stdout",
     "output_type": "stream",
     "text": [
      "Fitting node Ridge-154...\n"
     ]
    },
    {
     "name": "stderr",
     "output_type": "stream",
     "text": [
      "Running Model-688: 2299it [00:00, 10824.82it/s]         \n"
     ]
    },
    {
     "name": "stdout",
     "output_type": "stream",
     "text": [
      "| \u001b[0m1        \u001b[0m | \u001b[0m0.03581  \u001b[0m | \u001b[0m4.229e-05\u001b[0m | \u001b[0m0.8924   \u001b[0m | \u001b[0m100.1    \u001b[0m |\n"
     ]
    },
    {
     "name": "stderr",
     "output_type": "stream",
     "text": [
      "Running Model-693: 5499it [00:00, 8462.70it/s]<?, ?it/s]\n",
      "Running Model-693: 100%|██████████| 1/1 [00:00<00:00,  1.52it/s]\n"
     ]
    },
    {
     "name": "stdout",
     "output_type": "stream",
     "text": [
      "Fitting node Ridge-155...\n"
     ]
    },
    {
     "name": "stderr",
     "output_type": "stream",
     "text": [
      "Running Model-693: 2299it [00:00, 10388.04it/s]         \n"
     ]
    },
    {
     "name": "stdout",
     "output_type": "stream",
     "text": [
      "| \u001b[95m2        \u001b[0m | \u001b[95m5.013    \u001b[0m | \u001b[95m3.093e-05\u001b[0m | \u001b[95m0.2614   \u001b[0m | \u001b[95m183.1    \u001b[0m |\n"
     ]
    },
    {
     "name": "stderr",
     "output_type": "stream",
     "text": [
      "Running Model-698: 5499it [00:00, 7149.49it/s]<?, ?it/s]\n",
      "Running Model-698: 100%|██████████| 1/1 [00:00<00:00,  1.25it/s]\n"
     ]
    },
    {
     "name": "stdout",
     "output_type": "stream",
     "text": [
      "Fitting node Ridge-156...\n"
     ]
    },
    {
     "name": "stderr",
     "output_type": "stream",
     "text": [
      "Running Model-698: 2299it [00:00, 8355.70it/s]          \n"
     ]
    },
    {
     "name": "stdout",
     "output_type": "stream",
     "text": [
      "| \u001b[95m3        \u001b[0m | \u001b[95m5.574    \u001b[0m | \u001b[95m1.944e-05\u001b[0m | \u001b[95m0.4801   \u001b[0m | \u001b[95m457.1    \u001b[0m |\n"
     ]
    },
    {
     "name": "stderr",
     "output_type": "stream",
     "text": [
      "Running Model-703: 5499it [00:00, 5671.46it/s]<?, ?it/s]\n",
      "Running Model-703: 100%|██████████| 1/1 [00:01<00:00,  1.02s/it]\n"
     ]
    },
    {
     "name": "stdout",
     "output_type": "stream",
     "text": [
      "Fitting node Ridge-157...\n"
     ]
    },
    {
     "name": "stderr",
     "output_type": "stream",
     "text": [
      "Running Model-703: 2299it [00:00, 6547.87it/s]          \n"
     ]
    },
    {
     "name": "stdout",
     "output_type": "stream",
     "text": [
      "| \u001b[95m4        \u001b[0m | \u001b[95m5.575    \u001b[0m | \u001b[95m5.434e-05\u001b[0m | \u001b[95m0.5611   \u001b[0m | \u001b[95m716.7    \u001b[0m |\n"
     ]
    },
    {
     "name": "stderr",
     "output_type": "stream",
     "text": [
      "Running Model-708: 5499it [00:00, 8838.46it/s]<?, ?it/s]\n",
      "Running Model-708: 100%|██████████| 1/1 [00:00<00:00,  1.59it/s]\n"
     ]
    },
    {
     "name": "stdout",
     "output_type": "stream",
     "text": [
      "Fitting node Ridge-158...\n"
     ]
    },
    {
     "name": "stderr",
     "output_type": "stream",
     "text": [
      "Running Model-708: 2299it [00:00, 10865.39it/s]         \n"
     ]
    },
    {
     "name": "stdout",
     "output_type": "stream",
     "text": [
      "| \u001b[95m5        \u001b[0m | \u001b[95m5.65     \u001b[0m | \u001b[95m2.124e-05\u001b[0m | \u001b[95m1.066    \u001b[0m | \u001b[95m124.6    \u001b[0m |\n"
     ]
    },
    {
     "name": "stderr",
     "output_type": "stream",
     "text": [
      "Running Model-713: 5499it [00:00, 6373.51it/s]<?, ?it/s]\n",
      "Running Model-713: 100%|██████████| 1/1 [00:00<00:00,  1.11it/s]\n"
     ]
    },
    {
     "name": "stdout",
     "output_type": "stream",
     "text": [
      "Fitting node Ridge-159...\n"
     ]
    },
    {
     "name": "stderr",
     "output_type": "stream",
     "text": [
      "Running Model-713: 2299it [00:00, 7240.20it/s]          \n"
     ]
    },
    {
     "name": "stdout",
     "output_type": "stream",
     "text": [
      "| \u001b[0m6        \u001b[0m | \u001b[0m5.586    \u001b[0m | \u001b[0m6.738e-05\u001b[0m | \u001b[0m0.559    \u001b[0m | \u001b[0m602.8    \u001b[0m |\n"
     ]
    },
    {
     "name": "stderr",
     "output_type": "stream",
     "text": [
      "Running Model-718: 5499it [00:01, 5141.88it/s]<?, ?it/s]\n",
      "Running Model-718: 100%|██████████| 1/1 [00:01<00:00,  1.13s/it]\n"
     ]
    },
    {
     "name": "stdout",
     "output_type": "stream",
     "text": [
      "Fitting node Ridge-160...\n"
     ]
    },
    {
     "name": "stderr",
     "output_type": "stream",
     "text": [
      "Running Model-718: 2299it [00:00, 5837.27it/s]          \n"
     ]
    },
    {
     "name": "stdout",
     "output_type": "stream",
     "text": [
      "| \u001b[0m7        \u001b[0m | \u001b[0m5.07     \u001b[0m | \u001b[0m1.49e-05 \u001b[0m | \u001b[0m0.3179   \u001b[0m | \u001b[0m820.7    \u001b[0m |\n"
     ]
    },
    {
     "name": "stderr",
     "output_type": "stream",
     "text": [
      "Running Model-723: 5499it [00:00, 5574.83it/s]<?, ?it/s]\n",
      "Running Model-723: 100%|██████████| 1/1 [00:01<00:00,  1.04s/it]\n"
     ]
    },
    {
     "name": "stdout",
     "output_type": "stream",
     "text": [
      "Fitting node Ridge-161...\n"
     ]
    },
    {
     "name": "stderr",
     "output_type": "stream",
     "text": [
      "Running Model-723: 2299it [00:00, 6428.50it/s]          \n"
     ]
    },
    {
     "name": "stdout",
     "output_type": "stream",
     "text": [
      "| \u001b[0m8        \u001b[0m | \u001b[0m5.423    \u001b[0m | \u001b[0m9.686e-05\u001b[0m | \u001b[0m0.4448   \u001b[0m | \u001b[0m723.1    \u001b[0m |\n"
     ]
    },
    {
     "name": "stderr",
     "output_type": "stream",
     "text": [
      "Running Model-728: 5499it [00:00, 8480.31it/s]<?, ?it/s]\n",
      "Running Model-728: 100%|██████████| 1/1 [00:00<00:00,  1.52it/s]\n"
     ]
    },
    {
     "name": "stdout",
     "output_type": "stream",
     "text": [
      "Fitting node Ridge-162...\n"
     ]
    },
    {
     "name": "stderr",
     "output_type": "stream",
     "text": [
      "Running Model-728: 2299it [00:00, 10176.83it/s]         \n"
     ]
    },
    {
     "name": "stdout",
     "output_type": "stream",
     "text": [
      "| \u001b[95m9        \u001b[0m | \u001b[95m5.658    \u001b[0m | \u001b[95m8.776e-05\u001b[0m | \u001b[95m1.084    \u001b[0m | \u001b[95m176.5    \u001b[0m |\n"
     ]
    },
    {
     "name": "stderr",
     "output_type": "stream",
     "text": [
      "Running Model-733: 5499it [00:01, 4830.70it/s]<?, ?it/s]\n",
      "Running Model-733: 100%|██████████| 1/1 [00:01<00:00,  1.21s/it]\n"
     ]
    },
    {
     "name": "stdout",
     "output_type": "stream",
     "text": [
      "Fitting node Ridge-163...\n"
     ]
    },
    {
     "name": "stderr",
     "output_type": "stream",
     "text": [
      "Running Model-733: 2299it [00:00, 5379.81it/s]          \n"
     ]
    },
    {
     "name": "stdout",
     "output_type": "stream",
     "text": [
      "| \u001b[0m10       \u001b[0m | \u001b[0m0.01363  \u001b[0m | \u001b[0m4.866e-06\u001b[0m | \u001b[0m0.2868   \u001b[0m | \u001b[0m890.3    \u001b[0m |\n"
     ]
    },
    {
     "name": "stderr",
     "output_type": "stream",
     "text": [
      "Running Model-738: 5499it [00:01, 4470.00it/s]<?, ?it/s]\n",
      "Running Model-738: 100%|██████████| 1/1 [00:01<00:00,  1.31s/it]\n"
     ]
    },
    {
     "name": "stdout",
     "output_type": "stream",
     "text": [
      "Fitting node Ridge-164...\n"
     ]
    },
    {
     "name": "stderr",
     "output_type": "stream",
     "text": [
      "Running Model-738: 2299it [00:00, 5032.49it/s]          \n"
     ]
    },
    {
     "name": "stdout",
     "output_type": "stream",
     "text": [
      "| \u001b[0m11       \u001b[0m | \u001b[0m5.547    \u001b[0m | \u001b[0m1.074e-05\u001b[0m | \u001b[0m0.5632   \u001b[0m | \u001b[0m962.1    \u001b[0m |\n"
     ]
    },
    {
     "name": "stderr",
     "output_type": "stream",
     "text": [
      "Running Model-743: 5499it [00:00, 7539.63it/s]<?, ?it/s]\n",
      "Running Model-743: 100%|██████████| 1/1 [00:00<00:00,  1.33it/s]\n"
     ]
    },
    {
     "name": "stdout",
     "output_type": "stream",
     "text": [
      "Fitting node Ridge-165...\n"
     ]
    },
    {
     "name": "stderr",
     "output_type": "stream",
     "text": [
      "Running Model-743: 2299it [00:00, 9008.94it/s]          \n"
     ]
    },
    {
     "name": "stdout",
     "output_type": "stream",
     "text": [
      "| \u001b[0m12       \u001b[0m | \u001b[0m5.641    \u001b[0m | \u001b[0m5.378e-05\u001b[0m | \u001b[0m0.8611   \u001b[0m | \u001b[0m384.0    \u001b[0m |\n"
     ]
    },
    {
     "name": "stderr",
     "output_type": "stream",
     "text": [
      "Running Model-748: 5499it [00:00, 8931.02it/s]<?, ?it/s]\n",
      "Running Model-748: 100%|██████████| 1/1 [00:00<00:00,  1.61it/s]\n"
     ]
    },
    {
     "name": "stdout",
     "output_type": "stream",
     "text": [
      "Fitting node Ridge-166...\n"
     ]
    },
    {
     "name": "stderr",
     "output_type": "stream",
     "text": [
      "Running Model-748: 2299it [00:00, 11064.72it/s]         \n"
     ]
    },
    {
     "name": "stdout",
     "output_type": "stream",
     "text": [
      "| \u001b[0m13       \u001b[0m | \u001b[0m5.625    \u001b[0m | \u001b[0m6.896e-05\u001b[0m | \u001b[0m1.018    \u001b[0m | \u001b[0m116.5    \u001b[0m |\n"
     ]
    },
    {
     "name": "stderr",
     "output_type": "stream",
     "text": [
      "Running Model-753: 5499it [00:01, 5260.37it/s]<?, ?it/s]\n",
      "Running Model-753: 100%|██████████| 1/1 [00:01<00:00,  1.10s/it]\n"
     ]
    },
    {
     "name": "stdout",
     "output_type": "stream",
     "text": [
      "Fitting node Ridge-167...\n"
     ]
    },
    {
     "name": "stderr",
     "output_type": "stream",
     "text": [
      "Running Model-753: 2299it [00:00, 6010.94it/s]          \n"
     ]
    },
    {
     "name": "stdout",
     "output_type": "stream",
     "text": [
      "| \u001b[0m14       \u001b[0m | \u001b[0m4.991    \u001b[0m | \u001b[0m7.526e-05\u001b[0m | \u001b[0m1.188    \u001b[0m | \u001b[0m773.3    \u001b[0m |\n"
     ]
    },
    {
     "name": "stderr",
     "output_type": "stream",
     "text": [
      "Running Model-758: 5499it [00:00, 8470.10it/s]<?, ?it/s]\n",
      "Running Model-758: 100%|██████████| 1/1 [00:00<00:00,  1.52it/s]\n"
     ]
    },
    {
     "name": "stdout",
     "output_type": "stream",
     "text": [
      "Fitting node Ridge-168...\n"
     ]
    },
    {
     "name": "stderr",
     "output_type": "stream",
     "text": [
      "Running Model-758: 2299it [00:00, 10184.73it/s]         \n"
     ]
    },
    {
     "name": "stdout",
     "output_type": "stream",
     "text": [
      "| \u001b[0m15       \u001b[0m | \u001b[0m0.02628  \u001b[0m | \u001b[0m2.876e-05\u001b[0m | \u001b[0m0.9682   \u001b[0m | \u001b[0m192.9    \u001b[0m |\n"
     ]
    },
    {
     "name": "stderr",
     "output_type": "stream",
     "text": [
      "Running Model-763: 5499it [00:00, 7652.62it/s]<?, ?it/s]\n",
      "Running Model-763: 100%|██████████| 1/1 [00:00<00:00,  1.35it/s]\n"
     ]
    },
    {
     "name": "stdout",
     "output_type": "stream",
     "text": [
      "Fitting node Ridge-169...\n"
     ]
    },
    {
     "name": "stderr",
     "output_type": "stream",
     "text": [
      "Running Model-763: 2299it [00:00, 9178.09it/s]          \n"
     ]
    },
    {
     "name": "stdout",
     "output_type": "stream",
     "text": [
      "| \u001b[0m16       \u001b[0m | \u001b[0m5.542    \u001b[0m | \u001b[0m4.534e-05\u001b[0m | \u001b[0m1.099    \u001b[0m | \u001b[0m364.3    \u001b[0m |\n"
     ]
    },
    {
     "name": "stderr",
     "output_type": "stream",
     "text": [
      "Running Model-768: 5499it [00:00, 8661.37it/s]<?, ?it/s]\n",
      "Running Model-768: 100%|██████████| 1/1 [00:00<00:00,  1.56it/s]\n"
     ]
    },
    {
     "name": "stdout",
     "output_type": "stream",
     "text": [
      "Fitting node Ridge-170...\n"
     ]
    },
    {
     "name": "stderr",
     "output_type": "stream",
     "text": [
      "Running Model-768: 2299it [00:00, 10621.71it/s]         \n"
     ]
    },
    {
     "name": "stdout",
     "output_type": "stream",
     "text": [
      "| \u001b[0m17       \u001b[0m | \u001b[0m0.03363  \u001b[0m | \u001b[0m2.949e-05\u001b[0m | \u001b[0m0.243    \u001b[0m | \u001b[0m117.4    \u001b[0m |\n"
     ]
    },
    {
     "name": "stderr",
     "output_type": "stream",
     "text": [
      "Running Model-773: 5499it [00:00, 7575.67it/s]<?, ?it/s]\n",
      "Running Model-773: 100%|██████████| 1/1 [00:00<00:00,  1.34it/s]\n"
     ]
    },
    {
     "name": "stdout",
     "output_type": "stream",
     "text": [
      "Fitting node Ridge-171...\n"
     ]
    },
    {
     "name": "stderr",
     "output_type": "stream",
     "text": [
      "Running Model-773: 2299it [00:00, 9397.35it/s]          \n"
     ]
    },
    {
     "name": "stdout",
     "output_type": "stream",
     "text": [
      "| \u001b[0m18       \u001b[0m | \u001b[0m5.023    \u001b[0m | \u001b[0m6.82e-05 \u001b[0m | \u001b[0m0.3328   \u001b[0m | \u001b[0m339.0    \u001b[0m |\n"
     ]
    },
    {
     "name": "stderr",
     "output_type": "stream",
     "text": [
      "Running Model-778: 5499it [00:00, 6084.37it/s]<?, ?it/s]\n",
      "Running Model-778: 100%|██████████| 1/1 [00:00<00:00,  1.06it/s]\n"
     ]
    },
    {
     "name": "stdout",
     "output_type": "stream",
     "text": [
      "Fitting node Ridge-172...\n"
     ]
    },
    {
     "name": "stderr",
     "output_type": "stream",
     "text": [
      "Running Model-778: 2299it [00:00, 7192.06it/s]          \n"
     ]
    },
    {
     "name": "stdout",
     "output_type": "stream",
     "text": [
      "| \u001b[0m19       \u001b[0m | \u001b[0m5.013    \u001b[0m | \u001b[0m4.967e-05\u001b[0m | \u001b[0m0.1587   \u001b[0m | \u001b[0m616.7    \u001b[0m |\n"
     ]
    },
    {
     "name": "stderr",
     "output_type": "stream",
     "text": [
      "Running Model-783: 5499it [00:00, 5635.98it/s]<?, ?it/s]\n",
      "Running Model-783: 100%|██████████| 1/1 [00:01<00:00,  1.03s/it]\n"
     ]
    },
    {
     "name": "stdout",
     "output_type": "stream",
     "text": [
      "Fitting node Ridge-173...\n"
     ]
    },
    {
     "name": "stderr",
     "output_type": "stream",
     "text": [
      "Running Model-783: 2299it [00:00, 6345.49it/s]          \n"
     ]
    },
    {
     "name": "stdout",
     "output_type": "stream",
     "text": [
      "| \u001b[0m20       \u001b[0m | \u001b[0m0.004458 \u001b[0m | \u001b[0m1.553e-05\u001b[0m | \u001b[0m0.7482   \u001b[0m | \u001b[0m729.8    \u001b[0m |\n"
     ]
    },
    {
     "name": "stderr",
     "output_type": "stream",
     "text": [
      "Running Model-788: 5499it [00:01, 5311.81it/s]<?, ?it/s]\n",
      "Running Model-788: 100%|██████████| 1/1 [00:01<00:00,  1.09s/it]\n"
     ]
    },
    {
     "name": "stdout",
     "output_type": "stream",
     "text": [
      "Fitting node Ridge-174...\n"
     ]
    },
    {
     "name": "stderr",
     "output_type": "stream",
     "text": [
      "Running Model-788: 2299it [00:00, 6143.41it/s]          \n"
     ]
    },
    {
     "name": "stdout",
     "output_type": "stream",
     "text": [
      "| \u001b[0m21       \u001b[0m | \u001b[0m0.03868  \u001b[0m | \u001b[0m3.821e-05\u001b[0m | \u001b[0m0.9689   \u001b[0m | \u001b[0m797.0    \u001b[0m |\n"
     ]
    },
    {
     "name": "stderr",
     "output_type": "stream",
     "text": [
      "Running Model-793: 5499it [00:00, 7915.69it/s]<?, ?it/s]\n",
      "Running Model-793: 100%|██████████| 1/1 [00:00<00:00,  1.41it/s]\n"
     ]
    },
    {
     "name": "stdout",
     "output_type": "stream",
     "text": [
      "Fitting node Ridge-175...\n"
     ]
    },
    {
     "name": "stderr",
     "output_type": "stream",
     "text": [
      "Running Model-793: 2299it [00:00, 9985.32it/s]          \n"
     ]
    },
    {
     "name": "stdout",
     "output_type": "stream",
     "text": [
      "| \u001b[0m22       \u001b[0m | \u001b[0m0.01485  \u001b[0m | \u001b[0m5.37e-05 \u001b[0m | \u001b[0m0.9661   \u001b[0m | \u001b[0m257.4    \u001b[0m |\n"
     ]
    },
    {
     "name": "stderr",
     "output_type": "stream",
     "text": [
      "Running Model-798: 5499it [00:01, 5292.03it/s]<?, ?it/s]\n",
      "Running Model-798: 100%|██████████| 1/1 [00:01<00:00,  1.09s/it]\n"
     ]
    },
    {
     "name": "stdout",
     "output_type": "stream",
     "text": [
      "Fitting node Ridge-176...\n"
     ]
    },
    {
     "name": "stderr",
     "output_type": "stream",
     "text": [
      "Running Model-798: 2299it [00:00, 6137.99it/s]          \n"
     ]
    },
    {
     "name": "stdout",
     "output_type": "stream",
     "text": [
      "| \u001b[0m23       \u001b[0m | \u001b[0m0.1179   \u001b[0m | \u001b[0m5.999e-05\u001b[0m | \u001b[0m0.3871   \u001b[0m | \u001b[0m772.1    \u001b[0m |\n"
     ]
    },
    {
     "name": "stderr",
     "output_type": "stream",
     "text": [
      "Running Model-803: 5499it [00:01, 4525.88it/s]<?, ?it/s]\n",
      "Running Model-803: 100%|██████████| 1/1 [00:01<00:00,  1.29s/it]\n"
     ]
    },
    {
     "name": "stdout",
     "output_type": "stream",
     "text": [
      "Fitting node Ridge-177...\n"
     ]
    },
    {
     "name": "stderr",
     "output_type": "stream",
     "text": [
      "Running Model-803: 2299it [00:00, 5018.38it/s]          \n"
     ]
    },
    {
     "name": "stdout",
     "output_type": "stream",
     "text": [
      "| \u001b[0m24       \u001b[0m | \u001b[0m5.019    \u001b[0m | \u001b[0m2.352e-05\u001b[0m | \u001b[0m0.2711   \u001b[0m | \u001b[0m952.6    \u001b[0m |\n"
     ]
    },
    {
     "name": "stderr",
     "output_type": "stream",
     "text": [
      "Running Model-808: 5499it [00:00, 8041.38it/s]<?, ?it/s]\n",
      "Running Model-808: 100%|██████████| 1/1 [00:00<00:00,  1.43it/s]\n"
     ]
    },
    {
     "name": "stdout",
     "output_type": "stream",
     "text": [
      "Fitting node Ridge-178...\n"
     ]
    },
    {
     "name": "stderr",
     "output_type": "stream",
     "text": [
      "Running Model-808: 2299it [00:00, 9917.74it/s]          \n"
     ]
    },
    {
     "name": "stdout",
     "output_type": "stream",
     "text": [
      "| \u001b[95m25       \u001b[0m | \u001b[95m5.666    \u001b[0m | \u001b[95m7.29e-05 \u001b[0m | \u001b[95m0.9015   \u001b[0m | \u001b[95m275.2    \u001b[0m |\n"
     ]
    },
    {
     "name": "stderr",
     "output_type": "stream",
     "text": [
      "Running Model-813: 5499it [00:00, 6590.65it/s]<?, ?it/s]\n",
      "Running Model-813: 100%|██████████| 1/1 [00:00<00:00,  1.15it/s]\n"
     ]
    },
    {
     "name": "stdout",
     "output_type": "stream",
     "text": [
      "Fitting node Ridge-179...\n"
     ]
    },
    {
     "name": "stderr",
     "output_type": "stream",
     "text": [
      "Running Model-813: 2299it [00:00, 8011.37it/s]          \n"
     ]
    },
    {
     "name": "stdout",
     "output_type": "stream",
     "text": [
      "| \u001b[0m26       \u001b[0m | \u001b[0m5.585    \u001b[0m | \u001b[0m4.755e-05\u001b[0m | \u001b[0m0.5658   \u001b[0m | \u001b[0m524.7    \u001b[0m |\n"
     ]
    },
    {
     "name": "stderr",
     "output_type": "stream",
     "text": [
      "Running Model-818: 5499it [00:00, 6615.78it/s]<?, ?it/s]\n",
      "Running Model-818: 100%|██████████| 1/1 [00:00<00:00,  1.16it/s]\n"
     ]
    },
    {
     "name": "stdout",
     "output_type": "stream",
     "text": [
      "Fitting node Ridge-180...\n"
     ]
    },
    {
     "name": "stderr",
     "output_type": "stream",
     "text": [
      "Running Model-818: 2299it [00:00, 7854.89it/s]          \n"
     ]
    },
    {
     "name": "stdout",
     "output_type": "stream",
     "text": [
      "| \u001b[95m27       \u001b[0m | \u001b[95m5.678    \u001b[0m | \u001b[95m9.559e-05\u001b[0m | \u001b[95m0.8305   \u001b[0m | \u001b[95m523.6    \u001b[0m |\n"
     ]
    },
    {
     "name": "stderr",
     "output_type": "stream",
     "text": [
      "Running Model-823: 5499it [00:00, 8696.94it/s]<?, ?it/s]\n",
      "Running Model-823: 100%|██████████| 1/1 [00:00<00:00,  1.56it/s]\n"
     ]
    },
    {
     "name": "stdout",
     "output_type": "stream",
     "text": [
      "Fitting node Ridge-181...\n"
     ]
    },
    {
     "name": "stderr",
     "output_type": "stream",
     "text": [
      "Running Model-823: 2299it [00:00, 10946.73it/s]         \n"
     ]
    },
    {
     "name": "stdout",
     "output_type": "stream",
     "text": [
      "| \u001b[95m28       \u001b[0m | \u001b[95m5.678    \u001b[0m | \u001b[95m9.348e-05\u001b[0m | \u001b[95m0.8836   \u001b[0m | \u001b[95m124.7    \u001b[0m |\n"
     ]
    },
    {
     "name": "stderr",
     "output_type": "stream",
     "text": [
      "Running Model-828: 5499it [00:00, 8810.15it/s]<?, ?it/s]\n",
      "Running Model-828: 100%|██████████| 1/1 [00:00<00:00,  1.59it/s]\n"
     ]
    },
    {
     "name": "stdout",
     "output_type": "stream",
     "text": [
      "Fitting node Ridge-182...\n"
     ]
    },
    {
     "name": "stderr",
     "output_type": "stream",
     "text": [
      "Running Model-828: 2299it [00:00, 10741.42it/s]         \n"
     ]
    },
    {
     "name": "stdout",
     "output_type": "stream",
     "text": [
      "| \u001b[0m29       \u001b[0m | \u001b[0m5.618    \u001b[0m | \u001b[0m3.615e-05\u001b[0m | \u001b[0m0.9161   \u001b[0m | \u001b[0m115.5    \u001b[0m |\n"
     ]
    },
    {
     "name": "stderr",
     "output_type": "stream",
     "text": [
      "Running Model-833: 5499it [00:00, 8171.36it/s]<?, ?it/s]\n",
      "Running Model-833: 100%|██████████| 1/1 [00:00<00:00,  1.45it/s]\n"
     ]
    },
    {
     "name": "stdout",
     "output_type": "stream",
     "text": [
      "Fitting node Ridge-183...\n"
     ]
    },
    {
     "name": "stderr",
     "output_type": "stream",
     "text": [
      "Running Model-833: 2299it [00:00, 9903.87it/s]          \n"
     ]
    },
    {
     "name": "stdout",
     "output_type": "stream",
     "text": [
      "| \u001b[0m30       \u001b[0m | \u001b[0m5.012    \u001b[0m | \u001b[0m5.291e-05\u001b[0m | \u001b[0m0.1239   \u001b[0m | \u001b[0m276.3    \u001b[0m |\n"
     ]
    },
    {
     "name": "stderr",
     "output_type": "stream",
     "text": [
      "Running Model-838: 5499it [00:00, 8918.13it/s]<?, ?it/s]\n",
      "Running Model-838: 100%|██████████| 1/1 [00:00<00:00,  1.60it/s]\n"
     ]
    },
    {
     "name": "stdout",
     "output_type": "stream",
     "text": [
      "Fitting node Ridge-184...\n"
     ]
    },
    {
     "name": "stderr",
     "output_type": "stream",
     "text": [
      "Running Model-838: 2299it [00:00, 10723.91it/s]         \n"
     ]
    },
    {
     "name": "stdout",
     "output_type": "stream",
     "text": [
      "| \u001b[0m31       \u001b[0m | \u001b[0m5.648    \u001b[0m | \u001b[0m7.016e-05\u001b[0m | \u001b[0m1.124    \u001b[0m | \u001b[0m126.2    \u001b[0m |\n"
     ]
    },
    {
     "name": "stderr",
     "output_type": "stream",
     "text": [
      "Running Model-843: 5499it [00:00, 8293.08it/s]<?, ?it/s]\n",
      "Running Model-843: 100%|██████████| 1/1 [00:00<00:00,  1.49it/s]\n"
     ]
    },
    {
     "name": "stdout",
     "output_type": "stream",
     "text": [
      "Fitting node Ridge-185...\n"
     ]
    },
    {
     "name": "stderr",
     "output_type": "stream",
     "text": [
      "Running Model-843: 2299it [00:00, 10146.90it/s]         \n"
     ]
    },
    {
     "name": "stdout",
     "output_type": "stream",
     "text": [
      "| \u001b[0m32       \u001b[0m | \u001b[0m5.659    \u001b[0m | \u001b[0m1.64e-05 \u001b[0m | \u001b[0m1.184    \u001b[0m | \u001b[0m178.1    \u001b[0m |\n"
     ]
    },
    {
     "name": "stderr",
     "output_type": "stream",
     "text": [
      "Running Model-848: 5499it [00:01, 5191.99it/s]<?, ?it/s]\n",
      "Running Model-848: 100%|██████████| 1/1 [00:01<00:00,  1.11s/it]\n"
     ]
    },
    {
     "name": "stdout",
     "output_type": "stream",
     "text": [
      "Fitting node Ridge-186...\n"
     ]
    },
    {
     "name": "stderr",
     "output_type": "stream",
     "text": [
      "Running Model-848: 2299it [00:00, 6051.20it/s]          \n"
     ]
    },
    {
     "name": "stdout",
     "output_type": "stream",
     "text": [
      "| \u001b[0m33       \u001b[0m | \u001b[0m5.454    \u001b[0m | \u001b[0m5.688e-05\u001b[0m | \u001b[0m1.073    \u001b[0m | \u001b[0m775.0    \u001b[0m |\n"
     ]
    },
    {
     "name": "stderr",
     "output_type": "stream",
     "text": [
      "Running Model-853: 5499it [00:00, 7390.51it/s]<?, ?it/s]\n",
      "Running Model-853: 100%|██████████| 1/1 [00:00<00:00,  1.30it/s]\n"
     ]
    },
    {
     "name": "stdout",
     "output_type": "stream",
     "text": [
      "Fitting node Ridge-187...\n"
     ]
    },
    {
     "name": "stderr",
     "output_type": "stream",
     "text": [
      "Running Model-853: 2299it [00:00, 8884.82it/s]          \n"
     ]
    },
    {
     "name": "stdout",
     "output_type": "stream",
     "text": [
      "| \u001b[0m34       \u001b[0m | \u001b[0m5.015    \u001b[0m | \u001b[0m5.931e-05\u001b[0m | \u001b[0m0.2692   \u001b[0m | \u001b[0m382.3    \u001b[0m |\n"
     ]
    },
    {
     "name": "stderr",
     "output_type": "stream",
     "text": [
      "Running Model-858: 5499it [00:00, 7874.36it/s]<?, ?it/s]\n",
      "Running Model-858: 100%|██████████| 1/1 [00:00<00:00,  1.40it/s]\n"
     ]
    },
    {
     "name": "stdout",
     "output_type": "stream",
     "text": [
      "Fitting node Ridge-188...\n"
     ]
    },
    {
     "name": "stderr",
     "output_type": "stream",
     "text": [
      "Running Model-858: 2299it [00:00, 9286.62it/s]          \n"
     ]
    },
    {
     "name": "stdout",
     "output_type": "stream",
     "text": [
      "| \u001b[0m35       \u001b[0m | \u001b[0m5.012    \u001b[0m | \u001b[0m7.638e-05\u001b[0m | \u001b[0m0.1111   \u001b[0m | \u001b[0m273.6    \u001b[0m |\n"
     ]
    },
    {
     "name": "stderr",
     "output_type": "stream",
     "text": [
      "Running Model-863: 5499it [00:00, 5562.41it/s]<?, ?it/s]\n",
      "Running Model-863: 100%|██████████| 1/1 [00:01<00:00,  1.04s/it]\n"
     ]
    },
    {
     "name": "stdout",
     "output_type": "stream",
     "text": [
      "Fitting node Ridge-189...\n"
     ]
    },
    {
     "name": "stderr",
     "output_type": "stream",
     "text": [
      "Running Model-863: 2299it [00:00, 6357.09it/s]          \n"
     ]
    },
    {
     "name": "stdout",
     "output_type": "stream",
     "text": [
      "| \u001b[0m36       \u001b[0m | \u001b[0m5.598    \u001b[0m | \u001b[0m1.564e-05\u001b[0m | \u001b[0m0.8269   \u001b[0m | \u001b[0m718.5    \u001b[0m |\n"
     ]
    },
    {
     "name": "stderr",
     "output_type": "stream",
     "text": [
      "Running Model-868: 5499it [00:01, 5387.85it/s]<?, ?it/s]\n",
      "Running Model-868: 100%|██████████| 1/1 [00:01<00:00,  1.08s/it]\n"
     ]
    },
    {
     "name": "stdout",
     "output_type": "stream",
     "text": [
      "Fitting node Ridge-190...\n"
     ]
    },
    {
     "name": "stderr",
     "output_type": "stream",
     "text": [
      "Running Model-868: 2299it [00:00, 6188.62it/s]          \n"
     ]
    },
    {
     "name": "stdout",
     "output_type": "stream",
     "text": [
      "| \u001b[0m37       \u001b[0m | \u001b[0m5.575    \u001b[0m | \u001b[0m4.051e-05\u001b[0m | \u001b[0m0.5526   \u001b[0m | \u001b[0m720.8    \u001b[0m |\n"
     ]
    },
    {
     "name": "stderr",
     "output_type": "stream",
     "text": [
      "Running Model-873: 5499it [00:00, 6129.11it/s]<?, ?it/s]\n",
      "Running Model-873: 100%|██████████| 1/1 [00:00<00:00,  1.07it/s]\n"
     ]
    },
    {
     "name": "stdout",
     "output_type": "stream",
     "text": [
      "Fitting node Ridge-191...\n"
     ]
    },
    {
     "name": "stderr",
     "output_type": "stream",
     "text": [
      "Running Model-873: 2299it [00:00, 7062.93it/s]          \n"
     ]
    },
    {
     "name": "stdout",
     "output_type": "stream",
     "text": [
      "| \u001b[0m38       \u001b[0m | \u001b[0m5.01     \u001b[0m | \u001b[0m5.442e-05\u001b[0m | \u001b[0m0.1172   \u001b[0m | \u001b[0m604.8    \u001b[0m |\n"
     ]
    },
    {
     "name": "stderr",
     "output_type": "stream",
     "text": [
      "Running Model-878: 5499it [00:00, 7027.00it/s]<?, ?it/s]\n",
      "Running Model-878: 100%|██████████| 1/1 [00:00<00:00,  1.23it/s]\n"
     ]
    },
    {
     "name": "stdout",
     "output_type": "stream",
     "text": [
      "Fitting node Ridge-192...\n"
     ]
    },
    {
     "name": "stderr",
     "output_type": "stream",
     "text": [
      "Running Model-878: 2299it [00:00, 8349.31it/s]          \n"
     ]
    },
    {
     "name": "stdout",
     "output_type": "stream",
     "text": [
      "| \u001b[0m39       \u001b[0m | \u001b[0m5.59     \u001b[0m | \u001b[0m8.174e-05\u001b[0m | \u001b[0m0.5479   \u001b[0m | \u001b[0m455.1    \u001b[0m |\n"
     ]
    },
    {
     "name": "stderr",
     "output_type": "stream",
     "text": [
      "Running Model-883: 5499it [00:00, 8284.56it/s]<?, ?it/s]\n",
      "Running Model-883: 100%|██████████| 1/1 [00:00<00:00,  1.48it/s]\n"
     ]
    },
    {
     "name": "stdout",
     "output_type": "stream",
     "text": [
      "Fitting node Ridge-193...\n"
     ]
    },
    {
     "name": "stderr",
     "output_type": "stream",
     "text": [
      "Running Model-883: 2299it [00:00, 10418.32it/s]         \n"
     ]
    },
    {
     "name": "stdout",
     "output_type": "stream",
     "text": [
      "| \u001b[0m40       \u001b[0m | \u001b[0m5.58     \u001b[0m | \u001b[0m3.133e-05\u001b[0m | \u001b[0m0.6816   \u001b[0m | \u001b[0m180.3    \u001b[0m |\n"
     ]
    },
    {
     "name": "stderr",
     "output_type": "stream",
     "text": [
      "Running Model-888: 5499it [00:00, 7347.28it/s]<?, ?it/s]\n",
      "Running Model-888: 100%|██████████| 1/1 [00:00<00:00,  1.29it/s]\n"
     ]
    },
    {
     "name": "stdout",
     "output_type": "stream",
     "text": [
      "Fitting node Ridge-194...\n"
     ]
    },
    {
     "name": "stderr",
     "output_type": "stream",
     "text": [
      "Running Model-888: 2299it [00:00, 8991.38it/s]          \n"
     ]
    },
    {
     "name": "stdout",
     "output_type": "stream",
     "text": [
      "| \u001b[0m41       \u001b[0m | \u001b[0m5.01     \u001b[0m | \u001b[0m9.908e-05\u001b[0m | \u001b[0m0.119    \u001b[0m | \u001b[0m385.9    \u001b[0m |\n"
     ]
    },
    {
     "name": "stderr",
     "output_type": "stream",
     "text": [
      "Running Model-893: 5499it [00:01, 4386.37it/s]<?, ?it/s]\n",
      "Running Model-893: 100%|██████████| 1/1 [00:01<00:00,  1.33s/it]\n"
     ]
    },
    {
     "name": "stdout",
     "output_type": "stream",
     "text": [
      "Fitting node Ridge-195...\n"
     ]
    },
    {
     "name": "stderr",
     "output_type": "stream",
     "text": [
      "Running Model-893: 2299it [00:00, 4893.70it/s]          \n"
     ]
    },
    {
     "name": "stdout",
     "output_type": "stream",
     "text": [
      "| \u001b[0m42       \u001b[0m | \u001b[0m5.013    \u001b[0m | \u001b[0m5.9e-05  \u001b[0m | \u001b[0m0.2      \u001b[0m | \u001b[0m960.0    \u001b[0m |\n"
     ]
    },
    {
     "name": "stderr",
     "output_type": "stream",
     "text": [
      "Running Model-898: 5499it [00:00, 7470.31it/s]<?, ?it/s]\n",
      "Running Model-898: 100%|██████████| 1/1 [00:00<00:00,  1.32it/s]\n"
     ]
    },
    {
     "name": "stdout",
     "output_type": "stream",
     "text": [
      "Fitting node Ridge-196...\n"
     ]
    },
    {
     "name": "stderr",
     "output_type": "stream",
     "text": [
      "Running Model-898: 2299it [00:00, 8963.11it/s]          \n"
     ]
    },
    {
     "name": "stdout",
     "output_type": "stream",
     "text": [
      "| \u001b[0m43       \u001b[0m | \u001b[0m5.57     \u001b[0m | \u001b[0m3.682e-05\u001b[0m | \u001b[0m0.669    \u001b[0m | \u001b[0m362.2    \u001b[0m |\n"
     ]
    },
    {
     "name": "stderr",
     "output_type": "stream",
     "text": [
      "Running Model-903: 5499it [00:00, 6160.65it/s]<?, ?it/s]\n",
      "Running Model-903: 100%|██████████| 1/1 [00:00<00:00,  1.07it/s]\n"
     ]
    },
    {
     "name": "stdout",
     "output_type": "stream",
     "text": [
      "Fitting node Ridge-197...\n"
     ]
    },
    {
     "name": "stderr",
     "output_type": "stream",
     "text": [
      "Running Model-903: 2299it [00:00, 7208.39it/s]          \n"
     ]
    },
    {
     "name": "stdout",
     "output_type": "stream",
     "text": [
      "| \u001b[0m44       \u001b[0m | \u001b[0m5.61     \u001b[0m | \u001b[0m7.786e-05\u001b[0m | \u001b[0m0.9986   \u001b[0m | \u001b[0m600.7    \u001b[0m |\n"
     ]
    },
    {
     "name": "stderr",
     "output_type": "stream",
     "text": [
      "Running Model-908: 5499it [00:01, 4460.91it/s]<?, ?it/s]\n",
      "Running Model-908: 100%|██████████| 1/1 [00:01<00:00,  1.31s/it]\n"
     ]
    },
    {
     "name": "stdout",
     "output_type": "stream",
     "text": [
      "Fitting node Ridge-198...\n"
     ]
    },
    {
     "name": "stderr",
     "output_type": "stream",
     "text": [
      "Running Model-908: 2299it [00:00, 4877.53it/s]          "
     ]
    },
    {
     "name": "stdout",
     "output_type": "stream",
     "text": [
      "| \u001b[0m45       \u001b[0m | \u001b[0m0.006012 \u001b[0m | \u001b[0m4.35e-05 \u001b[0m | \u001b[0m0.3698   \u001b[0m | \u001b[0m964.4    \u001b[0m |\n",
      "=============================================================\n"
     ]
    },
    {
     "name": "stderr",
     "output_type": "stream",
     "text": [
      "\n"
     ]
    }
   ],
   "source": [
    "from bayes_opt import BayesianOptimization\n",
    "import random\n",
    "\n",
    "def testDefault(**params):\n",
    "    index = str(random.randint(1000, 10000))\n",
    "    timeDelayedInput = Input(name='delayed_input_'+index)\n",
    "    normalInput = Input(name='normal_input_'+index)\n",
    "    reservoir1 = Reservoir(units=int(params['units']), sr=params['sr'])\n",
    "    reservoir2 = Reservoir(units=int(params['units']), sr=params['sr'])\n",
    "    readout = Ridge(output_dim=1, ridge=params['ridge'])\n",
    "    esn = normalInput >> reservoir1 >> readout & timeDelayedInput >> reservoir2 >> readout\n",
    "    trainX, trainY, testX, testY = getData()\n",
    "\n",
    "    delay = 100\n",
    "    trainXNormal = trainX[delay:]\n",
    "    trainXDelayed = trainX[:-delay]\n",
    "    trainY = trainY[delay:]\n",
    "    \n",
    "    testXNormal = testX[delay:]\n",
    "    testXDelayed = testX[:-delay]\n",
    "    testY = testY[delay:]\n",
    "\n",
    "    esn.fit({'delayed_input_'+index: trainXDelayed, 'normal_input_'+index: trainXNormal}, trainY, warmup=1000)\n",
    "    preds = esn.run({'delayed_input_'+index: testXDelayed, 'normal_input_'+index: testXNormal})\n",
    "    return 1/nrmse(testY, preds)\n",
    "\n",
    "pbounds = {'units': (100, 1000), 'sr': (0.1, 1.2), 'ridge': (1e-6, 1e-4)}\n",
    "\n",
    "optimizer = BayesianOptimization(\n",
    "    f=testDefault,\n",
    "    pbounds=pbounds,\n",
    "    random_state=1,\n",
    ")\n",
    "\n",
    "optimizer.maximize(\n",
    "    init_points=20,\n",
    "    n_iter=25,\n",
    ")"
   ]
  },
  {
   "cell_type": "code",
   "execution_count": 32,
   "metadata": {},
   "outputs": [
    {
     "data": {
      "text/plain": [
       "0.17610533061282987"
      ]
     },
     "execution_count": 32,
     "metadata": {},
     "output_type": "execute_result"
    }
   ],
   "source": [
    "1/optimizer.max['target']"
   ]
  }
 ],
 "metadata": {
  "kernelspec": {
   "display_name": "venv",
   "language": "python",
   "name": "python3"
  },
  "language_info": {
   "codemirror_mode": {
    "name": "ipython",
    "version": 3
   },
   "file_extension": ".py",
   "mimetype": "text/x-python",
   "name": "python",
   "nbconvert_exporter": "python",
   "pygments_lexer": "ipython3",
   "version": "3.9.0"
  },
  "orig_nbformat": 4
 },
 "nbformat": 4,
 "nbformat_minor": 2
}
